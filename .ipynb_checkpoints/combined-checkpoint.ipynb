{
 "cells": [
  {
   "cell_type": "markdown",
   "id": "0913476b",
   "metadata": {},
   "source": [
    "# Global Malnutrition Analysis"
   ]
  },
  {
   "cell_type": "markdown",
   "id": "623a4c12",
   "metadata": {},
   "source": [
    "In this project, we have analyzed several sources of data relevant to malnutrition amongst children ranging from the ages of infant to 5 years old. The major components of our analysis is as follows: \n",
    "\n",
    "1. Extracting data from various sources including UNICEF, World Bank and more (listed below) \n",
    "2. Combining malnutrition data into a single dataframe with information regarding wasting, overweight and stunting conditions amongst the global population of children from 1978 to 2021 \n",
    "3. Analysing countries with the highest prevalence of malnutrition \n",
    "4. Developing a world heat map visualization to see the global malnutrition trend over the years \n",
    "5. Assessing a relationship, if any, between COVID deaths experienced by the country and prevalence of malnutrition among children"
   ]
  },
  {
   "cell_type": "markdown",
   "id": "c58e6457",
   "metadata": {},
   "source": [
    "## Data Sources"
   ]
  },
  {
   "cell_type": "markdown",
   "id": "38d88f69",
   "metadata": {},
   "source": [
    "1. The malnutrtion data is from UNICEF.org and it has the ratio of kids under 5 with stunt/severe stunting, wasted/severe wasted, and overweight problems at country-level from 1970 to 2021.(datalink: https://data.unicef.org/resources/data_explorer/unicef_f/?ag=UNICEF&df=GLOBAL_DATAFLOW&ver=1.0&dq=.NT_ANT_HAZ_NE2+NT_ANT_HAZ_NE3..&startPeriod=2016&endPeriod=2021). \n",
    "\n",
    "2. Country Geopandas data \n",
    "\n",
    "3. COVID deaths data \n",
    "\n",
    "4. Continent & Country Data "
   ]
  },
  {
   "cell_type": "markdown",
   "id": "3dc72a38",
   "metadata": {},
   "source": [
    "## 1. Data Gathering"
   ]
  },
  {
   "cell_type": "code",
   "execution_count": 183,
   "id": "f0c19c76",
   "metadata": {},
   "outputs": [],
   "source": [
    "# download necessary packages\n",
    "\n",
    "import numpy as np  #calculation\n",
    "import pandas as pd  #dataframe\n",
    "import scipy as sp #calculation\n",
    "from scipy.interpolate import interp1d #smooth plot\n",
    "import seaborn as sns #graph\n",
    "import matplotlib.pyplot as plt #plot\n",
    "from sklearn import linear_model #linear regression\n",
    "import statsmodels.api as sm #linear regression model\n",
    "from seaborn import heatmap #map\n",
    "import geopandas as gpd\n",
    "import descartes\n",
    "import warnings\n",
    "warnings.filterwarnings('ignore')"
   ]
  },
  {
   "cell_type": "code",
   "execution_count": 184,
   "id": "fd5c6c03",
   "metadata": {},
   "outputs": [],
   "source": [
    "#download datasets and show headlines"
   ]
  },
  {
   "cell_type": "code",
   "execution_count": 185,
   "id": "fed65a9a",
   "metadata": {},
   "outputs": [
    {
     "data": {
      "text/html": [
       "<div>\n",
       "<style scoped>\n",
       "    .dataframe tbody tr th:only-of-type {\n",
       "        vertical-align: middle;\n",
       "    }\n",
       "\n",
       "    .dataframe tbody tr th {\n",
       "        vertical-align: top;\n",
       "    }\n",
       "\n",
       "    .dataframe thead th {\n",
       "        text-align: right;\n",
       "    }\n",
       "</style>\n",
       "<table border=\"1\" class=\"dataframe\">\n",
       "  <thead>\n",
       "    <tr style=\"text-align: right;\">\n",
       "      <th></th>\n",
       "      <th>DATAFLOW</th>\n",
       "      <th>REF_AREA:Geographic area</th>\n",
       "      <th>INDICATOR:Indicator</th>\n",
       "      <th>SEX:Sex</th>\n",
       "      <th>TIME_PERIOD:Time period</th>\n",
       "      <th>OBS_VALUE:Observation Value</th>\n",
       "      <th>UNIT_MULTIPLIER:Unit multiplier</th>\n",
       "      <th>UNIT_MEASURE:Unit of measure</th>\n",
       "      <th>OBS_STATUS:Observation Status</th>\n",
       "      <th>OBS_CONF:Observation confidentaility</th>\n",
       "      <th>...</th>\n",
       "      <th>WGTD_SAMPL_SIZE:Weighted Sample Size</th>\n",
       "      <th>OBS_FOOTNOTE:Observation footnote</th>\n",
       "      <th>SERIES_FOOTNOTE:Series footnote</th>\n",
       "      <th>DATA_SOURCE:Data Source</th>\n",
       "      <th>SOURCE_LINK:Citation of or link to the data source</th>\n",
       "      <th>CUSTODIAN:Custodian</th>\n",
       "      <th>TIME_PERIOD_METHOD:Time period activity related to when the data are collected</th>\n",
       "      <th>REF_PERIOD:Reference Period</th>\n",
       "      <th>COVERAGE_TIME:The period of time for which data are provided</th>\n",
       "      <th>AGE:Current age</th>\n",
       "    </tr>\n",
       "  </thead>\n",
       "  <tbody>\n",
       "    <tr>\n",
       "      <th>0</th>\n",
       "      <td>UNICEF:GLOBAL_DATAFLOW(1.0): Cross-sector indi...</td>\n",
       "      <td>AFG: Afghanistan</td>\n",
       "      <td>NT_ANT_WHZ_NE2: Weight-for-height &lt;-2 SD (wast...</td>\n",
       "      <td>F: Female</td>\n",
       "      <td>2004</td>\n",
       "      <td>9.3</td>\n",
       "      <td>0: Units</td>\n",
       "      <td>PCNT: %</td>\n",
       "      <td>ER: External Reanalysis</td>\n",
       "      <td>F: Free</td>\n",
       "      <td>...</td>\n",
       "      <td>436.0</td>\n",
       "      <td>Reduced age range Age 0-5 months not covered  ...</td>\n",
       "      <td>UNICEF/WHO/World Bank Joint Malnutrition Estim...</td>\n",
       "      <td>Summary report of the national nutrition surve...</td>\n",
       "      <td>https://data.unicef.org/topic/nutrition/malnut...</td>\n",
       "      <td>UNICEF Division of Data  Analysis  Planning an...</td>\n",
       "      <td>MOF: Middle of fieldwork</td>\n",
       "      <td>NaN</td>\n",
       "      <td>1997-2018</td>\n",
       "      <td>Y0T4: Under 5 years old</td>\n",
       "    </tr>\n",
       "    <tr>\n",
       "      <th>1</th>\n",
       "      <td>UNICEF:GLOBAL_DATAFLOW(1.0): Cross-sector indi...</td>\n",
       "      <td>AFG: Afghanistan</td>\n",
       "      <td>NT_ANT_WHZ_NE2: Weight-for-height &lt;-2 SD (wast...</td>\n",
       "      <td>F: Female</td>\n",
       "      <td>2013</td>\n",
       "      <td>8.7</td>\n",
       "      <td>0: Units</td>\n",
       "      <td>PCNT: %</td>\n",
       "      <td>RA: Reanalysed</td>\n",
       "      <td>F: Free</td>\n",
       "      <td>...</td>\n",
       "      <td>2080089.9</td>\n",
       "      <td>Oedema data was not considered in the analysis...</td>\n",
       "      <td>UNICEF/WHO/World Bank Joint Malnutrition Estim...</td>\n",
       "      <td>Afghanistan National Nutrition Survey 2013</td>\n",
       "      <td>https://data.unicef.org/topic/nutrition/malnut...</td>\n",
       "      <td>UNICEF Division of Data  Analysis  Planning an...</td>\n",
       "      <td>MOF: Middle of fieldwork</td>\n",
       "      <td>NaN</td>\n",
       "      <td>1997-2018</td>\n",
       "      <td>Y0T4: Under 5 years old</td>\n",
       "    </tr>\n",
       "    <tr>\n",
       "      <th>2</th>\n",
       "      <td>UNICEF:GLOBAL_DATAFLOW(1.0): Cross-sector indi...</td>\n",
       "      <td>AFG: Afghanistan</td>\n",
       "      <td>NT_ANT_WHZ_NE2: Weight-for-height &lt;-2 SD (wast...</td>\n",
       "      <td>F: Female</td>\n",
       "      <td>2018</td>\n",
       "      <td>4.1</td>\n",
       "      <td>0: Units</td>\n",
       "      <td>PCNT: %</td>\n",
       "      <td>RA: Reanalysed</td>\n",
       "      <td>F: Free</td>\n",
       "      <td>...</td>\n",
       "      <td>9593.1</td>\n",
       "      <td>Oedema data was not considered in the analysis...</td>\n",
       "      <td>UNICEF/WHO/World Bank Joint Malnutrition Estim...</td>\n",
       "      <td>Afghanistan Health Survey 2018</td>\n",
       "      <td>https://data.unicef.org/topic/nutrition/malnut...</td>\n",
       "      <td>UNICEF Division of Data  Analysis  Planning an...</td>\n",
       "      <td>MOF: Middle of fieldwork</td>\n",
       "      <td>NaN</td>\n",
       "      <td>1997-2018</td>\n",
       "      <td>Y0T4: Under 5 years old</td>\n",
       "    </tr>\n",
       "  </tbody>\n",
       "</table>\n",
       "<p>3 rows × 22 columns</p>\n",
       "</div>"
      ],
      "text/plain": [
       "                                            DATAFLOW REF_AREA:Geographic area  \\\n",
       "0  UNICEF:GLOBAL_DATAFLOW(1.0): Cross-sector indi...         AFG: Afghanistan   \n",
       "1  UNICEF:GLOBAL_DATAFLOW(1.0): Cross-sector indi...         AFG: Afghanistan   \n",
       "2  UNICEF:GLOBAL_DATAFLOW(1.0): Cross-sector indi...         AFG: Afghanistan   \n",
       "\n",
       "                                 INDICATOR:Indicator    SEX:Sex  \\\n",
       "0  NT_ANT_WHZ_NE2: Weight-for-height <-2 SD (wast...  F: Female   \n",
       "1  NT_ANT_WHZ_NE2: Weight-for-height <-2 SD (wast...  F: Female   \n",
       "2  NT_ANT_WHZ_NE2: Weight-for-height <-2 SD (wast...  F: Female   \n",
       "\n",
       "  TIME_PERIOD:Time period  OBS_VALUE:Observation Value  \\\n",
       "0                    2004                          9.3   \n",
       "1                    2013                          8.7   \n",
       "2                    2018                          4.1   \n",
       "\n",
       "  UNIT_MULTIPLIER:Unit multiplier UNIT_MEASURE:Unit of measure  \\\n",
       "0                        0: Units                      PCNT: %   \n",
       "1                        0: Units                      PCNT: %   \n",
       "2                        0: Units                      PCNT: %   \n",
       "\n",
       "  OBS_STATUS:Observation Status OBS_CONF:Observation confidentaility  ...  \\\n",
       "0       ER: External Reanalysis                              F: Free  ...   \n",
       "1                RA: Reanalysed                              F: Free  ...   \n",
       "2                RA: Reanalysed                              F: Free  ...   \n",
       "\n",
       "   WGTD_SAMPL_SIZE:Weighted Sample Size  \\\n",
       "0                                 436.0   \n",
       "1                             2080089.9   \n",
       "2                                9593.1   \n",
       "\n",
       "                   OBS_FOOTNOTE:Observation footnote  \\\n",
       "0  Reduced age range Age 0-5 months not covered  ...   \n",
       "1  Oedema data was not considered in the analysis...   \n",
       "2  Oedema data was not considered in the analysis...   \n",
       "\n",
       "                     SERIES_FOOTNOTE:Series footnote  \\\n",
       "0  UNICEF/WHO/World Bank Joint Malnutrition Estim...   \n",
       "1  UNICEF/WHO/World Bank Joint Malnutrition Estim...   \n",
       "2  UNICEF/WHO/World Bank Joint Malnutrition Estim...   \n",
       "\n",
       "                             DATA_SOURCE:Data Source  \\\n",
       "0  Summary report of the national nutrition surve...   \n",
       "1         Afghanistan National Nutrition Survey 2013   \n",
       "2                     Afghanistan Health Survey 2018   \n",
       "\n",
       "  SOURCE_LINK:Citation of or link to the data source  \\\n",
       "0  https://data.unicef.org/topic/nutrition/malnut...   \n",
       "1  https://data.unicef.org/topic/nutrition/malnut...   \n",
       "2  https://data.unicef.org/topic/nutrition/malnut...   \n",
       "\n",
       "                                 CUSTODIAN:Custodian  \\\n",
       "0  UNICEF Division of Data  Analysis  Planning an...   \n",
       "1  UNICEF Division of Data  Analysis  Planning an...   \n",
       "2  UNICEF Division of Data  Analysis  Planning an...   \n",
       "\n",
       "  TIME_PERIOD_METHOD:Time period activity related to when the data are collected  \\\n",
       "0                           MOF: Middle of fieldwork                               \n",
       "1                           MOF: Middle of fieldwork                               \n",
       "2                           MOF: Middle of fieldwork                               \n",
       "\n",
       "  REF_PERIOD:Reference Period  \\\n",
       "0                         NaN   \n",
       "1                         NaN   \n",
       "2                         NaN   \n",
       "\n",
       "  COVERAGE_TIME:The period of time for which data are provided  \\\n",
       "0                                          1997-2018             \n",
       "1                                          1997-2018             \n",
       "2                                          1997-2018             \n",
       "\n",
       "           AGE:Current age  \n",
       "0  Y0T4: Under 5 years old  \n",
       "1  Y0T4: Under 5 years old  \n",
       "2  Y0T4: Under 5 years old  \n",
       "\n",
       "[3 rows x 22 columns]"
      ]
     },
     "metadata": {},
     "output_type": "display_data"
    }
   ],
   "source": [
    "wasted_data = pd.read_csv(\"Wasted_Data.csv\")\n",
    "display(wasted_data[:3])"
   ]
  },
  {
   "cell_type": "code",
   "execution_count": 186,
   "id": "ecbd286f",
   "metadata": {
    "scrolled": true
   },
   "outputs": [
    {
     "data": {
      "text/plain": [
       "array(['NT_ANT_WHZ_NE2: Weight-for-height <-2 SD (wasting)'], dtype=object)"
      ]
     },
     "execution_count": 186,
     "metadata": {},
     "output_type": "execute_result"
    }
   ],
   "source": [
    "# make sure the data downloaded is for wasting only\n",
    "wasted_data['INDICATOR:Indicator'].unique() "
   ]
  },
  {
   "cell_type": "code",
   "execution_count": 187,
   "id": "63b68852",
   "metadata": {},
   "outputs": [
    {
     "data": {
      "text/html": [
       "<div>\n",
       "<style scoped>\n",
       "    .dataframe tbody tr th:only-of-type {\n",
       "        vertical-align: middle;\n",
       "    }\n",
       "\n",
       "    .dataframe tbody tr th {\n",
       "        vertical-align: top;\n",
       "    }\n",
       "\n",
       "    .dataframe thead th {\n",
       "        text-align: right;\n",
       "    }\n",
       "</style>\n",
       "<table border=\"1\" class=\"dataframe\">\n",
       "  <thead>\n",
       "    <tr style=\"text-align: right;\">\n",
       "      <th></th>\n",
       "      <th>DATAFLOW</th>\n",
       "      <th>REF_AREA:Geographic area</th>\n",
       "      <th>INDICATOR:Indicator</th>\n",
       "      <th>SEX:Sex</th>\n",
       "      <th>TIME_PERIOD:Time period</th>\n",
       "      <th>OBS_VALUE:Observation Value</th>\n",
       "      <th>UNIT_MULTIPLIER:Unit multiplier</th>\n",
       "      <th>UNIT_MEASURE:Unit of measure</th>\n",
       "      <th>OBS_STATUS:Observation Status</th>\n",
       "      <th>OBS_CONF:Observation confidentaility</th>\n",
       "      <th>...</th>\n",
       "      <th>WGTD_SAMPL_SIZE:Weighted Sample Size</th>\n",
       "      <th>OBS_FOOTNOTE:Observation footnote</th>\n",
       "      <th>SERIES_FOOTNOTE:Series footnote</th>\n",
       "      <th>DATA_SOURCE:Data Source</th>\n",
       "      <th>SOURCE_LINK:Citation of or link to the data source</th>\n",
       "      <th>CUSTODIAN:Custodian</th>\n",
       "      <th>TIME_PERIOD_METHOD:Time period activity related to when the data are collected</th>\n",
       "      <th>REF_PERIOD:Reference Period</th>\n",
       "      <th>COVERAGE_TIME:The period of time for which data are provided</th>\n",
       "      <th>AGE:Current age</th>\n",
       "    </tr>\n",
       "  </thead>\n",
       "  <tbody>\n",
       "    <tr>\n",
       "      <th>0</th>\n",
       "      <td>UNICEF:GLOBAL_DATAFLOW(1.0): Cross-sector indi...</td>\n",
       "      <td>AFG: Afghanistan</td>\n",
       "      <td>NT_ANT_WHZ_NE3: Weight-for-height &lt;-3 SD (seve...</td>\n",
       "      <td>F: Female</td>\n",
       "      <td>2004</td>\n",
       "      <td>4.3</td>\n",
       "      <td>0: Units</td>\n",
       "      <td>PCNT: %</td>\n",
       "      <td>ER: External Reanalysis</td>\n",
       "      <td>F: Free</td>\n",
       "      <td>...</td>\n",
       "      <td>436.0</td>\n",
       "      <td>Reduced age range Age 0-5 months not covered  ...</td>\n",
       "      <td>UNICEF/WHO/World Bank Joint Malnutrition Estim...</td>\n",
       "      <td>Summary report of the national nutrition surve...</td>\n",
       "      <td>https://data.unicef.org/topic/nutrition/malnut...</td>\n",
       "      <td>UNICEF Division of Data  Analysis  Planning an...</td>\n",
       "      <td>MOF: Middle of fieldwork</td>\n",
       "      <td>NaN</td>\n",
       "      <td>2004-2018</td>\n",
       "      <td>Y0T4: Under 5 years old</td>\n",
       "    </tr>\n",
       "  </tbody>\n",
       "</table>\n",
       "<p>1 rows × 22 columns</p>\n",
       "</div>"
      ],
      "text/plain": [
       "                                            DATAFLOW REF_AREA:Geographic area  \\\n",
       "0  UNICEF:GLOBAL_DATAFLOW(1.0): Cross-sector indi...         AFG: Afghanistan   \n",
       "\n",
       "                                 INDICATOR:Indicator    SEX:Sex  \\\n",
       "0  NT_ANT_WHZ_NE3: Weight-for-height <-3 SD (seve...  F: Female   \n",
       "\n",
       "  TIME_PERIOD:Time period  OBS_VALUE:Observation Value  \\\n",
       "0                    2004                          4.3   \n",
       "\n",
       "  UNIT_MULTIPLIER:Unit multiplier UNIT_MEASURE:Unit of measure  \\\n",
       "0                        0: Units                      PCNT: %   \n",
       "\n",
       "  OBS_STATUS:Observation Status OBS_CONF:Observation confidentaility  ...  \\\n",
       "0       ER: External Reanalysis                              F: Free  ...   \n",
       "\n",
       "   WGTD_SAMPL_SIZE:Weighted Sample Size  \\\n",
       "0                                 436.0   \n",
       "\n",
       "                   OBS_FOOTNOTE:Observation footnote  \\\n",
       "0  Reduced age range Age 0-5 months not covered  ...   \n",
       "\n",
       "                     SERIES_FOOTNOTE:Series footnote  \\\n",
       "0  UNICEF/WHO/World Bank Joint Malnutrition Estim...   \n",
       "\n",
       "                             DATA_SOURCE:Data Source  \\\n",
       "0  Summary report of the national nutrition surve...   \n",
       "\n",
       "  SOURCE_LINK:Citation of or link to the data source  \\\n",
       "0  https://data.unicef.org/topic/nutrition/malnut...   \n",
       "\n",
       "                                 CUSTODIAN:Custodian  \\\n",
       "0  UNICEF Division of Data  Analysis  Planning an...   \n",
       "\n",
       "  TIME_PERIOD_METHOD:Time period activity related to when the data are collected  \\\n",
       "0                           MOF: Middle of fieldwork                               \n",
       "\n",
       "  REF_PERIOD:Reference Period  \\\n",
       "0                         NaN   \n",
       "\n",
       "  COVERAGE_TIME:The period of time for which data are provided  \\\n",
       "0                                          2004-2018             \n",
       "\n",
       "           AGE:Current age  \n",
       "0  Y0T4: Under 5 years old  \n",
       "\n",
       "[1 rows x 22 columns]"
      ]
     },
     "metadata": {},
     "output_type": "display_data"
    }
   ],
   "source": [
    "ser_wasted_data=pd.read_csv(\"Severe_Wasted_Data.csv\")\n",
    "display(ser_wasted_data[:1])"
   ]
  },
  {
   "cell_type": "code",
   "execution_count": 188,
   "id": "d2457361",
   "metadata": {},
   "outputs": [
    {
     "data": {
      "text/plain": [
       "array(['NT_ANT_WHZ_NE3: Weight-for-height <-3 SD (severe wasting)'],\n",
       "      dtype=object)"
      ]
     },
     "execution_count": 188,
     "metadata": {},
     "output_type": "execute_result"
    }
   ],
   "source": [
    "ser_wasted_data['INDICATOR:Indicator'].unique() #for severe wasting only"
   ]
  },
  {
   "cell_type": "code",
   "execution_count": 189,
   "id": "464395f5",
   "metadata": {
    "scrolled": false
   },
   "outputs": [
    {
     "data": {
      "text/html": [
       "<div>\n",
       "<style scoped>\n",
       "    .dataframe tbody tr th:only-of-type {\n",
       "        vertical-align: middle;\n",
       "    }\n",
       "\n",
       "    .dataframe tbody tr th {\n",
       "        vertical-align: top;\n",
       "    }\n",
       "\n",
       "    .dataframe thead th {\n",
       "        text-align: right;\n",
       "    }\n",
       "</style>\n",
       "<table border=\"1\" class=\"dataframe\">\n",
       "  <thead>\n",
       "    <tr style=\"text-align: right;\">\n",
       "      <th></th>\n",
       "      <th>DATAFLOW</th>\n",
       "      <th>REF_AREA:Geographic area</th>\n",
       "      <th>INDICATOR:Indicator</th>\n",
       "      <th>SEX:Sex</th>\n",
       "      <th>TIME_PERIOD:Time period</th>\n",
       "      <th>OBS_VALUE:Observation Value</th>\n",
       "      <th>UNIT_MULTIPLIER:Unit multiplier</th>\n",
       "      <th>UNIT_MEASURE:Unit of measure</th>\n",
       "      <th>OBS_STATUS:Observation Status</th>\n",
       "      <th>OBS_CONF:Observation confidentaility</th>\n",
       "      <th>...</th>\n",
       "      <th>WGTD_SAMPL_SIZE:Weighted Sample Size</th>\n",
       "      <th>OBS_FOOTNOTE:Observation footnote</th>\n",
       "      <th>SERIES_FOOTNOTE:Series footnote</th>\n",
       "      <th>DATA_SOURCE:Data Source</th>\n",
       "      <th>SOURCE_LINK:Citation of or link to the data source</th>\n",
       "      <th>CUSTODIAN:Custodian</th>\n",
       "      <th>TIME_PERIOD_METHOD:Time period activity related to when the data are collected</th>\n",
       "      <th>REF_PERIOD:Reference Period</th>\n",
       "      <th>COVERAGE_TIME:The period of time for which data are provided</th>\n",
       "      <th>AGE:Current age</th>\n",
       "    </tr>\n",
       "  </thead>\n",
       "  <tbody>\n",
       "    <tr>\n",
       "      <th>0</th>\n",
       "      <td>UNICEF:GLOBAL_DATAFLOW(1.0): Cross-sector indi...</td>\n",
       "      <td>AFG: Afghanistan</td>\n",
       "      <td>NT_ANT_HAZ_NE2: Height-for-age &lt;-2 SD (stunting)</td>\n",
       "      <td>F: Female</td>\n",
       "      <td>2004</td>\n",
       "      <td>58.5</td>\n",
       "      <td>0: Units</td>\n",
       "      <td>PCNT: %</td>\n",
       "      <td>ER: External Reanalysis</td>\n",
       "      <td>F: Free</td>\n",
       "      <td>...</td>\n",
       "      <td>436.0</td>\n",
       "      <td>Reduced age range Age 0-5 months not covered  ...</td>\n",
       "      <td>UNICEF/WHO/World Bank Joint Malnutrition Estim...</td>\n",
       "      <td>Summary report of the national nutrition surve...</td>\n",
       "      <td>https://data.unicef.org/topic/nutrition/malnut...</td>\n",
       "      <td>UNICEF Division of Data  Analysis  Planning an...</td>\n",
       "      <td>MOF: Middle of fieldwork</td>\n",
       "      <td>NaN</td>\n",
       "      <td>1997-2018</td>\n",
       "      <td>Y0T4: Under 5 years old</td>\n",
       "    </tr>\n",
       "  </tbody>\n",
       "</table>\n",
       "<p>1 rows × 22 columns</p>\n",
       "</div>"
      ],
      "text/plain": [
       "                                            DATAFLOW REF_AREA:Geographic area  \\\n",
       "0  UNICEF:GLOBAL_DATAFLOW(1.0): Cross-sector indi...         AFG: Afghanistan   \n",
       "\n",
       "                                INDICATOR:Indicator    SEX:Sex  \\\n",
       "0  NT_ANT_HAZ_NE2: Height-for-age <-2 SD (stunting)  F: Female   \n",
       "\n",
       "  TIME_PERIOD:Time period  OBS_VALUE:Observation Value  \\\n",
       "0                    2004                         58.5   \n",
       "\n",
       "  UNIT_MULTIPLIER:Unit multiplier UNIT_MEASURE:Unit of measure  \\\n",
       "0                        0: Units                      PCNT: %   \n",
       "\n",
       "  OBS_STATUS:Observation Status OBS_CONF:Observation confidentaility  ...  \\\n",
       "0       ER: External Reanalysis                              F: Free  ...   \n",
       "\n",
       "   WGTD_SAMPL_SIZE:Weighted Sample Size  \\\n",
       "0                                 436.0   \n",
       "\n",
       "                   OBS_FOOTNOTE:Observation footnote  \\\n",
       "0  Reduced age range Age 0-5 months not covered  ...   \n",
       "\n",
       "                     SERIES_FOOTNOTE:Series footnote  \\\n",
       "0  UNICEF/WHO/World Bank Joint Malnutrition Estim...   \n",
       "\n",
       "                             DATA_SOURCE:Data Source  \\\n",
       "0  Summary report of the national nutrition surve...   \n",
       "\n",
       "  SOURCE_LINK:Citation of or link to the data source  \\\n",
       "0  https://data.unicef.org/topic/nutrition/malnut...   \n",
       "\n",
       "                                 CUSTODIAN:Custodian  \\\n",
       "0  UNICEF Division of Data  Analysis  Planning an...   \n",
       "\n",
       "  TIME_PERIOD_METHOD:Time period activity related to when the data are collected  \\\n",
       "0                           MOF: Middle of fieldwork                               \n",
       "\n",
       "  REF_PERIOD:Reference Period  \\\n",
       "0                         NaN   \n",
       "\n",
       "  COVERAGE_TIME:The period of time for which data are provided  \\\n",
       "0                                          1997-2018             \n",
       "\n",
       "           AGE:Current age  \n",
       "0  Y0T4: Under 5 years old  \n",
       "\n",
       "[1 rows x 22 columns]"
      ]
     },
     "metadata": {},
     "output_type": "display_data"
    }
   ],
   "source": [
    "stunted_data = pd.read_csv(\"Stunt_Data.csv\")\n",
    "display(stunted_data[:1])"
   ]
  },
  {
   "cell_type": "code",
   "execution_count": 190,
   "id": "51805a4b",
   "metadata": {
    "scrolled": true
   },
   "outputs": [
    {
     "data": {
      "text/plain": [
       "array(['NT_ANT_HAZ_NE2: Height-for-age <-2 SD (stunting)'], dtype=object)"
      ]
     },
     "execution_count": 190,
     "metadata": {},
     "output_type": "execute_result"
    }
   ],
   "source": [
    "stunted_data['INDICATOR:Indicator'].unique() #stunting only"
   ]
  },
  {
   "cell_type": "code",
   "execution_count": 191,
   "id": "07d88a77",
   "metadata": {
    "scrolled": true
   },
   "outputs": [
    {
     "data": {
      "text/html": [
       "<div>\n",
       "<style scoped>\n",
       "    .dataframe tbody tr th:only-of-type {\n",
       "        vertical-align: middle;\n",
       "    }\n",
       "\n",
       "    .dataframe tbody tr th {\n",
       "        vertical-align: top;\n",
       "    }\n",
       "\n",
       "    .dataframe thead th {\n",
       "        text-align: right;\n",
       "    }\n",
       "</style>\n",
       "<table border=\"1\" class=\"dataframe\">\n",
       "  <thead>\n",
       "    <tr style=\"text-align: right;\">\n",
       "      <th></th>\n",
       "      <th>DATAFLOW</th>\n",
       "      <th>REF_AREA:Geographic area</th>\n",
       "      <th>INDICATOR:Indicator</th>\n",
       "      <th>SEX:Sex</th>\n",
       "      <th>TIME_PERIOD:Time period</th>\n",
       "      <th>OBS_VALUE:Observation Value</th>\n",
       "      <th>UNIT_MULTIPLIER:Unit multiplier</th>\n",
       "      <th>UNIT_MEASURE:Unit of measure</th>\n",
       "      <th>OBS_STATUS:Observation Status</th>\n",
       "      <th>OBS_CONF:Observation confidentaility</th>\n",
       "      <th>...</th>\n",
       "      <th>WGTD_SAMPL_SIZE:Weighted Sample Size</th>\n",
       "      <th>OBS_FOOTNOTE:Observation footnote</th>\n",
       "      <th>SERIES_FOOTNOTE:Series footnote</th>\n",
       "      <th>DATA_SOURCE:Data Source</th>\n",
       "      <th>SOURCE_LINK:Citation of or link to the data source</th>\n",
       "      <th>CUSTODIAN:Custodian</th>\n",
       "      <th>TIME_PERIOD_METHOD:Time period activity related to when the data are collected</th>\n",
       "      <th>REF_PERIOD:Reference Period</th>\n",
       "      <th>COVERAGE_TIME:The period of time for which data are provided</th>\n",
       "      <th>AGE:Current age</th>\n",
       "    </tr>\n",
       "  </thead>\n",
       "  <tbody>\n",
       "    <tr>\n",
       "      <th>0</th>\n",
       "      <td>UNICEF:GLOBAL_DATAFLOW(1.0): Cross-sector indi...</td>\n",
       "      <td>AFG: Afghanistan</td>\n",
       "      <td>NT_ANT_HAZ_NE3: Height-for-age &lt;-3 SD (Severe ...</td>\n",
       "      <td>F: Female</td>\n",
       "      <td>2004</td>\n",
       "      <td>30.9</td>\n",
       "      <td>0: Units</td>\n",
       "      <td>PCNT: %</td>\n",
       "      <td>ER: External Reanalysis</td>\n",
       "      <td>F: Free</td>\n",
       "      <td>...</td>\n",
       "      <td>436.0</td>\n",
       "      <td>Reduced age range Age 0-5 months not covered  ...</td>\n",
       "      <td>UNICEF/WHO/World Bank Joint Malnutrition Estim...</td>\n",
       "      <td>Summary report of the national nutrition surve...</td>\n",
       "      <td>https://data.unicef.org/topic/nutrition/malnut...</td>\n",
       "      <td>UNICEF Division of Data  Analysis  Planning an...</td>\n",
       "      <td>MOF: Middle of fieldwork</td>\n",
       "      <td>NaN</td>\n",
       "      <td>2004-2018</td>\n",
       "      <td>Y0T4: Under 5 years old</td>\n",
       "    </tr>\n",
       "  </tbody>\n",
       "</table>\n",
       "<p>1 rows × 22 columns</p>\n",
       "</div>"
      ],
      "text/plain": [
       "                                            DATAFLOW REF_AREA:Geographic area  \\\n",
       "0  UNICEF:GLOBAL_DATAFLOW(1.0): Cross-sector indi...         AFG: Afghanistan   \n",
       "\n",
       "                                 INDICATOR:Indicator    SEX:Sex  \\\n",
       "0  NT_ANT_HAZ_NE3: Height-for-age <-3 SD (Severe ...  F: Female   \n",
       "\n",
       "  TIME_PERIOD:Time period  OBS_VALUE:Observation Value  \\\n",
       "0                    2004                         30.9   \n",
       "\n",
       "  UNIT_MULTIPLIER:Unit multiplier UNIT_MEASURE:Unit of measure  \\\n",
       "0                        0: Units                      PCNT: %   \n",
       "\n",
       "  OBS_STATUS:Observation Status OBS_CONF:Observation confidentaility  ...  \\\n",
       "0       ER: External Reanalysis                              F: Free  ...   \n",
       "\n",
       "   WGTD_SAMPL_SIZE:Weighted Sample Size  \\\n",
       "0                                 436.0   \n",
       "\n",
       "                   OBS_FOOTNOTE:Observation footnote  \\\n",
       "0  Reduced age range Age 0-5 months not covered  ...   \n",
       "\n",
       "                     SERIES_FOOTNOTE:Series footnote  \\\n",
       "0  UNICEF/WHO/World Bank Joint Malnutrition Estim...   \n",
       "\n",
       "                             DATA_SOURCE:Data Source  \\\n",
       "0  Summary report of the national nutrition surve...   \n",
       "\n",
       "  SOURCE_LINK:Citation of or link to the data source  \\\n",
       "0  https://data.unicef.org/topic/nutrition/malnut...   \n",
       "\n",
       "                                 CUSTODIAN:Custodian  \\\n",
       "0  UNICEF Division of Data  Analysis  Planning an...   \n",
       "\n",
       "  TIME_PERIOD_METHOD:Time period activity related to when the data are collected  \\\n",
       "0                           MOF: Middle of fieldwork                               \n",
       "\n",
       "  REF_PERIOD:Reference Period  \\\n",
       "0                         NaN   \n",
       "\n",
       "  COVERAGE_TIME:The period of time for which data are provided  \\\n",
       "0                                          2004-2018             \n",
       "\n",
       "           AGE:Current age  \n",
       "0  Y0T4: Under 5 years old  \n",
       "\n",
       "[1 rows x 22 columns]"
      ]
     },
     "metadata": {},
     "output_type": "display_data"
    }
   ],
   "source": [
    "ser_stunted_data = pd.read_csv(\"Severe_Stunt_Data.csv\")\n",
    "display(ser_stunted_data[:1])"
   ]
  },
  {
   "cell_type": "code",
   "execution_count": 192,
   "id": "09c5508f",
   "metadata": {},
   "outputs": [
    {
     "data": {
      "text/plain": [
       "array(['NT_ANT_HAZ_NE3: Height-for-age <-3 SD (Severe Stunting)'],\n",
       "      dtype=object)"
      ]
     },
     "execution_count": 192,
     "metadata": {},
     "output_type": "execute_result"
    }
   ],
   "source": [
    "ser_stunted_data['INDICATOR:Indicator'].unique() #severe stunting only"
   ]
  },
  {
   "cell_type": "code",
   "execution_count": 193,
   "id": "e9b3e6da",
   "metadata": {
    "scrolled": false
   },
   "outputs": [
    {
     "data": {
      "text/html": [
       "<div>\n",
       "<style scoped>\n",
       "    .dataframe tbody tr th:only-of-type {\n",
       "        vertical-align: middle;\n",
       "    }\n",
       "\n",
       "    .dataframe tbody tr th {\n",
       "        vertical-align: top;\n",
       "    }\n",
       "\n",
       "    .dataframe thead th {\n",
       "        text-align: right;\n",
       "    }\n",
       "</style>\n",
       "<table border=\"1\" class=\"dataframe\">\n",
       "  <thead>\n",
       "    <tr style=\"text-align: right;\">\n",
       "      <th></th>\n",
       "      <th>DATAFLOW</th>\n",
       "      <th>REF_AREA:Geographic area</th>\n",
       "      <th>INDICATOR:Indicator</th>\n",
       "      <th>SEX:Sex</th>\n",
       "      <th>TIME_PERIOD:Time period</th>\n",
       "      <th>OBS_VALUE:Observation Value</th>\n",
       "      <th>UNIT_MULTIPLIER:Unit multiplier</th>\n",
       "      <th>UNIT_MEASURE:Unit of measure</th>\n",
       "      <th>OBS_STATUS:Observation Status</th>\n",
       "      <th>OBS_CONF:Observation confidentaility</th>\n",
       "      <th>...</th>\n",
       "      <th>WGTD_SAMPL_SIZE:Weighted Sample Size</th>\n",
       "      <th>OBS_FOOTNOTE:Observation footnote</th>\n",
       "      <th>SERIES_FOOTNOTE:Series footnote</th>\n",
       "      <th>DATA_SOURCE:Data Source</th>\n",
       "      <th>SOURCE_LINK:Citation of or link to the data source</th>\n",
       "      <th>CUSTODIAN:Custodian</th>\n",
       "      <th>TIME_PERIOD_METHOD:Time period activity related to when the data are collected</th>\n",
       "      <th>REF_PERIOD:Reference Period</th>\n",
       "      <th>COVERAGE_TIME:The period of time for which data are provided</th>\n",
       "      <th>AGE:Current age</th>\n",
       "    </tr>\n",
       "  </thead>\n",
       "  <tbody>\n",
       "    <tr>\n",
       "      <th>0</th>\n",
       "      <td>UNICEF:GLOBAL_DATAFLOW(1.0): Cross-sector indi...</td>\n",
       "      <td>AFG: Afghanistan</td>\n",
       "      <td>NT_ANT_WHZ_PO2: Weight-for-height &gt;+2 SD (over...</td>\n",
       "      <td>F: Female</td>\n",
       "      <td>2004</td>\n",
       "      <td>2.6</td>\n",
       "      <td>0: Units</td>\n",
       "      <td>PCNT: %</td>\n",
       "      <td>ER: External Reanalysis</td>\n",
       "      <td>F: Free</td>\n",
       "      <td>...</td>\n",
       "      <td>436.0</td>\n",
       "      <td>Reduced age range Age 0-5 months not covered  ...</td>\n",
       "      <td>UNICEF/WHO/World Bank Joint Malnutrition Estim...</td>\n",
       "      <td>Summary report of the national nutrition surve...</td>\n",
       "      <td>https://data.unicef.org/topic/nutrition/malnut...</td>\n",
       "      <td>UNICEF Division of Data  Analysis  Planning an...</td>\n",
       "      <td>MOF: Middle of fieldwork</td>\n",
       "      <td>NaN</td>\n",
       "      <td>1997-2018</td>\n",
       "      <td>Y0T4: Under 5 years old</td>\n",
       "    </tr>\n",
       "  </tbody>\n",
       "</table>\n",
       "<p>1 rows × 22 columns</p>\n",
       "</div>"
      ],
      "text/plain": [
       "                                            DATAFLOW REF_AREA:Geographic area  \\\n",
       "0  UNICEF:GLOBAL_DATAFLOW(1.0): Cross-sector indi...         AFG: Afghanistan   \n",
       "\n",
       "                                 INDICATOR:Indicator    SEX:Sex  \\\n",
       "0  NT_ANT_WHZ_PO2: Weight-for-height >+2 SD (over...  F: Female   \n",
       "\n",
       "  TIME_PERIOD:Time period  OBS_VALUE:Observation Value  \\\n",
       "0                    2004                          2.6   \n",
       "\n",
       "  UNIT_MULTIPLIER:Unit multiplier UNIT_MEASURE:Unit of measure  \\\n",
       "0                        0: Units                      PCNT: %   \n",
       "\n",
       "  OBS_STATUS:Observation Status OBS_CONF:Observation confidentaility  ...  \\\n",
       "0       ER: External Reanalysis                              F: Free  ...   \n",
       "\n",
       "   WGTD_SAMPL_SIZE:Weighted Sample Size  \\\n",
       "0                                 436.0   \n",
       "\n",
       "                   OBS_FOOTNOTE:Observation footnote  \\\n",
       "0  Reduced age range Age 0-5 months not covered  ...   \n",
       "\n",
       "                     SERIES_FOOTNOTE:Series footnote  \\\n",
       "0  UNICEF/WHO/World Bank Joint Malnutrition Estim...   \n",
       "\n",
       "                             DATA_SOURCE:Data Source  \\\n",
       "0  Summary report of the national nutrition surve...   \n",
       "\n",
       "  SOURCE_LINK:Citation of or link to the data source  \\\n",
       "0  https://data.unicef.org/topic/nutrition/malnut...   \n",
       "\n",
       "                                 CUSTODIAN:Custodian  \\\n",
       "0  UNICEF Division of Data  Analysis  Planning an...   \n",
       "\n",
       "  TIME_PERIOD_METHOD:Time period activity related to when the data are collected  \\\n",
       "0                           MOF: Middle of fieldwork                               \n",
       "\n",
       "  REF_PERIOD:Reference Period  \\\n",
       "0                         NaN   \n",
       "\n",
       "  COVERAGE_TIME:The period of time for which data are provided  \\\n",
       "0                                          1997-2018             \n",
       "\n",
       "           AGE:Current age  \n",
       "0  Y0T4: Under 5 years old  \n",
       "\n",
       "[1 rows x 22 columns]"
      ]
     },
     "metadata": {},
     "output_type": "display_data"
    }
   ],
   "source": [
    "overweight_data = pd.read_csv(\"Overweight_Data.csv\")\n",
    "display(overweight_data[:1])"
   ]
  },
  {
   "cell_type": "code",
   "execution_count": 194,
   "id": "98ac9e2b",
   "metadata": {},
   "outputs": [
    {
     "data": {
      "text/plain": [
       "array(['NT_ANT_WHZ_PO2: Weight-for-height >+2 SD (overweight)'],\n",
       "      dtype=object)"
      ]
     },
     "execution_count": 194,
     "metadata": {},
     "output_type": "execute_result"
    }
   ],
   "source": [
    "overweight_data['INDICATOR:Indicator'].unique() #overweight only"
   ]
  },
  {
   "cell_type": "markdown",
   "id": "b6bf0420",
   "metadata": {},
   "source": [
    "## 2. Data Cleaning"
   ]
  },
  {
   "cell_type": "code",
   "execution_count": 195,
   "id": "be093224",
   "metadata": {},
   "outputs": [],
   "source": [
    "# data cleaning\n",
    "# rename columns\n",
    "\n",
    "# wasted\n",
    "wasted_data = wasted_data.rename(columns = {\"REF_AREA:Geographic area\" : \"Country\", \"SEX:Sex\" : \"Sex\",\\\n",
    "                                         \"TIME_PERIOD:Time period\" : \"Year\", \"OBS_VALUE:Observation Value\" : \"Waste_percent\",\\\n",
    "                                           'AGE:Current age':'Age'})\n",
    "# severe_wasted\n",
    "ser_wasted_data=ser_wasted_data.rename(columns = {\"REF_AREA:Geographic area\" : \"Country\", \"SEX:Sex\" : \"Sex\",\\\n",
    "                                           \"TIME_PERIOD:Time period\" : \"Year\", \"OBS_VALUE:Observation Value\" : \"Severe_Waste_percent\",\\\n",
    "                                           'AGE:Current age':'Age'})\n",
    "# stunted\n",
    "stunted_data = stunted_data.rename(columns = {\"REF_AREA:Geographic area\" : \"Country\", \"SEX:Sex\" : \"Sex\",\\\n",
    "                                          \"TIME_PERIOD:Time period\" : \"Year\", \"OBS_VALUE:Observation Value\" : \"Stunt_percent\",\\\n",
    "                                            'AGE:Current age':'Age'})\n",
    "# severe stunted\n",
    "ser_stunted_data = ser_stunted_data.rename(columns = {\"REF_AREA:Geographic area\" : \"Country\", \"SEX:Sex\" : \"Sex\",\\\n",
    "                                          \"TIME_PERIOD:Time period\" : \"Year\", \"OBS_VALUE:Observation Value\" : \"Severe_Stunt_percent\",\\\n",
    "                                           'AGE:Current age':'Age'})\n",
    "# overweight\n",
    "overweight_data = overweight_data.rename(columns = {\"REF_AREA:Geographic area\" : \"Country\", \"SEX:Sex\" : \"Sex\",\\\n",
    "                                           \"TIME_PERIOD:Time period\" : \"Year\", \"OBS_VALUE:Observation Value\" : \"Overweight_percent\",\\\n",
    "                                            \"INDICATOR:Indicator\":\"Overweight_Indicator\",'AGE:Current age':'Age'})\n"
   ]
  },
  {
   "cell_type": "code",
   "execution_count": 196,
   "id": "3ae0a8e9",
   "metadata": {
    "scrolled": true
   },
   "outputs": [],
   "source": [
    "# Only keep the relevant data columns\n",
    "\n",
    "wasted_df=wasted_data[['Country','Sex','Year','Waste_percent','Age']]\n",
    "ser_wasted_df=ser_wasted_data[['Country','Sex','Year','Severe_Waste_percent','Age']]\n",
    "stunted_df=stunted_data[['Country','Sex','Year','Stunt_percent','Age']]\n",
    "ser_stunted_df=ser_stunted_data[['Country','Sex','Year','Severe_Stunt_percent','Age']]\n",
    "overweight_df=overweight_data[['Country','Sex','Year','Overweight_percent','Age']]"
   ]
  },
  {
   "cell_type": "code",
   "execution_count": 197,
   "id": "68c379e6",
   "metadata": {
    "scrolled": true
   },
   "outputs": [
    {
     "data": {
      "text/html": [
       "<div>\n",
       "<style scoped>\n",
       "    .dataframe tbody tr th:only-of-type {\n",
       "        vertical-align: middle;\n",
       "    }\n",
       "\n",
       "    .dataframe tbody tr th {\n",
       "        vertical-align: top;\n",
       "    }\n",
       "\n",
       "    .dataframe thead th {\n",
       "        text-align: right;\n",
       "    }\n",
       "</style>\n",
       "<table border=\"1\" class=\"dataframe\">\n",
       "  <thead>\n",
       "    <tr style=\"text-align: right;\">\n",
       "      <th></th>\n",
       "      <th>Country</th>\n",
       "      <th>Sex</th>\n",
       "      <th>Year</th>\n",
       "      <th>Waste_percent</th>\n",
       "      <th>Age</th>\n",
       "      <th>Severe_Waste_percent</th>\n",
       "      <th>Stunt_percent</th>\n",
       "      <th>Severe_Stunt_percent</th>\n",
       "      <th>Overweight_percent</th>\n",
       "    </tr>\n",
       "  </thead>\n",
       "  <tbody>\n",
       "    <tr>\n",
       "      <th>0</th>\n",
       "      <td>AFG: Afghanistan</td>\n",
       "      <td>F: Female</td>\n",
       "      <td>2004</td>\n",
       "      <td>9.3</td>\n",
       "      <td>Y0T4: Under 5 years old</td>\n",
       "      <td>4.3</td>\n",
       "      <td>58.5</td>\n",
       "      <td>30.9</td>\n",
       "      <td>2.6</td>\n",
       "    </tr>\n",
       "    <tr>\n",
       "      <th>1</th>\n",
       "      <td>AFG: Afghanistan</td>\n",
       "      <td>F: Female</td>\n",
       "      <td>2013</td>\n",
       "      <td>8.7</td>\n",
       "      <td>Y0T4: Under 5 years old</td>\n",
       "      <td>3.5</td>\n",
       "      <td>39.5</td>\n",
       "      <td>19.9</td>\n",
       "      <td>5.8</td>\n",
       "    </tr>\n",
       "    <tr>\n",
       "      <th>2</th>\n",
       "      <td>AFG: Afghanistan</td>\n",
       "      <td>F: Female</td>\n",
       "      <td>2018</td>\n",
       "      <td>4.1</td>\n",
       "      <td>Y0T4: Under 5 years old</td>\n",
       "      <td>1.4</td>\n",
       "      <td>38.1</td>\n",
       "      <td>20.0</td>\n",
       "      <td>4.2</td>\n",
       "    </tr>\n",
       "  </tbody>\n",
       "</table>\n",
       "</div>"
      ],
      "text/plain": [
       "            Country        Sex  Year  Waste_percent                      Age  \\\n",
       "0  AFG: Afghanistan  F: Female  2004            9.3  Y0T4: Under 5 years old   \n",
       "1  AFG: Afghanistan  F: Female  2013            8.7  Y0T4: Under 5 years old   \n",
       "2  AFG: Afghanistan  F: Female  2018            4.1  Y0T4: Under 5 years old   \n",
       "\n",
       "   Severe_Waste_percent  Stunt_percent  Severe_Stunt_percent  \\\n",
       "0                   4.3           58.5                  30.9   \n",
       "1                   3.5           39.5                  19.9   \n",
       "2                   1.4           38.1                  20.0   \n",
       "\n",
       "   Overweight_percent  \n",
       "0                 2.6  \n",
       "1                 5.8  \n",
       "2                 4.2  "
      ]
     },
     "execution_count": 197,
     "metadata": {},
     "output_type": "execute_result"
    }
   ],
   "source": [
    "# combine with outer-join\n",
    "combined_df=wasted_df.merge(ser_wasted_df,how='outer',on=['Country','Sex','Year','Age'])\\\n",
    "            .merge(stunted_df,how='outer',on=['Country','Sex','Year','Age'])\\\n",
    "            .merge(ser_stunted_df,how='outer',on=['Country','Sex','Year','Age'])\\\n",
    "            .merge(overweight_df,how='outer',on=['Country','Sex','Year','Age'])\\\n",
    "# shown sample lines\n",
    "combined_df.head(3)"
   ]
  },
  {
   "cell_type": "code",
   "execution_count": 198,
   "id": "41127d28",
   "metadata": {
    "scrolled": true
   },
   "outputs": [
    {
     "data": {
      "text/html": [
       "<div>\n",
       "<style scoped>\n",
       "    .dataframe tbody tr th:only-of-type {\n",
       "        vertical-align: middle;\n",
       "    }\n",
       "\n",
       "    .dataframe tbody tr th {\n",
       "        vertical-align: top;\n",
       "    }\n",
       "\n",
       "    .dataframe thead th {\n",
       "        text-align: right;\n",
       "    }\n",
       "</style>\n",
       "<table border=\"1\" class=\"dataframe\">\n",
       "  <thead>\n",
       "    <tr style=\"text-align: right;\">\n",
       "      <th></th>\n",
       "      <th>Country</th>\n",
       "      <th>Sex</th>\n",
       "      <th>Year</th>\n",
       "      <th>Waste_percent</th>\n",
       "      <th>Age</th>\n",
       "      <th>Severe_Waste_percent</th>\n",
       "      <th>Stunt_percent</th>\n",
       "      <th>Severe_Stunt_percent</th>\n",
       "      <th>Overweight_percent</th>\n",
       "      <th>Waste_total_percent</th>\n",
       "      <th>Stunt_total_percent</th>\n",
       "    </tr>\n",
       "  </thead>\n",
       "  <tbody>\n",
       "    <tr>\n",
       "      <th>0</th>\n",
       "      <td>AFG: Afghanistan</td>\n",
       "      <td>F: Female</td>\n",
       "      <td>2004</td>\n",
       "      <td>9.3</td>\n",
       "      <td>Y0T4: Under 5 years old</td>\n",
       "      <td>4.3</td>\n",
       "      <td>58.5</td>\n",
       "      <td>30.9</td>\n",
       "      <td>2.6</td>\n",
       "      <td>13.6</td>\n",
       "      <td>89.4</td>\n",
       "    </tr>\n",
       "  </tbody>\n",
       "</table>\n",
       "</div>"
      ],
      "text/plain": [
       "            Country        Sex  Year  Waste_percent                      Age  \\\n",
       "0  AFG: Afghanistan  F: Female  2004            9.3  Y0T4: Under 5 years old   \n",
       "\n",
       "   Severe_Waste_percent  Stunt_percent  Severe_Stunt_percent  \\\n",
       "0                   4.3           58.5                  30.9   \n",
       "\n",
       "   Overweight_percent  Waste_total_percent  Stunt_total_percent  \n",
       "0                 2.6                 13.6                 89.4  "
      ]
     },
     "execution_count": 198,
     "metadata": {},
     "output_type": "execute_result"
    }
   ],
   "source": [
    "# Calculate total waste percent column from adding percentage with normal waste condition and percentage with severe waste condition\n",
    "combined_df['Waste_total_percent']=combined_df['Waste_percent']+combined_df['Severe_Waste_percent']\n",
    "combined_df['Stunt_total_percent']=combined_df['Stunt_percent']+combined_df['Severe_Stunt_percent']\n",
    "combined_df.head(1)"
   ]
  },
  {
   "cell_type": "code",
   "execution_count": 199,
   "id": "f636884e",
   "metadata": {},
   "outputs": [
    {
     "data": {
      "text/html": [
       "<div>\n",
       "<style scoped>\n",
       "    .dataframe tbody tr th:only-of-type {\n",
       "        vertical-align: middle;\n",
       "    }\n",
       "\n",
       "    .dataframe tbody tr th {\n",
       "        vertical-align: top;\n",
       "    }\n",
       "\n",
       "    .dataframe thead th {\n",
       "        text-align: right;\n",
       "    }\n",
       "</style>\n",
       "<table border=\"1\" class=\"dataframe\">\n",
       "  <thead>\n",
       "    <tr style=\"text-align: right;\">\n",
       "      <th></th>\n",
       "      <th>Country</th>\n",
       "      <th>Sex</th>\n",
       "      <th>Year</th>\n",
       "      <th>Age</th>\n",
       "      <th>Overweight_percent</th>\n",
       "      <th>Waste_total_percent</th>\n",
       "      <th>Stunt_total_percent</th>\n",
       "    </tr>\n",
       "  </thead>\n",
       "  <tbody>\n",
       "    <tr>\n",
       "      <th>0</th>\n",
       "      <td>AFG: Afghanistan</td>\n",
       "      <td>F: Female</td>\n",
       "      <td>2004</td>\n",
       "      <td>Y0T4: Under 5 years old</td>\n",
       "      <td>2.6</td>\n",
       "      <td>13.6</td>\n",
       "      <td>89.4</td>\n",
       "    </tr>\n",
       "  </tbody>\n",
       "</table>\n",
       "</div>"
      ],
      "text/plain": [
       "            Country        Sex  Year                      Age  \\\n",
       "0  AFG: Afghanistan  F: Female  2004  Y0T4: Under 5 years old   \n",
       "\n",
       "   Overweight_percent  Waste_total_percent  Stunt_total_percent  \n",
       "0                 2.6                 13.6                 89.4  "
      ]
     },
     "execution_count": 199,
     "metadata": {},
     "output_type": "execute_result"
    }
   ],
   "source": [
    "# pop the previous waste & stunt columns, only keep the sum column\n",
    "cols=['Waste_percent','Severe_Waste_percent','Stunt_percent','Severe_Stunt_percent']\n",
    "for c in cols:\n",
    "    combined_df.pop(c)\n",
    "combined_df.head(1)"
   ]
  },
  {
   "cell_type": "code",
   "execution_count": 200,
   "id": "0f42ab7f",
   "metadata": {},
   "outputs": [
    {
     "name": "stdout",
     "output_type": "stream",
     "text": [
      "All data are for kids under 5 years old.\n"
     ]
    }
   ],
   "source": [
    "# Observe properties of some columns\n",
    "# 1. Is age all under 5?\n",
    "combined_df['Age'].unique()\n",
    "print('All data are for kids under 5 years old.')"
   ]
  },
  {
   "cell_type": "code",
   "execution_count": 201,
   "id": "fecd5b13",
   "metadata": {},
   "outputs": [],
   "source": [
    "# Since the data only for kids under 5, we can delete this column \n",
    "del combined_df['Age']  "
   ]
  },
  {
   "cell_type": "code",
   "execution_count": 202,
   "id": "ed1b2cd9",
   "metadata": {},
   "outputs": [
    {
     "data": {
      "text/plain": [
       "array(['F: Female', 'M: Male', '_T: Total'], dtype=object)"
      ]
     },
     "execution_count": 202,
     "metadata": {},
     "output_type": "execute_result"
    }
   ],
   "source": [
    "# 2. Format sex column\n",
    "combined_df['Sex'].unique()"
   ]
  },
  {
   "cell_type": "code",
   "execution_count": 203,
   "id": "e85cb97f",
   "metadata": {},
   "outputs": [],
   "source": [
    "# only leave the \"Total\" for analysis\n",
    "combined_df[\"Sex\"] = combined_df[\"Sex\"].str[1]\n",
    "combined_df=combined_df[combined_df[\"Sex\"]=='T']"
   ]
  },
  {
   "cell_type": "code",
   "execution_count": 204,
   "id": "48b8bb98",
   "metadata": {},
   "outputs": [
    {
     "name": "stdout",
     "output_type": "stream",
     "text": [
      "There are a total number of 239 countries/regions in the DataFrame initially.\n"
     ]
    }
   ],
   "source": [
    "# 3. Format countries and regions\n",
    "country_count=len(combined_df['Country'].unique())\n",
    "print('There are a total number of '+ str(country_count) + ' countries/regions in the DataFrame initially.')"
   ]
  },
  {
   "cell_type": "code",
   "execution_count": 205,
   "id": "5b53b8b7",
   "metadata": {
    "scrolled": true
   },
   "outputs": [
    {
     "data": {
      "text/html": [
       "<div>\n",
       "<style scoped>\n",
       "    .dataframe tbody tr th:only-of-type {\n",
       "        vertical-align: middle;\n",
       "    }\n",
       "\n",
       "    .dataframe tbody tr th {\n",
       "        vertical-align: top;\n",
       "    }\n",
       "\n",
       "    .dataframe thead th {\n",
       "        text-align: right;\n",
       "    }\n",
       "</style>\n",
       "<table border=\"1\" class=\"dataframe\">\n",
       "  <thead>\n",
       "    <tr style=\"text-align: right;\">\n",
       "      <th></th>\n",
       "      <th>ISO Code</th>\n",
       "      <th>Country Name</th>\n",
       "      <th>Sex</th>\n",
       "      <th>Year</th>\n",
       "      <th>Overweight_percent</th>\n",
       "      <th>Waste_total_percent</th>\n",
       "      <th>Stunt_total_percent</th>\n",
       "    </tr>\n",
       "  </thead>\n",
       "  <tbody>\n",
       "    <tr>\n",
       "      <th>6</th>\n",
       "      <td>AFG</td>\n",
       "      <td>Afghanistan</td>\n",
       "      <td>T</td>\n",
       "      <td>1997</td>\n",
       "      <td>6.5</td>\n",
       "      <td>NaN</td>\n",
       "      <td>NaN</td>\n",
       "    </tr>\n",
       "    <tr>\n",
       "      <th>7</th>\n",
       "      <td>AFG</td>\n",
       "      <td>Afghanistan</td>\n",
       "      <td>T</td>\n",
       "      <td>2004</td>\n",
       "      <td>4.6</td>\n",
       "      <td>12.1</td>\n",
       "      <td>91.1</td>\n",
       "    </tr>\n",
       "    <tr>\n",
       "      <th>8</th>\n",
       "      <td>AFG</td>\n",
       "      <td>Afghanistan</td>\n",
       "      <td>T</td>\n",
       "      <td>2013</td>\n",
       "      <td>5.3</td>\n",
       "      <td>13.5</td>\n",
       "      <td>60.8</td>\n",
       "    </tr>\n",
       "  </tbody>\n",
       "</table>\n",
       "</div>"
      ],
      "text/plain": [
       "  ISO Code Country Name Sex  Year  Overweight_percent  Waste_total_percent  \\\n",
       "6      AFG  Afghanistan   T  1997                 6.5                  NaN   \n",
       "7      AFG  Afghanistan   T  2004                 4.6                 12.1   \n",
       "8      AFG  Afghanistan   T  2013                 5.3                 13.5   \n",
       "\n",
       "   Stunt_total_percent  \n",
       "6                  NaN  \n",
       "7                 91.1  \n",
       "8                 60.8  "
      ]
     },
     "execution_count": 205,
     "metadata": {},
     "output_type": "execute_result"
    }
   ],
   "source": [
    "# Format countries, separate to 3 digit ISO code and name\n",
    "split_countries= combined_df[\"Country\"].str.split(':', expand=True)\n",
    "\n",
    "# join to combine df\n",
    "combined_df = split_countries.join(combined_df)\n",
    "\n",
    "# rename columns\n",
    "combined_df = combined_df.rename(columns = {0 : \"ISO Code\", 1 : \"Country Name\"})\n",
    "\n",
    "# format the region\n",
    "combined_df[\"Country Name\"] = combined_df[\"Country Name\"].str.strip()\n",
    "\n",
    "# filter only the countrys not regions\n",
    "combined_df = combined_df[combined_df[\"ISO Code\"].str.contains(\"_\")==False]\n",
    "\n",
    "# remove previous columns\n",
    "del combined_df['Country']\n",
    "\n",
    "combined_df.head(3)"
   ]
  },
  {
   "cell_type": "code",
   "execution_count": 206,
   "id": "4238a14d",
   "metadata": {},
   "outputs": [
    {
     "name": "stdout",
     "output_type": "stream",
     "text": [
      "There are now a total number of 157 countries in the DataFrame now.\n"
     ]
    }
   ],
   "source": [
    "new_country_count=len(combined_df['Country Name'].unique())\n",
    "print('There are now a total number of '+ str(new_country_count) + ' countries in the DataFrame now.')"
   ]
  },
  {
   "cell_type": "code",
   "execution_count": 207,
   "id": "2e8cdd3a",
   "metadata": {},
   "outputs": [
    {
     "data": {
      "text/plain": [
       "array(['1997', '2004', '2013', '2018', '2000', '2005', '2009', '2017',\n",
       "       '1987', '1992', '1995', '2002', '2006', '2012', '2019', '1996',\n",
       "       '2007', '2015', '1994', '1998', '2010', '2016', '2001', '2011',\n",
       "       '1989', '1986', '1990', '1991', '1993', '1999', '2003',\n",
       "       '2013-02-16', '2013-06-16', '2014', '2008', '1985', '2019-03-14',\n",
       "       '2019-11-07', '2019-08-12', '2019-08-27', '1988', '1998-01-01',\n",
       "       '1998-12-01', '2018-03-13', '2018-04-09', '2020', '2012-01-06',\n",
       "       '2012-08-06', '2019-01-15', '2019-09-15', '1994-01-15',\n",
       "       '1994-12-17', '2016-01-15', '2016-05-11', '2016-12-01',\n",
       "       '2015-05-22', '2015-09-05', '2018-07-24', '2018-09-27',\n",
       "       '2010-08-22', '2010-10-24', '2016-05-15', '2016-10-01',\n",
       "       '2006-03-28', '2006-11-01', '2010-06-05', '2010-10-29',\n",
       "       '2012-04-11', '2012-07-16', '2018-04-02', '2018-10-23', '1983',\n",
       "       '2015-01-09', '2015-04-26', '2019-02-09', '2019-08-16',\n",
       "       '2017-07-01', '2017-09-19', '2010-10-04', '2010-12-21'],\n",
       "      dtype=object)"
      ]
     },
     "execution_count": 207,
     "metadata": {},
     "output_type": "execute_result"
    }
   ],
   "source": [
    "# 4. Observe the Year range\n",
    "combined_df['Year'].unique()"
   ]
  },
  {
   "cell_type": "code",
   "execution_count": 208,
   "id": "9712ee70",
   "metadata": {},
   "outputs": [
    {
     "name": "stdout",
     "output_type": "stream",
     "text": [
      "[1983, 1985, 1986, 1987, 1988, 1989, 1990, 1991, 1992, 1993, 1994, 1995, 1996, 1997, 1998, 1999, 2000, 2001, 2002, 2003, 2004, 2005, 2006, 2007, 2008, 2009, 2010, 2011, 2012, 2013, 2014, 2015, 2016, 2017, 2018, 2019, 2020]\n"
     ]
    }
   ],
   "source": [
    "# format the year columns\n",
    "# year remove some date, only keep year\n",
    "combined_df[\"Year\"] =  pd.to_datetime(combined_df[\"Year\"]).dt.year\n",
    "# observe new column values\n",
    "years=combined_df['Year'].unique()\n",
    "print(sorted(years))"
   ]
  },
  {
   "cell_type": "code",
   "execution_count": 209,
   "id": "c7fe14d9",
   "metadata": {
    "scrolled": true
   },
   "outputs": [
    {
     "data": {
      "text/html": [
       "<div>\n",
       "<style scoped>\n",
       "    .dataframe tbody tr th:only-of-type {\n",
       "        vertical-align: middle;\n",
       "    }\n",
       "\n",
       "    .dataframe tbody tr th {\n",
       "        vertical-align: top;\n",
       "    }\n",
       "\n",
       "    .dataframe thead th {\n",
       "        text-align: right;\n",
       "    }\n",
       "</style>\n",
       "<table border=\"1\" class=\"dataframe\">\n",
       "  <thead>\n",
       "    <tr style=\"text-align: right;\">\n",
       "      <th></th>\n",
       "      <th>ISO Code</th>\n",
       "      <th>Country Name</th>\n",
       "      <th>Sex</th>\n",
       "      <th>Year</th>\n",
       "      <th>Overweight_percent</th>\n",
       "      <th>Waste_total_percent</th>\n",
       "      <th>Stunt_total_percent</th>\n",
       "    </tr>\n",
       "  </thead>\n",
       "  <tbody>\n",
       "    <tr>\n",
       "      <th>7</th>\n",
       "      <td>AFG</td>\n",
       "      <td>Afghanistan</td>\n",
       "      <td>T</td>\n",
       "      <td>2004</td>\n",
       "      <td>4.6</td>\n",
       "      <td>12.1</td>\n",
       "      <td>91.1</td>\n",
       "    </tr>\n",
       "    <tr>\n",
       "      <th>8</th>\n",
       "      <td>AFG</td>\n",
       "      <td>Afghanistan</td>\n",
       "      <td>T</td>\n",
       "      <td>2013</td>\n",
       "      <td>5.3</td>\n",
       "      <td>13.5</td>\n",
       "      <td>60.8</td>\n",
       "    </tr>\n",
       "    <tr>\n",
       "      <th>9</th>\n",
       "      <td>AFG</td>\n",
       "      <td>Afghanistan</td>\n",
       "      <td>T</td>\n",
       "      <td>2018</td>\n",
       "      <td>4.1</td>\n",
       "      <td>6.7</td>\n",
       "      <td>57.6</td>\n",
       "    </tr>\n",
       "  </tbody>\n",
       "</table>\n",
       "</div>"
      ],
      "text/plain": [
       "  ISO Code Country Name Sex  Year  Overweight_percent  Waste_total_percent  \\\n",
       "7      AFG  Afghanistan   T  2004                 4.6                 12.1   \n",
       "8      AFG  Afghanistan   T  2013                 5.3                 13.5   \n",
       "9      AFG  Afghanistan   T  2018                 4.1                  6.7   \n",
       "\n",
       "   Stunt_total_percent  \n",
       "7                 91.1  \n",
       "8                 60.8  \n",
       "9                 57.6  "
      ]
     },
     "metadata": {},
     "output_type": "display_data"
    }
   ],
   "source": [
    "# 5. Drop rows with Na values\n",
    "combined_df.dropna(inplace=True) #drop NaN\n",
    "\n",
    "display(combined_df[:3])"
   ]
  },
  {
   "cell_type": "code",
   "execution_count": 210,
   "id": "724992c2",
   "metadata": {
    "scrolled": true
   },
   "outputs": [
    {
     "data": {
      "text/html": [
       "<div>\n",
       "<style scoped>\n",
       "    .dataframe tbody tr th:only-of-type {\n",
       "        vertical-align: middle;\n",
       "    }\n",
       "\n",
       "    .dataframe tbody tr th {\n",
       "        vertical-align: top;\n",
       "    }\n",
       "\n",
       "    .dataframe thead th {\n",
       "        text-align: right;\n",
       "    }\n",
       "</style>\n",
       "<table border=\"1\" class=\"dataframe\">\n",
       "  <thead>\n",
       "    <tr style=\"text-align: right;\">\n",
       "      <th></th>\n",
       "      <th>ISO Code</th>\n",
       "      <th>Country Name</th>\n",
       "      <th>Sex</th>\n",
       "      <th>Year</th>\n",
       "      <th>Overweight_percent</th>\n",
       "      <th>Waste_total_percent</th>\n",
       "      <th>Stunt_total_percent</th>\n",
       "      <th>Mean</th>\n",
       "    </tr>\n",
       "  </thead>\n",
       "  <tbody>\n",
       "    <tr>\n",
       "      <th>7</th>\n",
       "      <td>AFG</td>\n",
       "      <td>Afghanistan</td>\n",
       "      <td>T</td>\n",
       "      <td>2004</td>\n",
       "      <td>4.6</td>\n",
       "      <td>12.1</td>\n",
       "      <td>91.1</td>\n",
       "      <td>35.933333</td>\n",
       "    </tr>\n",
       "    <tr>\n",
       "      <th>8</th>\n",
       "      <td>AFG</td>\n",
       "      <td>Afghanistan</td>\n",
       "      <td>T</td>\n",
       "      <td>2013</td>\n",
       "      <td>5.3</td>\n",
       "      <td>13.5</td>\n",
       "      <td>60.8</td>\n",
       "      <td>26.533333</td>\n",
       "    </tr>\n",
       "    <tr>\n",
       "      <th>9</th>\n",
       "      <td>AFG</td>\n",
       "      <td>Afghanistan</td>\n",
       "      <td>T</td>\n",
       "      <td>2018</td>\n",
       "      <td>4.1</td>\n",
       "      <td>6.7</td>\n",
       "      <td>57.6</td>\n",
       "      <td>22.800000</td>\n",
       "    </tr>\n",
       "  </tbody>\n",
       "</table>\n",
       "</div>"
      ],
      "text/plain": [
       "  ISO Code Country Name Sex  Year  Overweight_percent  Waste_total_percent  \\\n",
       "7      AFG  Afghanistan   T  2004                 4.6                 12.1   \n",
       "8      AFG  Afghanistan   T  2013                 5.3                 13.5   \n",
       "9      AFG  Afghanistan   T  2018                 4.1                  6.7   \n",
       "\n",
       "   Stunt_total_percent       Mean  \n",
       "7                 91.1  35.933333  \n",
       "8                 60.8  26.533333  \n",
       "9                 57.6  22.800000  "
      ]
     },
     "execution_count": 210,
     "metadata": {},
     "output_type": "execute_result"
    }
   ],
   "source": [
    "# create a new column of malnutrition score for mean of the five malnutrition factor\n",
    "combined_df['Mean']=combined_df.iloc[:,4:9].mean(axis=1)\n",
    "combined_df.head(3)"
   ]
  },
  {
   "cell_type": "code",
   "execution_count": 211,
   "id": "fe13bbc4",
   "metadata": {},
   "outputs": [],
   "source": [
    "# save the column names for future uses\n",
    "mal_type=['Mean','Overweight_percent','Waste_total_percent','Stunt_total_percent']\n",
    "#malnutrition type 0=mean\n",
    "#malnutrition type 1=overweight\n",
    "#malnutrition type 2=waste\n",
    "#malnutrition type 3=stunt"
   ]
  },
  {
   "cell_type": "markdown",
   "id": "86338925",
   "metadata": {},
   "source": [
    "## 3. Creating Visualizations"
   ]
  },
  {
   "cell_type": "code",
   "execution_count": 212,
   "id": "ab17459c",
   "metadata": {
    "scrolled": false
   },
   "outputs": [
    {
     "data": {
      "image/png": "[encoded data removed]",
      "text/plain": [
       "<Figure size 1080x720 with 4 Axes>"
      ]
     },
     "metadata": {
      "needs_background": "light"
     },
     "output_type": "display_data"
    }
   ],
   "source": [
    "# now observe overweight/waste/stunt \n",
    "fig, axis = plt.subplots(2,2) \n",
    "fig.suptitle(\"World's Children Malnutrition Histogram\")\n",
    "\n",
    "# Mean\n",
    "axis[0,0].hist(combined_df[mal_type[0]],bins=30,color='deepskyblue')\n",
    "axis[0,0].set_title(\"Mean\")\n",
    "# Overweight\n",
    "axis[0,1].hist(combined_df[mal_type[1]],bins=30,color='deepskyblue')\n",
    "axis[0,1].set_title(\"Overweight\")\n",
    "# Waste\n",
    "axis[1,0].hist(combined_df[mal_type[2]],bins=30,color='deepskyblue')\n",
    "axis[1,0].set_title(\"Waste\")\n",
    "# Stunt\n",
    "axis[1,1].hist(combined_df[mal_type[3]],bins=30,color='deepskyblue')\n",
    "axis[1,1].set_title(\"Stunt\")\n",
    "\n",
    "fig.set_size_inches(15, 10)\n",
    "plt.show()"
   ]
  },
  {
   "cell_type": "code",
   "execution_count": 213,
   "id": "4f7c8eab",
   "metadata": {},
   "outputs": [
    {
     "data": {
      "image/png": "[encoded data removed]",
      "text/plain": [
       "<Figure size 1080x720 with 4 Axes>"
      ]
     },
     "metadata": {
      "needs_background": "light"
     },
     "output_type": "display_data"
    }
   ],
   "source": [
    "# now observe overweight/waste/stunt \n",
    "fig, axis2 = plt.subplots(2,2) \n",
    "fig.suptitle(\"World's Children Malnutrition Boxplot\")\n",
    "\n",
    "# Mean\n",
    "axis2[0,0].boxplot(combined_df[mal_type[0]])\n",
    "axis2[0,0].set_title(\"Mean\")\n",
    "\n",
    "# Overweight\n",
    "axis2[0,1].boxplot(combined_df[mal_type[1]])\n",
    "axis2[0,1].set_title(\"Overweight\")\n",
    "\n",
    "# Waste\n",
    "axis2[1,0].boxplot(combined_df[mal_type[2]])\n",
    "axis2[1,0].set_title(\"Waste\")\n",
    "\n",
    "# Stunt\n",
    "axis2[1,1].boxplot(combined_df[mal_type[3]])\n",
    "axis2[1,1].set_title(\"Stunt\")\n",
    "\n",
    "fig.set_size_inches(15, 10)\n",
    "plt.show()\n"
   ]
  },
  {
   "cell_type": "code",
   "execution_count": 214,
   "id": "fd563411",
   "metadata": {
    "scrolled": true
   },
   "outputs": [
    {
     "data": {
      "image/png": "[encoded data removed]",
      "text/plain": [
       "<Figure size 576x576 with 2 Axes>"
      ]
     },
     "metadata": {
      "needs_background": "light"
     },
     "output_type": "display_data"
    }
   ],
   "source": [
    "# observe correlation map\n",
    "corr = combined_df.corr() # train is a pandas dataframe \n",
    "plt.figure(figsize = (8, 8))\n",
    "heatmap(corr, cmap = 'Blues',annot=True)\n",
    "plt.title('Correlation heatmap for all malnutrition types')\n",
    "plt.show()"
   ]
  },
  {
   "cell_type": "code",
   "execution_count": 215,
   "id": "bd5ba62b",
   "metadata": {
    "scrolled": true
   },
   "outputs": [
    {
     "data": {
      "image/png": "[encoded data removed]",
      "text/plain": [
       "<Figure size 432x288 with 1 Axes>"
      ]
     },
     "metadata": {
      "needs_background": "light"
     },
     "output_type": "display_data"
    }
   ],
   "source": [
    "# Now Observe US first\n",
    "country_df=combined_df.copy()\n",
    "country_df.index = country_df[\"ISO Code\"] #make the iso code as index \n",
    "\n",
    "country_df.loc['USA'].plot(x='Year', y=['Overweight_percent','Waste_total_percent','Stunt_total_percent'])\n",
    "plt.title('US Children Malnutrition')\n",
    "plt.legend(loc='center left', bbox_to_anchor=(1, 0.5))\n",
    "fig.set_size_inches(10, 10)\n",
    "plt.show()\n"
   ]
  },
  {
   "cell_type": "code",
   "execution_count": 216,
   "id": "92e23693",
   "metadata": {
    "scrolled": true
   },
   "outputs": [
    {
     "data": {
      "image/png": "[encoded data removed]",
      "text/plain": [
       "<Figure size 432x288 with 1 Axes>"
      ]
     },
     "metadata": {
      "needs_background": "light"
     },
     "output_type": "display_data"
    }
   ],
   "source": [
    "# create a function to smooth the graph later\n",
    "# use interpld from scipy to smooth the lines\n",
    "\n",
    "def countryGraph(countryISO):\n",
    "    countryData=country_df.loc[countryISO]\n",
    "    country_name=countryData['Country Name'][1]\n",
    "    x=countryData['Year']\n",
    "    X_=np.linspace(x.min(), x.max(),300)\n",
    "    for i in range(1,4):\n",
    "        y=countryData[mal_type[i]]\n",
    "        smooth_model = interp1d(x, y, kind = \"cubic\")\n",
    "        f=smooth_model(X_)\n",
    "        plt.plot(X_,f)\n",
    "    plt.title(country_name+str(' Children Malnutrition Chart'))\n",
    "    plt.legend(mal_type[1:])\n",
    "    plt.show()\n",
    "countryGraph('USA')"
   ]
  },
  {
   "cell_type": "code",
   "execution_count": 217,
   "id": "ad5525be",
   "metadata": {},
   "outputs": [],
   "source": [
    "# US has lower stunt and waste ratio but higher overweight problem for children under 5"
   ]
  },
  {
   "cell_type": "code",
   "execution_count": 218,
   "id": "26dff709",
   "metadata": {},
   "outputs": [
    {
     "data": {
      "text/html": [
       "<div>\n",
       "<style scoped>\n",
       "    .dataframe tbody tr th:only-of-type {\n",
       "        vertical-align: middle;\n",
       "    }\n",
       "\n",
       "    .dataframe tbody tr th {\n",
       "        vertical-align: top;\n",
       "    }\n",
       "\n",
       "    .dataframe thead th {\n",
       "        text-align: right;\n",
       "    }\n",
       "</style>\n",
       "<table border=\"1\" class=\"dataframe\">\n",
       "  <thead>\n",
       "    <tr style=\"text-align: right;\">\n",
       "      <th></th>\n",
       "      <th>ISO Code</th>\n",
       "      <th>Count</th>\n",
       "    </tr>\n",
       "  </thead>\n",
       "  <tbody>\n",
       "    <tr>\n",
       "      <th>2</th>\n",
       "      <td>ALB</td>\n",
       "      <td>4</td>\n",
       "    </tr>\n",
       "    <tr>\n",
       "      <th>4</th>\n",
       "      <td>ARM</td>\n",
       "      <td>5</td>\n",
       "    </tr>\n",
       "    <tr>\n",
       "      <th>5</th>\n",
       "      <td>AZE</td>\n",
       "      <td>4</td>\n",
       "    </tr>\n",
       "  </tbody>\n",
       "</table>\n",
       "</div>"
      ],
      "text/plain": [
       "  ISO Code  Count\n",
       "2      ALB      4\n",
       "4      ARM      5\n",
       "5      AZE      4"
      ]
     },
     "metadata": {},
     "output_type": "display_data"
    }
   ],
   "source": [
    "# groupby countries, find the country with highest mean malnutrition value\n",
    "# because the minimum of cubic spline required datapoint is 4, we want to filter the country with 4 or more years of report\n",
    "country_count=combined_df.groupby(by=['ISO Code','Country Name'],as_index=False).count()\n",
    "country_count.rename(columns={'Mean':'Count'},inplace=True)\n",
    "country_count=country_count[country_count['Count']>=4]\n",
    "country_count=country_count[['ISO Code','Count']]\n",
    "display(country_count[:3])"
   ]
  },
  {
   "cell_type": "code",
   "execution_count": 219,
   "id": "66de99a8",
   "metadata": {},
   "outputs": [
    {
     "data": {
      "text/html": [
       "<div>\n",
       "<style scoped>\n",
       "    .dataframe tbody tr th:only-of-type {\n",
       "        vertical-align: middle;\n",
       "    }\n",
       "\n",
       "    .dataframe tbody tr th {\n",
       "        vertical-align: top;\n",
       "    }\n",
       "\n",
       "    .dataframe thead th {\n",
       "        text-align: right;\n",
       "    }\n",
       "</style>\n",
       "<table border=\"1\" class=\"dataframe\">\n",
       "  <thead>\n",
       "    <tr style=\"text-align: right;\">\n",
       "      <th></th>\n",
       "      <th>ISO Code</th>\n",
       "      <th>Country Name</th>\n",
       "      <th>Year</th>\n",
       "      <th>Overweight_percent</th>\n",
       "      <th>Waste_total_percent</th>\n",
       "      <th>Stunt_total_percent</th>\n",
       "      <th>Mean</th>\n",
       "      <th>Count</th>\n",
       "    </tr>\n",
       "  </thead>\n",
       "  <tbody>\n",
       "    <tr>\n",
       "      <th>80</th>\n",
       "      <td>USA</td>\n",
       "      <td>United States</td>\n",
       "      <td>2007.363636</td>\n",
       "      <td>8.109091</td>\n",
       "      <td>0.481818</td>\n",
       "      <td>3.300000</td>\n",
       "      <td>3.963636</td>\n",
       "      <td>11</td>\n",
       "    </tr>\n",
       "    <tr>\n",
       "      <th>36</th>\n",
       "      <td>KWT</td>\n",
       "      <td>Kuwait</td>\n",
       "      <td>2007.500000</td>\n",
       "      <td>8.328571</td>\n",
       "      <td>3.178571</td>\n",
       "      <td>5.807143</td>\n",
       "      <td>5.771429</td>\n",
       "      <td>14</td>\n",
       "    </tr>\n",
       "    <tr>\n",
       "      <th>30</th>\n",
       "      <td>JAM</td>\n",
       "      <td>Jamaica</td>\n",
       "      <td>2001.190476</td>\n",
       "      <td>5.923810</td>\n",
       "      <td>4.219048</td>\n",
       "      <td>11.504762</td>\n",
       "      <td>7.215873</td>\n",
       "      <td>21</td>\n",
       "    </tr>\n",
       "  </tbody>\n",
       "</table>\n",
       "</div>"
      ],
      "text/plain": [
       "   ISO Code   Country Name         Year  Overweight_percent  \\\n",
       "80      USA  United States  2007.363636            8.109091   \n",
       "36      KWT         Kuwait  2007.500000            8.328571   \n",
       "30      JAM        Jamaica  2001.190476            5.923810   \n",
       "\n",
       "    Waste_total_percent  Stunt_total_percent      Mean  Count  \n",
       "80             0.481818             3.300000  3.963636     11  \n",
       "36             3.178571             5.807143  5.771429     14  \n",
       "30             4.219048            11.504762  7.215873     21  "
      ]
     },
     "metadata": {},
     "output_type": "display_data"
    }
   ],
   "source": [
    "#country_rank.sort_values(by='Mean',ascending=True,inplace=True)\n",
    "country_rank=combined_df.groupby(by=['ISO Code','Country Name'],as_index=False).mean()\n",
    "country_rank=country_rank.merge(country_count,how='inner',on='ISO Code')\n",
    "country_rank=country_rank.sort_values(by='Mean')\n",
    "display(country_rank[:3])"
   ]
  },
  {
   "cell_type": "code",
   "execution_count": 220,
   "id": "03f12c97",
   "metadata": {},
   "outputs": [
    {
     "data": {
      "text/plain": [
       "['United States', 'Kuwait', 'Jamaica', 'Suriname', 'Jordan']"
      ]
     },
     "metadata": {},
     "output_type": "display_data"
    }
   ],
   "source": [
    "# keep a record of the top 5 and bot 5 country with S&W mean for observation\n",
    "top5=country_rank[:5]['Country Name'].tolist()\n",
    "display(top5)\n",
    "# the five country with least percentages of Stunt & Waste mean\n"
   ]
  },
  {
   "cell_type": "code",
   "execution_count": 221,
   "id": "5125bed3",
   "metadata": {
    "scrolled": true
   },
   "outputs": [
    {
     "data": {
      "text/plain": [
       "['USA', 'KWT', 'JAM', 'SUR', 'JOR']"
      ]
     },
     "metadata": {},
     "output_type": "display_data"
    }
   ],
   "source": [
    "top5ISO=country_rank[:5]['ISO Code'].tolist()\n",
    "display(top5ISO)\n",
    "# 5 countries' corresponding iso code\n"
   ]
  },
  {
   "cell_type": "code",
   "execution_count": 222,
   "id": "03c0996a",
   "metadata": {},
   "outputs": [],
   "source": [
    "# Plot graphs to observe the trend for each malnutrition problem at country level for top 5 countries\n",
    "#for i in top5ISO:\n",
    "#    countryGraph(i)\n",
    "    \n",
    "#plt.show()\n",
    "### ValueError: Expect x to not have duplicates??"
   ]
  },
  {
   "cell_type": "code",
   "execution_count": 223,
   "id": "a5e4a57a",
   "metadata": {
    "scrolled": true
   },
   "outputs": [
    {
     "data": {
      "image/png": "[encoded data removed]",
      "text/plain": [
       "<Figure size 432x288 with 1 Axes>"
      ]
     },
     "metadata": {
      "needs_background": "light"
     },
     "output_type": "display_data"
    },
    {
     "data": {
      "image/png": "[encoded data removed]",
      "text/plain": [
       "<Figure size 432x288 with 1 Axes>"
      ]
     },
     "metadata": {
      "needs_background": "light"
     },
     "output_type": "display_data"
    },
    {
     "data": {
      "image/png": "[encoded data removed]",
      "text/plain": [
       "<Figure size 432x288 with 1 Axes>"
      ]
     },
     "metadata": {
      "needs_background": "light"
     },
     "output_type": "display_data"
    },
    {
     "data": {
      "image/png": "[encoded data removed]",
      "text/plain": [
       "<Figure size 432x288 with 1 Axes>"
      ]
     },
     "metadata": {
      "needs_background": "light"
     },
     "output_type": "display_data"
    },
    {
     "data": {
      "image/png": "[encoded data removed]",
      "text/plain": [
       "<Figure size 432x288 with 1 Axes>"
      ]
     },
     "metadata": {
      "needs_background": "light"
     },
     "output_type": "display_data"
    }
   ],
   "source": [
    "# Plot graphs to observe the trend for each malnutrition problem at country level for top 5 countries\n",
    "\n",
    "for c in zip(top5,top5ISO):\n",
    "    country_df.loc[c[1]].plot(x='Year', y=mal_type[1:])\n",
    "    plt.legend(loc='center left', bbox_to_anchor=(1, 0.5))\n",
    "    plt.title(c[0])\n",
    "plt.show()\n"
   ]
  },
  {
   "cell_type": "code",
   "execution_count": 224,
   "id": "b3c769cb",
   "metadata": {},
   "outputs": [
    {
     "data": {
      "text/plain": [
       "['Madagascar', 'Pakistan', 'Burundi', 'Yemen', 'Timor-Leste']"
      ]
     },
     "metadata": {},
     "output_type": "display_data"
    }
   ],
   "source": [
    "bot5=country_rank[-5:]['Country Name'].tolist()\n",
    "display(bot5) # the five country with high percentages of Stunt & Waste mean"
   ]
  },
  {
   "cell_type": "code",
   "execution_count": 225,
   "id": "ba068575",
   "metadata": {},
   "outputs": [
    {
     "data": {
      "text/plain": [
       "['MDG', 'PAK', 'BDI', 'YEM', 'TLS']"
      ]
     },
     "metadata": {},
     "output_type": "display_data"
    }
   ],
   "source": [
    "bot5ISO=country_rank[-5:]['ISO Code'].tolist()\n",
    "display(bot5ISO)"
   ]
  },
  {
   "cell_type": "code",
   "execution_count": 226,
   "id": "d451db80",
   "metadata": {
    "scrolled": false
   },
   "outputs": [
    {
     "data": {
      "image/png": "[encoded data removed]",
      "text/plain": [
       "<Figure size 432x288 with 1 Axes>"
      ]
     },
     "metadata": {
      "needs_background": "light"
     },
     "output_type": "display_data"
    },
    {
     "data": {
      "image/png": "[encoded data removed]",
      "text/plain": [
       "<Figure size 432x288 with 1 Axes>"
      ]
     },
     "metadata": {
      "needs_background": "light"
     },
     "output_type": "display_data"
    },
    {
     "data": {
      "image/png": "[encoded data removed]",
      "text/plain": [
       "<Figure size 432x288 with 1 Axes>"
      ]
     },
     "metadata": {
      "needs_background": "light"
     },
     "output_type": "display_data"
    },
    {
     "data": {
      "image/png": "[encoded data removed]",
      "text/plain": [
       "<Figure size 432x288 with 1 Axes>"
      ]
     },
     "metadata": {
      "needs_background": "light"
     },
     "output_type": "display_data"
    },
    {
     "data": {
      "image/png": "[encoded data removed]",
      "text/plain": [
       "<Figure size 432x288 with 1 Axes>"
      ]
     },
     "metadata": {
      "needs_background": "light"
     },
     "output_type": "display_data"
    }
   ],
   "source": [
    "#graph bottom 5 countries malnutrition graphs\n",
    "for i in bot5ISO:\n",
    "    countryGraph(i)\n"
   ]
  },
  {
   "cell_type": "markdown",
   "id": "206866bf",
   "metadata": {},
   "source": [
    "### Continent Analysis"
   ]
  },
  {
   "cell_type": "code",
   "execution_count": 227,
   "id": "541ee06b",
   "metadata": {},
   "outputs": [],
   "source": [
    "continent = pd.read_csv(\"countryContinent.csv\")\n",
    "\n",
    "continent = continent[[\"country\", \"continent\"]]\n",
    "\n",
    "joined = country_rank.merge(continent, left_on = \"Country Name\", right_on = \"country\")\n",
    "\n",
    "joined = joined.drop(columns = \"country\")"
   ]
  },
  {
   "cell_type": "code",
   "execution_count": 228,
   "id": "aa39db8b",
   "metadata": {},
   "outputs": [
    {
     "data": {
      "text/html": [
       "<div>\n",
       "<style scoped>\n",
       "    .dataframe tbody tr th:only-of-type {\n",
       "        vertical-align: middle;\n",
       "    }\n",
       "\n",
       "    .dataframe tbody tr th {\n",
       "        vertical-align: top;\n",
       "    }\n",
       "\n",
       "    .dataframe thead th {\n",
       "        text-align: right;\n",
       "    }\n",
       "</style>\n",
       "<table border=\"1\" class=\"dataframe\">\n",
       "  <thead>\n",
       "    <tr style=\"text-align: right;\">\n",
       "      <th></th>\n",
       "      <th>ISO Code</th>\n",
       "      <th>Country Name</th>\n",
       "      <th>Year</th>\n",
       "      <th>Overweight_percent</th>\n",
       "      <th>Waste_total_percent</th>\n",
       "      <th>Stunt_total_percent</th>\n",
       "      <th>Mean</th>\n",
       "      <th>Count</th>\n",
       "      <th>continent</th>\n",
       "    </tr>\n",
       "  </thead>\n",
       "  <tbody>\n",
       "    <tr>\n",
       "      <th>0</th>\n",
       "      <td>KWT</td>\n",
       "      <td>Kuwait</td>\n",
       "      <td>2007.500000</td>\n",
       "      <td>8.328571</td>\n",
       "      <td>3.178571</td>\n",
       "      <td>5.807143</td>\n",
       "      <td>5.771429</td>\n",
       "      <td>14</td>\n",
       "      <td>Asia</td>\n",
       "    </tr>\n",
       "    <tr>\n",
       "      <th>1</th>\n",
       "      <td>JAM</td>\n",
       "      <td>Jamaica</td>\n",
       "      <td>2001.190476</td>\n",
       "      <td>5.923810</td>\n",
       "      <td>4.219048</td>\n",
       "      <td>11.504762</td>\n",
       "      <td>7.215873</td>\n",
       "      <td>21</td>\n",
       "      <td>Americas</td>\n",
       "    </tr>\n",
       "    <tr>\n",
       "      <th>2</th>\n",
       "      <td>SUR</td>\n",
       "      <td>Suriname</td>\n",
       "      <td>2008.500000</td>\n",
       "      <td>3.600000</td>\n",
       "      <td>6.800000</td>\n",
       "      <td>13.050000</td>\n",
       "      <td>7.816667</td>\n",
       "      <td>4</td>\n",
       "      <td>Americas</td>\n",
       "    </tr>\n",
       "  </tbody>\n",
       "</table>\n",
       "</div>"
      ],
      "text/plain": [
       "  ISO Code Country Name         Year  Overweight_percent  Waste_total_percent  \\\n",
       "0      KWT       Kuwait  2007.500000            8.328571             3.178571   \n",
       "1      JAM      Jamaica  2001.190476            5.923810             4.219048   \n",
       "2      SUR     Suriname  2008.500000            3.600000             6.800000   \n",
       "\n",
       "   Stunt_total_percent      Mean  Count continent  \n",
       "0             5.807143  5.771429     14      Asia  \n",
       "1            11.504762  7.215873     21  Americas  \n",
       "2            13.050000  7.816667      4  Americas  "
      ]
     },
     "metadata": {},
     "output_type": "display_data"
    }
   ],
   "source": [
    "display(joined[:3])"
   ]
  },
  {
   "cell_type": "code",
   "execution_count": 229,
   "id": "9a2e86fc",
   "metadata": {},
   "outputs": [
    {
     "data": {
      "text/html": [
       "<div>\n",
       "<style scoped>\n",
       "    .dataframe tbody tr th:only-of-type {\n",
       "        vertical-align: middle;\n",
       "    }\n",
       "\n",
       "    .dataframe tbody tr th {\n",
       "        vertical-align: top;\n",
       "    }\n",
       "\n",
       "    .dataframe thead th {\n",
       "        text-align: right;\n",
       "    }\n",
       "</style>\n",
       "<table border=\"1\" class=\"dataframe\">\n",
       "  <thead>\n",
       "    <tr style=\"text-align: right;\">\n",
       "      <th></th>\n",
       "      <th>Year</th>\n",
       "      <th>continent</th>\n",
       "      <th>Overweight_percent</th>\n",
       "      <th>Waste_total_percent</th>\n",
       "      <th>Stunt_total_percent</th>\n",
       "      <th>Mean</th>\n",
       "      <th>Count</th>\n",
       "    </tr>\n",
       "  </thead>\n",
       "  <tbody>\n",
       "    <tr>\n",
       "      <th>0</th>\n",
       "      <td>1999.000000</td>\n",
       "      <td>Asia</td>\n",
       "      <td>7.0875</td>\n",
       "      <td>4.262500</td>\n",
       "      <td>31.537500</td>\n",
       "      <td>14.295833</td>\n",
       "      <td>8.0</td>\n",
       "    </tr>\n",
       "    <tr>\n",
       "      <th>1</th>\n",
       "      <td>2000.500000</td>\n",
       "      <td>Europe</td>\n",
       "      <td>9.1000</td>\n",
       "      <td>4.725000</td>\n",
       "      <td>18.775000</td>\n",
       "      <td>10.866667</td>\n",
       "      <td>4.0</td>\n",
       "    </tr>\n",
       "    <tr>\n",
       "      <th>2</th>\n",
       "      <td>2000.666667</td>\n",
       "      <td>Americas</td>\n",
       "      <td>4.7500</td>\n",
       "      <td>2.133333</td>\n",
       "      <td>34.316667</td>\n",
       "      <td>13.733333</td>\n",
       "      <td>6.0</td>\n",
       "    </tr>\n",
       "  </tbody>\n",
       "</table>\n",
       "</div>"
      ],
      "text/plain": [
       "          Year continent  Overweight_percent  Waste_total_percent  \\\n",
       "0  1999.000000      Asia              7.0875             4.262500   \n",
       "1  2000.500000    Europe              9.1000             4.725000   \n",
       "2  2000.666667  Americas              4.7500             2.133333   \n",
       "\n",
       "   Stunt_total_percent       Mean  Count  \n",
       "0            31.537500  14.295833    8.0  \n",
       "1            18.775000  10.866667    4.0  \n",
       "2            34.316667  13.733333    6.0  "
      ]
     },
     "metadata": {},
     "output_type": "display_data"
    }
   ],
   "source": [
    "by_continent = joined.groupby([\"Year\", \"continent\"], as_index = False).mean()\n",
    "\n",
    "display(by_continent[:3])"
   ]
  },
  {
   "cell_type": "code",
   "execution_count": 230,
   "id": "941ae548",
   "metadata": {
    "scrolled": false
   },
   "outputs": [
    {
     "data": {
      "image/png": "[encoded data removed]",
      "text/plain": [
       "<Figure size 432x288 with 1 Axes>"
      ]
     },
     "metadata": {
      "needs_background": "light"
     },
     "output_type": "display_data"
    }
   ],
   "source": [
    "sns.lineplot(x=\"Year\", y=\"Mean\",\n",
    "             hue=\"continent\",data=by_continent, palette=\"husl\", lw = 3).set(title = \"% of Under 5 Year-Old with Wasting\")\n",
    "\n",
    "sns.set(rc={'figure.figsize':(15,6)})\n",
    "\n",
    "sns.set_style(\"white\")"
   ]
  },
  {
   "cell_type": "code",
   "execution_count": 231,
   "id": "8179191e",
   "metadata": {},
   "outputs": [],
   "source": [
    "## SHEENA TRYING SMOOTH THIS\n",
    "#xc=by_continent['Year']\n",
    "#Xc_=np.linspace(xc.min(), xc.max(),300)\n",
    "\n",
    "#yc=by_continent['Mean']\n",
    "#f1= interp1d(xc, yc, kind = \"cubic\")\n",
    "#yc_=f1(Xc)\n",
    "\n",
    "# Plotting the Graph\n",
    "#plt.plot(Xc_, yc_)\n",
    "# not working becuase x was repeated?? \n",
    "# https://stackoverflow.com/questions/68100959/plot-smooth-curve-with-duplicate-values-in-list"
   ]
  },
  {
   "cell_type": "markdown",
   "id": "6c4562ec",
   "metadata": {},
   "source": [
    "## Mapping"
   ]
  },
  {
   "cell_type": "code",
   "execution_count": 232,
   "id": "023c63ab",
   "metadata": {
    "scrolled": true
   },
   "outputs": [
    {
     "ename": "NameError",
     "evalue": "name 'gpd' is not defined",
     "output_type": "error",
     "traceback": [
      "\u001b[0;31m---------------------------------------------------------------------------\u001b[0m",
      "\u001b[0;31mNameError\u001b[0m                                 Traceback (most recent call last)",
      "\u001b[0;32m/var/folders/qp/gg4gsq8d0ss5h1nfck_8gdq40000gn/T/ipykernel_18108/1643324236.py\u001b[0m in \u001b[0;36m<module>\u001b[0;34m\u001b[0m\n\u001b[1;32m      1\u001b[0m \u001b[0;31m# import map\u001b[0m\u001b[0;34m\u001b[0m\u001b[0;34m\u001b[0m\u001b[0m\n\u001b[0;32m----> 2\u001b[0;31m \u001b[0mworld_map\u001b[0m \u001b[0;34m=\u001b[0m \u001b[0mgpd\u001b[0m\u001b[0;34m.\u001b[0m\u001b[0mread_file\u001b[0m\u001b[0;34m(\u001b[0m\u001b[0;34m\"World_Countries__Generalized_.shp\"\u001b[0m\u001b[0;34m)\u001b[0m\u001b[0;34m\u001b[0m\u001b[0;34m\u001b[0m\u001b[0m\n\u001b[0m",
      "\u001b[0;31mNameError\u001b[0m: name 'gpd' is not defined"
     ]
    }
   ],
   "source": [
    "# import map\n",
    "world_map = gpd.read_file(\"World_Countries__Generalized_.shp\")"
   ]
  },
  {
   "cell_type": "code",
   "execution_count": null,
   "id": "d694caa5",
   "metadata": {
    "scrolled": false
   },
   "outputs": [],
   "source": [
    "map_all = world_map.merge(combined_df, how='left', left_on='COUNTRYAFF', right_on='Country Name')\n",
    "display(map_all.head(3))"
   ]
  },
  {
   "cell_type": "code",
   "execution_count": null,
   "id": "0e8e3e74",
   "metadata": {},
   "outputs": [],
   "source": [
    "print('Overweight observations range', np.nanmin(map_all['Overweight_percent'].values), '% to', np.nanmax(map_all['Overweight_percent'].values), '%.')\n",
    "print('Wasted observations range', np.nanmin(map_all['Waste_total_percent'].values), '% to', np.nanmax(map_all['Waste_total_percent'].values), '%.')\n",
    "print('Stunted observations range', np.nanmin(map_all['Stunt_total_percent'].values), '% to', np.nanmax(map_all['Stunt_total_percent'].values), '%.')"
   ]
  },
  {
   "cell_type": "code",
   "execution_count": null,
   "id": "0227a2b6",
   "metadata": {},
   "outputs": [],
   "source": [
    "# map with all overweight indicators\n",
    "vmin, vmax = 0, np.nanmax(map_all['Overweight_percent'].values)\n",
    "\n",
    "fig, ax = plt.subplots(1, figsize = (16,12))\n",
    "map_all.plot(column='Overweight_percent', cmap='OrRd', ax=ax, linewidth=0.3, edgecolors='0.3')\n",
    "bar_info = plt.cm.ScalarMappable(cmap='OrRd', norm=plt.Normalize(vmin=vmin, vmax=vmax))\n",
    "ax.set_title('Percent of overweight children under age 5 around the world', fontdict={'fontsize':20})\n",
    "ax.set_axis_off()\n",
    "bar_info._A = []\n",
    "cbar = fig.colorbar(bar_info, orientation='horizontal')"
   ]
  },
  {
   "cell_type": "code",
   "execution_count": null,
   "id": "71828984",
   "metadata": {},
   "outputs": [],
   "source": [
    "# map with all waste indicators\n",
    "vmin, vmax = 0, np.nanmax(map_all['Waste_total_percent'].values)\n",
    "\n",
    "fig, ax = plt.subplots(1, figsize = (16,12))\n",
    "map_all.plot(column='Waste_total_percent', cmap='YlGnBu', ax=ax, linewidth=0.3, edgecolors='0.3')\n",
    "bar_info = plt.cm.ScalarMappable(cmap='YlGnBu', norm=plt.Normalize(vmin=vmin, vmax=vmax))\n",
    "ax.set_title('Percent of wasted children under age 5 around the world', fontdict={'fontsize':20})\n",
    "ax.set_axis_off()\n",
    "bar_info._A = []\n",
    "cbar = fig.colorbar(bar_info, orientation='horizontal')"
   ]
  },
  {
   "cell_type": "code",
   "execution_count": null,
   "id": "87eb8a68",
   "metadata": {},
   "outputs": [],
   "source": [
    "# map with all stunt indicators\n",
    "vmin, vmax = 0, np.nanmax(map_all['Stunt_total_percent'].values)\n",
    "\n",
    "fig, ax = plt.subplots(1, figsize = (16,12))\n",
    "map_all.plot(column='Stunt_total_percent', cmap='RdPu', ax=ax, linewidth=0.3, edgecolors='0.3')\n",
    "bar_info = plt.cm.ScalarMappable(cmap='RdPu', norm=plt.Normalize(vmin=vmin, vmax=vmax))\n",
    "ax.set_title('Percent of stunted children under age 5 around the world', fontdict={'fontsize':20})\n",
    "ax.set_axis_off()\n",
    "bar_info._A = []\n",
    "cbar = fig.colorbar(bar_info, orientation='horizontal')"
   ]
  },
  {
   "cell_type": "markdown",
   "id": "0a148088",
   "metadata": {},
   "source": [
    "## Animation"
   ]
  },
  {
   "cell_type": "code",
   "execution_count": null,
   "id": "ed35c56d",
   "metadata": {},
   "outputs": [],
   "source": [
    "# list of years\n",
    "min_year = int(map_all['Year'].min())\n",
    "max_year = int(map_all['Year'].max())+1\n",
    "list_of_years = list(range(min_year, max_year))\n",
    "print('Years range from', min(list_of_years), 'to', max(list_of_years))"
   ]
  },
  {
   "cell_type": "code",
   "execution_count": null,
   "id": "5230a50a",
   "metadata": {},
   "outputs": [],
   "source": [
    "# list of countries\n",
    "countries = map_all['COUNTRYAFF'].unique()\n",
    "print('There are', len(countries), 'countries listed.')"
   ]
  },
  {
   "cell_type": "code",
   "execution_count": null,
   "id": "df62b2bf",
   "metadata": {},
   "outputs": [],
   "source": [
    "# save all the maps in the charts folder\n",
    "import os\n",
    "output_path = 'C:\\\\Users\\\\Kimberly\\\\Documents\\\\GitHub\\\\2021-winter-project\\\\pictures'\n",
    "filenames = []"
   ]
  },
  {
   "cell_type": "code",
   "execution_count": null,
   "id": "6a005998",
   "metadata": {},
   "outputs": [],
   "source": [
    "# algorithm to make a map for each year and save as jpg\n",
    "def make_maps(map_col, color, list_of_years = list(range(2000,2020))):\n",
    "    # start the for loop to create one map per year\n",
    "    for year in list_of_years:\n",
    "        # narrow the data to the year desired\n",
    "        yearly = combined_df.loc[combined_df['Year'] == year].reset_index(drop=True)\n",
    "        maps = world_map.merge(yearly, how='left', left_on='COUNTRYAFF', right_on='Country Name')\n",
    "        \n",
    "        # normalize across all years\n",
    "        vmin = min(combined_df[map_col])\n",
    "        vmax = max(combined_df[map_col])\n",
    "\n",
    "        # create map\n",
    "        fig, ax = plt.subplots(1, figsize=(16,12))\n",
    "        fig = maps.plot(column=map_col,\n",
    "                        cmap=color,\n",
    "                        figsize=(16,12),\n",
    "                        linewidth=0.3,\n",
    "                        edgecolor='0.3',\n",
    "                        ax=ax,\n",
    "                        norm=plt.Normalize(vmin=vmin, vmax=vmax))\n",
    "#         bar_info = plt.cm.ScalarMappable(cmap=color, norm=plt.Normalize(vmin=vmin, vmax=vmax))\n",
    "        \n",
    "        # add a title\n",
    "        ax.set_title(map_col + ' children under age 5 in ' + str(year), \\\n",
    "                  fontdict={'fontsize': '20',\n",
    "                             'fontweight' : '3'})\n",
    "\n",
    "        # remove axis of chart\n",
    "        ax.set_axis_off()\n",
    "        \n",
    "        # legend as color bar\n",
    "#         bar_info._A = []\n",
    "#         cbar = ax.colorbar(bar_info, orientation='horizontal')\n",
    "\n",
    "        # this will save the figure as a high-res jpg\n",
    "        filename = str(year)+'_'+map_col+'.jpg'\n",
    "        filepath = os.path.join(output_path, filename)\n",
    "        filenames.append(filename)\n",
    "        chart = fig.get_figure()\n",
    "        chart.savefig(filepath, dpi=300)"
   ]
  },
  {
   "cell_type": "code",
   "execution_count": null,
   "id": "7c8fd236",
   "metadata": {},
   "outputs": [],
   "source": [
    "make_maps('Overweight_percent', 'OrRd', list_of_years)"
   ]
  },
  {
   "cell_type": "code",
   "execution_count": null,
   "id": "edbe385b",
   "metadata": {
    "scrolled": false
   },
   "outputs": [],
   "source": [
    "make_maps('Waste_total_percent', 'YlGnBu', list_of_years)"
   ]
  },
  {
   "cell_type": "code",
   "execution_count": null,
   "id": "15fdc49b",
   "metadata": {},
   "outputs": [],
   "source": [
    "make_maps('Stunt_total_percent', 'RdPu', list_of_years)"
   ]
  },
  {
   "cell_type": "code",
   "execution_count": null,
   "id": "220a9714",
   "metadata": {},
   "outputs": [],
   "source": [
    "# pull the created pictures into a gif\n",
    "import glob\n",
    "from PIL import Image\n",
    "\n",
    "def make_gif(fp_in, fp_out, duration = 400, loop = 3):\n",
    "    #img, *imgs = [Image.open(f.join(fp_in)) for f in filenames] #sorted(glob.glob(fp_in))]\n",
    "    img, *imgs = [Image.open(f) for f in sorted(glob.glob(fp_in))]\n",
    "    img.save(fp=fp_out, format='GIF', append_images=imgs,\n",
    "             save_all=True, duration=duration, loop=loop)"
   ]
  },
  {
   "cell_type": "code",
   "execution_count": null,
   "id": "22331e3e",
   "metadata": {},
   "outputs": [],
   "source": [
    "# filepaths for overweight\n",
    "o_fp_in = '/Users/Kimberly/Documents/GitHub/2021-winter-project/pictures/*_Overweight*.jpg' #\"/path/to/image_*.png\"\n",
    "o_fp_out = \"/Users/Kimberly/Documents/GitHub/2021-winter-project/overweight.gif\"\n",
    "\n",
    "#make overweight gif\n",
    "make_gif(o_fp_in, o_fp_out)"
   ]
  },
  {
   "cell_type": "code",
   "execution_count": null,
   "id": "855229ce",
   "metadata": {},
   "outputs": [],
   "source": [
    "# filepaths for wasted\n",
    "w_fp_in = '/Users/Kimberly/Documents/GitHub/2021-winter-project/pictures/*_Waste*.jpg' #\"/path/to/image_*.png\"\n",
    "w_fp_out = \"/Users/Kimberly/Documents/GitHub/2021-winter-project/waste.gif\"\n",
    "\n",
    "#make wasted gif\n",
    "make_gif(w_fp_in, w_fp_out)"
   ]
  },
  {
   "cell_type": "code",
   "execution_count": null,
   "id": "e3bbb0c4",
   "metadata": {},
   "outputs": [],
   "source": [
    "# filepaths for stunted\n",
    "s_fp_in = '/Users/Kimberly/Documents/GitHub/2021-winter-project/pictures/*_Stunt*.jpg' #\"/path/to/image_*.png\"\n",
    "s_fp_out = \"/Users/Kimberly/Documents/GitHub/2021-winter-project/stunt.gif\"\n",
    "\n",
    "#make stunted gif\n",
    "make_gif(s_fp_in, s_fp_out)"
   ]
  },
  {
   "cell_type": "markdown",
   "id": "cb649ec2",
   "metadata": {},
   "source": [
    "![SegmentLocal](overweight.gif \"segment\")"
   ]
  },
  {
   "cell_type": "markdown",
   "id": "9fc58250",
   "metadata": {},
   "source": [
    "![SegmentLocal](waste.gif \"segment\")"
   ]
  },
  {
   "cell_type": "markdown",
   "id": "326354e7",
   "metadata": {},
   "source": [
    "![SegmentLocal](stunt.gif \"segment\")"
   ]
  },
  {
   "cell_type": "markdown",
   "id": "b0e0a3fe",
   "metadata": {},
   "source": [
    "### Covid Analysis"
   ]
  },
  {
   "cell_type": "code",
   "execution_count": null,
   "id": "479162f2",
   "metadata": {},
   "outputs": [],
   "source": [
    "# combine with COVID"
   ]
  },
  {
   "cell_type": "code",
   "execution_count": null,
   "id": "5b5e477a",
   "metadata": {},
   "outputs": [],
   "source": [
    "###### \n",
    "# Download covid vaccine rate data to covid_data from https://ourworldindata.org/covid-vaccinations\n",
    "covid_data=pd.read_csv(\"owid-covid-data.csv\")\n",
    "covid_data.tail(5)"
   ]
  },
  {
   "cell_type": "code",
   "execution_count": null,
   "id": "fb9cc0ba",
   "metadata": {},
   "outputs": [],
   "source": [
    "#before 12/31/2020, the total number of cases for each countries\n",
    "covid_data=covid_data[covid_data['date']<'2021-01-01']\n",
    "covid_2020=covid_data.groupby(by='iso_code').max()\n",
    "display(covid_2020[:5])\n"
   ]
  },
  {
   "cell_type": "code",
   "execution_count": null,
   "id": "34447f8d",
   "metadata": {},
   "outputs": [],
   "source": [
    "norm_covid_2020=covid_2020.copy()\n",
    "# since cases number varies alot, apply z-score standardlization to total_cases column to normalize the case number\n",
    "norm_covid_2020=norm_covid_2020.sort_values(by='total_cases')\n",
    "norm_covid_2020['norm_total_cases'] = (norm_covid_2020['total_cases'] - norm_covid_2020['total_cases'].mean())\\\n",
    "                                    / (norm_covid_2020['total_cases'].std())    \n",
    "\n",
    "display(norm_covid_2020)\n",
    "\n"
   ]
  },
  {
   "cell_type": "code",
   "execution_count": null,
   "id": "361e6ae7",
   "metadata": {},
   "outputs": [],
   "source": [
    "#Observed the world data on last row, remove for outlier data point\n",
    "norm_covid_2020=norm_covid_2020[:-1] \n",
    "display(norm_covid_2020)\n",
    "plt.hist(norm_covid_2020['norm_total_cases'],bins=50)\n",
    "plt.show()\n"
   ]
  },
  {
   "cell_type": "markdown",
   "id": "db43ea24",
   "metadata": {},
   "source": [
    "#### Highest % of COVID deaths in the world"
   ]
  },
  {
   "cell_type": "code",
   "execution_count": null,
   "id": "d423ec78",
   "metadata": {},
   "outputs": [],
   "source": [
    "covid = pd.read_csv(\"owid-covid-data.csv\")[[\"location\", \"date\", \"new_deaths\"]]\n",
    "\n",
    "covid[\"date\"] = pd.to_datetime(covid[\"date\"]).dt.year\n",
    "\n",
    "top_10_covid = covid.groupby([\"location\", \"date\"], as_index = False).sum()\n",
    "\n",
    "display(top_10_covid[:3])"
   ]
  },
  {
   "cell_type": "code",
   "execution_count": null,
   "id": "800ca429",
   "metadata": {},
   "outputs": [],
   "source": [
    "worldpop = pd.read_csv(\"Worldpop.csv\")\n",
    "\n",
    "worldpop[\"PopTotal\"] = worldpop[\"PopTotal\"].astype(int)\n",
    "\n",
    "display(worldpop[:3])"
   ]
  },
  {
   "cell_type": "markdown",
   "id": "30459694",
   "metadata": {},
   "source": [
    "Join total population to covid deaths for comparison"
   ]
  },
  {
   "cell_type": "code",
   "execution_count": null,
   "id": "02d4f329",
   "metadata": {},
   "outputs": [],
   "source": [
    "top_10_covid = worldpop.merge(top_10_covid, left_on = [\"Location\", \"Time\"], right_on = [\"location\", \"date\"])\n",
    "\n",
    "top_10_covid = top_10_covid.drop(columns = [\"date\", \"location\"])"
   ]
  },
  {
   "cell_type": "code",
   "execution_count": null,
   "id": "f6d8c92b",
   "metadata": {},
   "outputs": [],
   "source": [
    "display(top_10_covid[:3])"
   ]
  },
  {
   "cell_type": "code",
   "execution_count": null,
   "id": "77084062",
   "metadata": {},
   "outputs": [],
   "source": [
    "# population total in 1000's \n",
    "\n",
    "top_10_covid[\"deaths percentage\"] = (top_10_covid[\"new_deaths\"]/(top_10_covid[\"PopTotal\"]*1000))\n",
    "\n",
    "top_10_covid = top_10_covid[top_10_covid[\"Location\"] != \"World\"]\n",
    "\n",
    "covid_countries = top_10_covid.sort_values(by = \"deaths percentage\", ascending = False)"
   ]
  },
  {
   "cell_type": "code",
   "execution_count": null,
   "id": "d113a3b1",
   "metadata": {},
   "outputs": [],
   "source": [
    "covid_countries = covid_countries[:10]\n",
    "\n",
    "display(covid_countries[:3])"
   ]
  },
  {
   "cell_type": "code",
   "execution_count": null,
   "id": "e9d14e61",
   "metadata": {},
   "outputs": [],
   "source": [
    "covid_trend = top_10_covid[top_10_covid[\"Location\"].isin(covid_countries[\"Location\"].unique())]\n",
    "\n",
    "display(covid_trend[:3])"
   ]
  },
  {
   "cell_type": "code",
   "execution_count": null,
   "id": "31623ff8",
   "metadata": {},
   "outputs": [],
   "source": [
    "sns.lineplot(x=\"Time\", y=\"deaths percentage\",\n",
    "             hue=\"Location\",data=covid_trend, palette=\"Set2\", lw =3).set(title = \"Countries with highest Covid-19 % of Deaths\")\n",
    "\n",
    "sns.set(rc={'figure.figsize':(15,6)})\n",
    "\n",
    "sns.set_style(\"white\")"
   ]
  },
  {
   "cell_type": "code",
   "execution_count": null,
   "id": "39abc46e",
   "metadata": {},
   "outputs": [],
   "source": [
    "# countries with most covid deaths \n",
    "continent = pd.read_csv(\"countryContinent.csv\")\n",
    "\n",
    "continent = continent[[\"country\", \"continent\"]]\n",
    "\n",
    "covid_deaths = covid_trend.merge(continent, left_on = \"Location\", right_on = \"country\")\n",
    "\n",
    "covid_deaths = covid_deaths.drop(columns = [\"country\"])\n",
    "\n",
    "display(covid_deaths[\"continent\"].unique())"
   ]
  },
  {
   "cell_type": "code",
   "execution_count": null,
   "id": "6685767f",
   "metadata": {},
   "outputs": [],
   "source": []
  }
 ],
 "metadata": {
  "kernelspec": {
   "display_name": "Python 3 (ipykernel)",
   "language": "python",
   "name": "python3"
  },
  "language_info": {
   "codemirror_mode": {
    "name": "ipython",
    "version": 3
   },
   "file_extension": ".py",
   "mimetype": "text/x-python",
   "name": "python",
   "nbconvert_exporter": "python",
   "pygments_lexer": "ipython3",
   "version": "3.9.7"
  }
 },
 "nbformat": 4,
 "nbformat_minor": 5
}
