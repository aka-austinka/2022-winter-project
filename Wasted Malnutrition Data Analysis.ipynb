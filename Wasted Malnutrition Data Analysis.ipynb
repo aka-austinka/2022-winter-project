{
 "cells": [
  {
   "cell_type": "markdown",
   "metadata": {},
   "source": [
    "## Data Cleaning "
   ]
  },
  {
   "cell_type": "code",
   "execution_count": 8,
   "metadata": {},
   "outputs": [],
   "source": [
    "import pandas as pd \n",
    "import seaborn as sns\n",
    "#import geopandas as gpd\n",
    "import json"
   ]
  },
  {
   "cell_type": "code",
   "execution_count": 9,
   "metadata": {},
   "outputs": [
    {
     "data": {
      "text/html": [
       "<div>\n",
       "<style scoped>\n",
       "    .dataframe tbody tr th:only-of-type {\n",
       "        vertical-align: middle;\n",
       "    }\n",
       "\n",
       "    .dataframe tbody tr th {\n",
       "        vertical-align: top;\n",
       "    }\n",
       "\n",
       "    .dataframe thead th {\n",
       "        text-align: right;\n",
       "    }\n",
       "</style>\n",
       "<table border=\"1\" class=\"dataframe\">\n",
       "  <thead>\n",
       "    <tr style=\"text-align: right;\">\n",
       "      <th></th>\n",
       "      <th>DATAFLOW</th>\n",
       "      <th>REF_AREA:Geographic area</th>\n",
       "      <th>INDICATOR:Indicator</th>\n",
       "      <th>SEX:Sex</th>\n",
       "      <th>TIME_PERIOD:Time period</th>\n",
       "      <th>OBS_VALUE:Observation Value</th>\n",
       "      <th>UNIT_MULTIPLIER:Unit multiplier</th>\n",
       "      <th>UNIT_MEASURE:Unit of measure</th>\n",
       "      <th>OBS_STATUS:Observation Status</th>\n",
       "      <th>OBS_CONF:Observation confidentaility</th>\n",
       "      <th>...</th>\n",
       "      <th>WGTD_SAMPL_SIZE:Weighted Sample Size</th>\n",
       "      <th>OBS_FOOTNOTE:Observation footnote</th>\n",
       "      <th>SERIES_FOOTNOTE:Series footnote</th>\n",
       "      <th>DATA_SOURCE:Data Source</th>\n",
       "      <th>SOURCE_LINK:Citation of or link to the data source</th>\n",
       "      <th>CUSTODIAN:Custodian</th>\n",
       "      <th>TIME_PERIOD_METHOD:Time period activity related to when the data are collected</th>\n",
       "      <th>REF_PERIOD:Reference Period</th>\n",
       "      <th>COVERAGE_TIME:The period of time for which data are provided</th>\n",
       "      <th>AGE:Current age</th>\n",
       "    </tr>\n",
       "  </thead>\n",
       "  <tbody>\n",
       "    <tr>\n",
       "      <th>0</th>\n",
       "      <td>UNICEF:GLOBAL_DATAFLOW(1.0): Cross-sector indi...</td>\n",
       "      <td>AFG: Afghanistan</td>\n",
       "      <td>NT_ANT_WHZ_NE2: Weight-for-height &lt;-2 SD (wast...</td>\n",
       "      <td>F: Female</td>\n",
       "      <td>2004</td>\n",
       "      <td>9.3</td>\n",
       "      <td>0: Units</td>\n",
       "      <td>PCNT: %</td>\n",
       "      <td>ER: External Reanalysis</td>\n",
       "      <td>F: Free</td>\n",
       "      <td>...</td>\n",
       "      <td>436.0</td>\n",
       "      <td>Reduced age range Age 0-5 months not covered  ...</td>\n",
       "      <td>UNICEF/WHO/World Bank Joint Malnutrition Estim...</td>\n",
       "      <td>Summary report of the national nutrition surve...</td>\n",
       "      <td>https://data.unicef.org/topic/nutrition/malnut...</td>\n",
       "      <td>UNICEF Division of Data  Analysis  Planning an...</td>\n",
       "      <td>MOF: Middle of fieldwork</td>\n",
       "      <td>NaN</td>\n",
       "      <td>1997-2018</td>\n",
       "      <td>Y0T4: Under 5 years old</td>\n",
       "    </tr>\n",
       "    <tr>\n",
       "      <th>1</th>\n",
       "      <td>UNICEF:GLOBAL_DATAFLOW(1.0): Cross-sector indi...</td>\n",
       "      <td>AFG: Afghanistan</td>\n",
       "      <td>NT_ANT_WHZ_NE2: Weight-for-height &lt;-2 SD (wast...</td>\n",
       "      <td>F: Female</td>\n",
       "      <td>2013</td>\n",
       "      <td>8.7</td>\n",
       "      <td>0: Units</td>\n",
       "      <td>PCNT: %</td>\n",
       "      <td>RA: Reanalysed</td>\n",
       "      <td>F: Free</td>\n",
       "      <td>...</td>\n",
       "      <td>2080089.9</td>\n",
       "      <td>Oedema data was not considered in the analysis...</td>\n",
       "      <td>UNICEF/WHO/World Bank Joint Malnutrition Estim...</td>\n",
       "      <td>Afghanistan National Nutrition Survey 2013</td>\n",
       "      <td>https://data.unicef.org/topic/nutrition/malnut...</td>\n",
       "      <td>UNICEF Division of Data  Analysis  Planning an...</td>\n",
       "      <td>MOF: Middle of fieldwork</td>\n",
       "      <td>NaN</td>\n",
       "      <td>1997-2018</td>\n",
       "      <td>Y0T4: Under 5 years old</td>\n",
       "    </tr>\n",
       "    <tr>\n",
       "      <th>2</th>\n",
       "      <td>UNICEF:GLOBAL_DATAFLOW(1.0): Cross-sector indi...</td>\n",
       "      <td>AFG: Afghanistan</td>\n",
       "      <td>NT_ANT_WHZ_NE2: Weight-for-height &lt;-2 SD (wast...</td>\n",
       "      <td>F: Female</td>\n",
       "      <td>2018</td>\n",
       "      <td>4.1</td>\n",
       "      <td>0: Units</td>\n",
       "      <td>PCNT: %</td>\n",
       "      <td>RA: Reanalysed</td>\n",
       "      <td>F: Free</td>\n",
       "      <td>...</td>\n",
       "      <td>9593.1</td>\n",
       "      <td>Oedema data was not considered in the analysis...</td>\n",
       "      <td>UNICEF/WHO/World Bank Joint Malnutrition Estim...</td>\n",
       "      <td>Afghanistan Health Survey 2018</td>\n",
       "      <td>https://data.unicef.org/topic/nutrition/malnut...</td>\n",
       "      <td>UNICEF Division of Data  Analysis  Planning an...</td>\n",
       "      <td>MOF: Middle of fieldwork</td>\n",
       "      <td>NaN</td>\n",
       "      <td>1997-2018</td>\n",
       "      <td>Y0T4: Under 5 years old</td>\n",
       "    </tr>\n",
       "  </tbody>\n",
       "</table>\n",
       "<p>3 rows × 22 columns</p>\n",
       "</div>"
      ],
      "text/plain": [
       "                                            DATAFLOW REF_AREA:Geographic area  \\\n",
       "0  UNICEF:GLOBAL_DATAFLOW(1.0): Cross-sector indi...         AFG: Afghanistan   \n",
       "1  UNICEF:GLOBAL_DATAFLOW(1.0): Cross-sector indi...         AFG: Afghanistan   \n",
       "2  UNICEF:GLOBAL_DATAFLOW(1.0): Cross-sector indi...         AFG: Afghanistan   \n",
       "\n",
       "                                 INDICATOR:Indicator    SEX:Sex  \\\n",
       "0  NT_ANT_WHZ_NE2: Weight-for-height <-2 SD (wast...  F: Female   \n",
       "1  NT_ANT_WHZ_NE2: Weight-for-height <-2 SD (wast...  F: Female   \n",
       "2  NT_ANT_WHZ_NE2: Weight-for-height <-2 SD (wast...  F: Female   \n",
       "\n",
       "  TIME_PERIOD:Time period  OBS_VALUE:Observation Value  \\\n",
       "0                    2004                          9.3   \n",
       "1                    2013                          8.7   \n",
       "2                    2018                          4.1   \n",
       "\n",
       "  UNIT_MULTIPLIER:Unit multiplier UNIT_MEASURE:Unit of measure  \\\n",
       "0                        0: Units                      PCNT: %   \n",
       "1                        0: Units                      PCNT: %   \n",
       "2                        0: Units                      PCNT: %   \n",
       "\n",
       "  OBS_STATUS:Observation Status OBS_CONF:Observation confidentaility  ...  \\\n",
       "0       ER: External Reanalysis                              F: Free  ...   \n",
       "1                RA: Reanalysed                              F: Free  ...   \n",
       "2                RA: Reanalysed                              F: Free  ...   \n",
       "\n",
       "   WGTD_SAMPL_SIZE:Weighted Sample Size  \\\n",
       "0                                 436.0   \n",
       "1                             2080089.9   \n",
       "2                                9593.1   \n",
       "\n",
       "                   OBS_FOOTNOTE:Observation footnote  \\\n",
       "0  Reduced age range Age 0-5 months not covered  ...   \n",
       "1  Oedema data was not considered in the analysis...   \n",
       "2  Oedema data was not considered in the analysis...   \n",
       "\n",
       "                     SERIES_FOOTNOTE:Series footnote  \\\n",
       "0  UNICEF/WHO/World Bank Joint Malnutrition Estim...   \n",
       "1  UNICEF/WHO/World Bank Joint Malnutrition Estim...   \n",
       "2  UNICEF/WHO/World Bank Joint Malnutrition Estim...   \n",
       "\n",
       "                             DATA_SOURCE:Data Source  \\\n",
       "0  Summary report of the national nutrition surve...   \n",
       "1         Afghanistan National Nutrition Survey 2013   \n",
       "2                     Afghanistan Health Survey 2018   \n",
       "\n",
       "  SOURCE_LINK:Citation of or link to the data source  \\\n",
       "0  https://data.unicef.org/topic/nutrition/malnut...   \n",
       "1  https://data.unicef.org/topic/nutrition/malnut...   \n",
       "2  https://data.unicef.org/topic/nutrition/malnut...   \n",
       "\n",
       "                                 CUSTODIAN:Custodian  \\\n",
       "0  UNICEF Division of Data  Analysis  Planning an...   \n",
       "1  UNICEF Division of Data  Analysis  Planning an...   \n",
       "2  UNICEF Division of Data  Analysis  Planning an...   \n",
       "\n",
       "  TIME_PERIOD_METHOD:Time period activity related to when the data are collected  \\\n",
       "0                           MOF: Middle of fieldwork                               \n",
       "1                           MOF: Middle of fieldwork                               \n",
       "2                           MOF: Middle of fieldwork                               \n",
       "\n",
       "  REF_PERIOD:Reference Period  \\\n",
       "0                         NaN   \n",
       "1                         NaN   \n",
       "2                         NaN   \n",
       "\n",
       "  COVERAGE_TIME:The period of time for which data are provided  \\\n",
       "0                                          1997-2018             \n",
       "1                                          1997-2018             \n",
       "2                                          1997-2018             \n",
       "\n",
       "           AGE:Current age  \n",
       "0  Y0T4: Under 5 years old  \n",
       "1  Y0T4: Under 5 years old  \n",
       "2  Y0T4: Under 5 years old  \n",
       "\n",
       "[3 rows x 22 columns]"
      ]
     },
     "metadata": {},
     "output_type": "display_data"
    }
   ],
   "source": [
    "wasted_data = pd.read_csv(\"Wasted_Data.csv\")\n",
    "\n",
    "display(wasted_data[:3])"
   ]
  },
  {
   "cell_type": "code",
   "execution_count": 12,
   "metadata": {},
   "outputs": [
    {
     "data": {
      "text/plain": [
       "array(['2004', '2013', '2018', '1997', '2019', '2000', '2005', '2009',\n",
       "       '2017', '1992', '1995', '2002', '2006', '2012', '1987', '1996',\n",
       "       '2007', '2015', '1994', '1998', '2010', '2016', '2011', '2001',\n",
       "       '1989', '2/16/2013', '6/16/2013', '2014', '1986', '1990', '1991',\n",
       "       '1993', '1999', '2003', '2008', '1985', '3/14/2019', '11/7/2019',\n",
       "       '8/12/2019', '8/27/2019', '2020', '1988', '1/1/1998', '12/1/1998',\n",
       "       '3/13/2018', '4/9/2018', '1/6/2012', '8/6/2012', '1/15/2019',\n",
       "       '9/15/2019', '1/15/1994', '12/17/1994', '1/15/2016', '5/11/2016',\n",
       "       '12/1/2016', '5/22/2015', '9/5/2015', '7/24/2018', '9/27/2018',\n",
       "       '8/22/2010', '10/24/2010', '5/15/2016', '10/1/2016', '3/28/2006',\n",
       "       '11/1/2006', '6/5/2010', '10/29/2010', '4/11/2012', '7/16/2012',\n",
       "       '4/2/2018', '10/23/2018', '1983', '1/9/2015', '4/26/2015',\n",
       "       '2/9/2019', '8/16/2019', '7/1/2017', '9/19/2017', '10/4/2010',\n",
       "       '12/21/2010'], dtype=object)"
      ]
     },
     "execution_count": 12,
     "metadata": {},
     "output_type": "execute_result"
    }
   ],
   "source": [
    "wasted_data['TIME_PERIOD:Time period'].unique() #1985 to 2019"
   ]
  },
  {
   "cell_type": "code",
   "execution_count": 5,
   "metadata": {},
   "outputs": [],
   "source": [
    "# remove unnecessary columns \n",
    "\n",
    "wasted_data = wasted_data.drop(columns = [\"DATAFLOW\", \"UNIT_MULTIPLIER:Unit multiplier\",\\\n",
    "                                            \"OBS_STATUS:Observation Status\", \"OBS_CONF:Observation confidentaility\",\\\n",
    "                                            \"SERIES_FOOTNOTE:Series footnote\", \"DATA_SOURCE:Data Source\", \"SOURCE_LINK:Citation of or link to the data source\",\\\n",
    "                                            \"CUSTODIAN:Custodian\", \"TIME_PERIOD_METHOD:Time period activity related to when the data are collected\",\\\n",
    "                                           \"REF_PERIOD:Reference Period\", \"COVERAGE_TIME:The period of time for which data are provided\",\\\n",
    "                                         \"UNIT_MEASURE:Unit of measure\", \"OBS_FOOTNOTE:Observation footnote\", \"AGE:Current age\", \"LOWER_BOUND:Lower Bound\", \"UPPER_BOUND:Upper Bound\"])"
   ]
  },
  {
   "cell_type": "code",
   "execution_count": 6,
   "metadata": {},
   "outputs": [],
   "source": [
    "# rename columns \n",
    "\n",
    "wasted_data = wasted_data.rename(columns = {\"REF_AREA:Geographic area\" : \"Country\", \"SEX:Sex\" : \"Sex\",\\\n",
    "                                           \"TIME_PERIOD:Time period\" : \"Year\", \"OBS_VALUE:Observation Value\" : \"Value\",\\\n",
    "                                           \"WGTD_SAMPL_SIZE:Weighted Sample Size\" : \"Sample Size\", \\\n",
    "                                           \"INDICATOR:Indicator\" : \"Indicator\"})"
   ]
  },
  {
   "cell_type": "markdown",
   "metadata": {},
   "source": [
    "Fixing Countries"
   ]
  },
  {
   "cell_type": "code",
   "execution_count": 5,
   "metadata": {},
   "outputs": [
    {
     "name": "stdout",
     "output_type": "stream",
     "text": [
      "                           0                    1\n",
      "0                        AFG          Afghanistan\n",
      "1                        AFG          Afghanistan\n",
      "2                        AFG          Afghanistan\n",
      "3                        AFG          Afghanistan\n",
      "4                        AFG          Afghanistan\n",
      "...                      ...                  ...\n",
      "4756                  WB_SSA   sub-Saharan Africa\n",
      "4757  UNSDG_SUBSAHARANAFRICA   sub-Saharan Africa\n",
      "4758                  WB_SSA   sub-Saharan Africa\n",
      "4759              UNICEF_SSA   Sub-Saharan Africa\n",
      "4760              UNICEF_SSA   Sub-Saharan Africa\n",
      "\n",
      "[4761 rows x 2 columns]\n"
     ]
    }
   ],
   "source": [
    "split_columns = wasted_data[\"Country\"].str.split(':', expand=True)\n",
    "\n",
    "print(split_columns)"
   ]
  },
  {
   "cell_type": "code",
   "execution_count": 6,
   "metadata": {},
   "outputs": [],
   "source": [
    "# merge new table with old \n",
    "wasted_data = wasted_data.join(split_columns)"
   ]
  },
  {
   "cell_type": "code",
   "execution_count": 7,
   "metadata": {},
   "outputs": [
    {
     "name": "stdout",
     "output_type": "stream",
     "text": [
      "                                         Country  \\\n",
      "0                               AFG: Afghanistan   \n",
      "1                               AFG: Afghanistan   \n",
      "2                               AFG: Afghanistan   \n",
      "3                               AFG: Afghanistan   \n",
      "4                               AFG: Afghanistan   \n",
      "...                                          ...   \n",
      "4756                  WB_SSA: sub-Saharan Africa   \n",
      "4757  UNSDG_SUBSAHARANAFRICA: sub-Saharan Africa   \n",
      "4758                  WB_SSA: sub-Saharan Africa   \n",
      "4759              UNICEF_SSA: Sub-Saharan Africa   \n",
      "4760              UNICEF_SSA: Sub-Saharan Africa   \n",
      "\n",
      "                                              Indicator        Sex  Year  \\\n",
      "0     NT_ANT_WHZ_NE2: Weight-for-height <-2 SD (wast...  F: Female  2004   \n",
      "1     NT_ANT_WHZ_NE2: Weight-for-height <-2 SD (wast...  F: Female  2013   \n",
      "2     NT_ANT_WHZ_NE2: Weight-for-height <-2 SD (wast...  F: Female  2018   \n",
      "3     NT_ANT_WHZ_NE3: Weight-for-height <-3 SD (seve...  F: Female  2004   \n",
      "4     NT_ANT_WHZ_NE3: Weight-for-height <-3 SD (seve...  F: Female  2013   \n",
      "...                                                 ...        ...   ...   \n",
      "4756  NT_ANT_WHZ_NE2: Weight-for-height <-2 SD (wast...  _T: Total  2019   \n",
      "4757  NT_ANT_WHZ_NE3: Weight-for-height <-3 SD (seve...  _T: Total  2019   \n",
      "4758  NT_ANT_WHZ_NE3: Weight-for-height <-3 SD (seve...  _T: Total  2019   \n",
      "4759  NT_ANT_WHZ_NE2: Weight-for-height <-2 SD (wast...  _T: Total  2019   \n",
      "4760  NT_ANT_WHZ_NE3: Weight-for-height <-3 SD (seve...  _T: Total  2019   \n",
      "\n",
      "         Value  Sample Size                       0                    1  \n",
      "0     9.300000        436.0                     AFG          Afghanistan  \n",
      "1     8.700000    2080089.9                     AFG          Afghanistan  \n",
      "2     4.100000       9593.1                     AFG          Afghanistan  \n",
      "3     4.300000        436.0                     AFG          Afghanistan  \n",
      "4     3.500000    2080089.9                     AFG          Afghanistan  \n",
      "...        ...          ...                     ...                  ...  \n",
      "4756  6.801564          NaN                  WB_SSA   sub-Saharan Africa  \n",
      "4757  1.530878          NaN  UNSDG_SUBSAHARANAFRICA   sub-Saharan Africa  \n",
      "4758  1.734109          NaN                  WB_SSA   sub-Saharan Africa  \n",
      "4759  6.934016          NaN              UNICEF_SSA   Sub-Saharan Africa  \n",
      "4760  1.781044          NaN              UNICEF_SSA   Sub-Saharan Africa  \n",
      "\n",
      "[4761 rows x 8 columns]\n"
     ]
    }
   ],
   "source": [
    "print(wasted_data)"
   ]
  },
  {
   "cell_type": "code",
   "execution_count": 8,
   "metadata": {},
   "outputs": [
    {
     "data": {
      "text/plain": [
       "array(['NT_ANT_WHZ_NE2: Weight-for-height <-2 SD (wasting)',\n",
       "       'NT_ANT_WHZ_NE3: Weight-for-height <-3 SD (severe wasting)'],\n",
       "      dtype=object)"
      ]
     },
     "execution_count": 8,
     "metadata": {},
     "output_type": "execute_result"
    }
   ],
   "source": [
    "wasted_data[\"Indicator\"].unique()"
   ]
  },
  {
   "cell_type": "code",
   "execution_count": 9,
   "metadata": {},
   "outputs": [],
   "source": [
    "# extract just the indicator \n",
    "\n",
    "wasted_data[\"Wasting Type\"] = wasted_data[\"Indicator\"].str.extract('(\\d+)')\n",
    "\n",
    "wasted_data = wasted_data.drop(columns = [\"Indicator\", \"Country\"])"
   ]
  },
  {
   "cell_type": "code",
   "execution_count": 10,
   "metadata": {},
   "outputs": [],
   "source": [
    "# replacing variables \n",
    "\n",
    "wasted_data[\"Wasting Type\"] = wasted_data[\"Wasting Type\"].replace(\"2\", \"Wasting\")\n",
    "wasted_data[\"Wasting Type\"] = wasted_data[\"Wasting Type\"].replace(\"3\", \"Severe Wasting\")"
   ]
  },
  {
   "cell_type": "code",
   "execution_count": 11,
   "metadata": {},
   "outputs": [],
   "source": [
    "# rename columns \n",
    "\n",
    "wasted_data = wasted_data.rename(columns = {0 : \"ISO Code\", 1 : \"Country Name\"})"
   ]
  },
  {
   "cell_type": "code",
   "execution_count": 12,
   "metadata": {},
   "outputs": [],
   "source": [
    "wasted_data[\"Sex\"] = wasted_data[\"Sex\"].str[0]"
   ]
  },
  {
   "cell_type": "markdown",
   "metadata": {},
   "source": [
    "Fixing Years "
   ]
  },
  {
   "cell_type": "code",
   "execution_count": 13,
   "metadata": {},
   "outputs": [],
   "source": [
    "wasted_data[\"Year\"] =  pd.to_datetime(wasted_data[\"Year\"]).dt.year"
   ]
  },
  {
   "cell_type": "markdown",
   "metadata": {},
   "source": [
    "Remove non-country entries"
   ]
  },
  {
   "cell_type": "code",
   "execution_count": 14,
   "metadata": {},
   "outputs": [],
   "source": [
    "wasted_data = wasted_data[wasted_data[\"ISO Code\"].str.contains(\"_\")==False]"
   ]
  },
  {
   "cell_type": "code",
   "execution_count": 15,
   "metadata": {},
   "outputs": [],
   "source": [
    "wasted_data[\"Country Name\"] = wasted_data[\"Country Name\"].str.strip()"
   ]
  },
  {
   "cell_type": "code",
   "execution_count": 24,
   "metadata": {},
   "outputs": [
    {
     "data": {
      "text/plain": [
       "0       Afghanistan\n",
       "1       Afghanistan\n",
       "2       Afghanistan\n",
       "3       Afghanistan\n",
       "4       Afghanistan\n",
       "           ...     \n",
       "4750       Zimbabwe\n",
       "4751       Zimbabwe\n",
       "4752       Zimbabwe\n",
       "4753       Zimbabwe\n",
       "4754       Zimbabwe\n",
       "Name: Country Name, Length: 4601, dtype: object"
      ]
     },
     "metadata": {},
     "output_type": "display_data"
    }
   ],
   "source": [
    "display(wasted_data)"
   ]
  },
  {
   "cell_type": "markdown",
   "metadata": {},
   "source": [
    "## Data Mapping"
   ]
  },
  {
   "cell_type": "code",
   "execution_count": 17,
   "metadata": {},
   "outputs": [
    {
     "data": {
      "text/plain": [
       "Index(['admin', 'adm0_a3', 'geometry'], dtype='object')"
      ]
     },
     "metadata": {},
     "output_type": "display_data"
    }
   ],
   "source": [
    "shapefiles = gpd.read_file(\"custom.geo.json\")[['admin', 'adm0_a3', 'geometry']]\n",
    "\n",
    "display(shapefiles.columns)"
   ]
  },
  {
   "cell_type": "code",
   "execution_count": 18,
   "metadata": {},
   "outputs": [
    {
     "name": "stdout",
     "output_type": "stream",
     "text": [
      "            admin adm0_a3                                           geometry  \\\n",
      "0     Afghanistan     AFG  POLYGON ((61.21082 35.65007, 62.23065 35.27066...   \n",
      "1     Afghanistan     AFG  POLYGON ((61.21082 35.65007, 62.23065 35.27066...   \n",
      "2     Afghanistan     AFG  POLYGON ((61.21082 35.65007, 62.23065 35.27066...   \n",
      "3     Afghanistan     AFG  POLYGON ((61.21082 35.65007, 62.23065 35.27066...   \n",
      "4     Afghanistan     AFG  POLYGON ((61.21082 35.65007, 62.23065 35.27066...   \n",
      "...           ...     ...                                                ...   \n",
      "4596     Zimbabwe     ZWE  POLYGON ((31.19141 -22.25151, 30.65987 -22.151...   \n",
      "4597     Zimbabwe     ZWE  POLYGON ((31.19141 -22.25151, 30.65987 -22.151...   \n",
      "4598     Zimbabwe     ZWE  POLYGON ((31.19141 -22.25151, 30.65987 -22.151...   \n",
      "4599     Zimbabwe     ZWE  POLYGON ((31.19141 -22.25151, 30.65987 -22.151...   \n",
      "4600     Zimbabwe     ZWE  POLYGON ((31.19141 -22.25151, 30.65987 -22.151...   \n",
      "\n",
      "     Sex  Year  Value  Sample Size ISO Code Country Name    Wasting Type  \n",
      "0      F  2004    9.3        436.0      AFG  Afghanistan         Wasting  \n",
      "1      F  2013    8.7    2080089.9      AFG  Afghanistan         Wasting  \n",
      "2      F  2018    4.1       9593.1      AFG  Afghanistan         Wasting  \n",
      "3      F  2004    4.3        436.0      AFG  Afghanistan  Severe Wasting  \n",
      "4      F  2013    3.5    2080089.9      AFG  Afghanistan  Severe Wasting  \n",
      "...   ..   ...    ...          ...      ...          ...             ...  \n",
      "4596   _  2009    0.5       6210.1      ZWE     Zimbabwe  Severe Wasting  \n",
      "4597   _  2010    0.8       5365.5      ZWE     Zimbabwe  Severe Wasting  \n",
      "4598   _  2014    0.7       9549.8      ZWE     Zimbabwe  Severe Wasting  \n",
      "4599   _  2015    1.1       6266.2      ZWE     Zimbabwe  Severe Wasting  \n",
      "4600   _  2019    0.3       5968.5      ZWE     Zimbabwe  Severe Wasting  \n",
      "\n",
      "[4601 rows x 10 columns]\n"
     ]
    }
   ],
   "source": [
    "merged = shapefiles.merge(wasted_data, left_on = 'adm0_a3', right_on = 'ISO Code', how='right')\n",
    "\n",
    "print(merged)"
   ]
  },
  {
   "cell_type": "code",
   "execution_count": 19,
   "metadata": {},
   "outputs": [],
   "source": [
    "merged_json = json.loads(merged.to_json())\n",
    "json_data = json.dumps(merged_json)"
   ]
  },
  {
   "cell_type": "code",
   "execution_count": 20,
   "metadata": {},
   "outputs": [
    {
     "ename": "ModuleNotFoundError",
     "evalue": "No module named 'bokeh'",
     "output_type": "error",
     "traceback": [
      "\u001b[1;31m---------------------------------------------------------------------------\u001b[0m",
      "\u001b[1;31mModuleNotFoundError\u001b[0m                       Traceback (most recent call last)",
      "\u001b[1;32m~\\AppData\\Local\\Temp/ipykernel_6964/690730286.py\u001b[0m in \u001b[0;36m<module>\u001b[1;34m\u001b[0m\n\u001b[1;32m----> 1\u001b[1;33m \u001b[1;32mfrom\u001b[0m \u001b[0mbokeh\u001b[0m\u001b[1;33m.\u001b[0m\u001b[0mio\u001b[0m \u001b[1;32mimport\u001b[0m \u001b[0moutput_notebook\u001b[0m\u001b[1;33m,\u001b[0m \u001b[0mshow\u001b[0m\u001b[1;33m,\u001b[0m \u001b[0moutput_file\u001b[0m\u001b[1;33m\u001b[0m\u001b[1;33m\u001b[0m\u001b[0m\n\u001b[0m\u001b[0;32m      2\u001b[0m \u001b[1;32mfrom\u001b[0m \u001b[0mbokeh\u001b[0m\u001b[1;33m.\u001b[0m\u001b[0mplotting\u001b[0m \u001b[1;32mimport\u001b[0m \u001b[0mfigure\u001b[0m\u001b[1;33m\u001b[0m\u001b[1;33m\u001b[0m\u001b[0m\n\u001b[0;32m      3\u001b[0m \u001b[1;32mfrom\u001b[0m \u001b[0mbokeh\u001b[0m\u001b[1;33m.\u001b[0m\u001b[0mmodels\u001b[0m \u001b[1;32mimport\u001b[0m \u001b[0mGeoJSONDataSource\u001b[0m\u001b[1;33m,\u001b[0m \u001b[0mLinearColorMapper\u001b[0m\u001b[1;33m,\u001b[0m \u001b[0mColorBar\u001b[0m\u001b[1;33m\u001b[0m\u001b[1;33m\u001b[0m\u001b[0m\n\u001b[0;32m      4\u001b[0m \u001b[1;32mfrom\u001b[0m \u001b[0mbokeh\u001b[0m\u001b[1;33m.\u001b[0m\u001b[0mpalettes\u001b[0m \u001b[1;32mimport\u001b[0m \u001b[0mbrewer\u001b[0m\u001b[1;33m\u001b[0m\u001b[1;33m\u001b[0m\u001b[0m\n\u001b[0;32m      5\u001b[0m \u001b[1;33m\u001b[0m\u001b[0m\n",
      "\u001b[1;31mModuleNotFoundError\u001b[0m: No module named 'bokeh'"
     ]
    }
   ],
   "source": [
    "from bokeh.io import output_notebook, show, output_file\n",
    "from bokeh.plotting import figure\n",
    "from bokeh.models import GeoJSONDataSource, LinearColorMapper, ColorBar\n",
    "from bokeh.palettes import brewer\n",
    "\n",
    "def plot_map(json_data,plot_col,title):\n",
    "\n",
    "    geosource = GeoJSONDataSource(geojson = json_data)\n",
    "\n",
    "    #Define a sequential multi-hue color palette.\n",
    "    palette = brewer['YlGnBu'][8]\n",
    "    palette = palette[::-1]\n",
    "    color_mapper = LinearColorMapper(palette = palette, low = 0, high = 40)\n",
    "\n",
    "    tick_labels = {'0': '0%', '5': '5%', '10':'10%', '15':'15%', '20':'20%', '25':'25%', '30':'30%','35':'35%', '40': '>40%'}\n",
    "\n",
    "    color_bar = ColorBar(color_mapper=color_mapper, label_standoff=8,width = 500, height = 20,\n",
    "    border_line_color=None,location = (0,0), orientation = 'horizontal', major_label_overrides = tick_labels)\n",
    "\n",
    "    p = figure(title = title, plot_height = 600 , plot_width = 950, toolbar_location = None)\n",
    "    p.xgrid.grid_line_color = None\n",
    "    p.ygrid.grid_line_color = None\n",
    "\n",
    "    p.patches('xs','ys', source = geosource,fill_color = {'field' :plot_col, 'transform' : color_mapper},\n",
    "              line_color = 'black', line_width = 0.25, fill_alpha = 1)\n",
    "\n",
    "    p.add_layout(color_bar, 'below')\n",
    "\n",
    "    output_notebook()\n",
    "\n",
    "    #Display figure.\n",
    "    show(p)"
   ]
  },
  {
   "cell_type": "code",
   "execution_count": null,
   "metadata": {},
   "outputs": [],
   "source": []
  }
 ],
 "metadata": {
  "kernelspec": {
   "display_name": "Python 3 (ipykernel)",
   "language": "python",
   "name": "python3"
  },
  "language_info": {
   "codemirror_mode": {
    "name": "ipython",
    "version": 3
   },
   "file_extension": ".py",
   "mimetype": "text/x-python",
   "name": "python",
   "nbconvert_exporter": "python",
   "pygments_lexer": "ipython3",
   "version": "3.9.7"
  }
 },
 "nbformat": 4,
 "nbformat_minor": 4
}
