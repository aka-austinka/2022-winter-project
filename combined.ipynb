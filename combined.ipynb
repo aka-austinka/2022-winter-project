{
 "cells": [
  {
   "cell_type": "markdown",
   "id": "0913476b",
   "metadata": {},
   "source": [
    "# Global Malnutrition Analysis"
   ]
  },
  {
   "cell_type": "markdown",
   "id": "623a4c12",
   "metadata": {},
   "source": [
    "In this project, we have analyzed several sources of data relevant to malnutrition amongst children ranging from the ages of infant to 5 years old. The major components of our analysis is as follows: \n",
    "\n",
    "1. Extracting data from various sources including UNICEF, World Bank and more (listed below) \n",
    "2. Combining malnutrition data into a single dataframe with information regarding wasting, overweight and stunting conditions amongst the global population of children from 1978 to 2021 \n",
    "3. Analysing countries with the highest prevalence of malnutrition \n",
    "4. Developing a world heat map visualization to see the global malnutrition trend over the years \n",
    "5. Assessing a relationship, if any, between COVID deaths experienced by the country and prevalence of malnutrition among children"
   ]
  },
  {
   "cell_type": "markdown",
   "id": "c58e6457",
   "metadata": {},
   "source": [
    "## Data Sources"
   ]
  },
  {
   "cell_type": "markdown",
   "id": "38d88f69",
   "metadata": {},
   "source": [
    "1. The malnutrtion data is from UNICEF.org and it has the ratio of kids under 5 with stunt/severe stunting, wasted/severe wasted, and overweight problems at country-level from 1970 to 2021.\\\n",
    "(datalink: https://data.unicef.org/resources/data_explorer/unicef_f/?ag=UNICEF&df=GLOBAL_DATAFLOW&ver=1.0&dq=.NT_ANT_HAZ_NE2+NT_ANT_HAZ_NE3..&startPeriod=2016&endPeriod=2021).\n",
    "\n",
    "2. COVID deaths data from OurWorldInData.org.\\\n",
    "(datalink: https://ourworldindata.org/coronavirus-source-data)\n",
    "\n",
    "3. Continent & Country Data from Kaggle.\\\n",
    "(datalink: https://www.kaggle.com/statchaitya/country-to-continent) "
   ]
  },
  {
   "cell_type": "markdown",
   "id": "3dc72a38",
   "metadata": {},
   "source": [
    "## 1. Data Gathering"
   ]
  },
  {
   "cell_type": "markdown",
   "id": "90bc1c49",
   "metadata": {},
   "source": [
    "The data sources described above will be used to extract relevant data that we will use for our analysis."
   ]
  },
  {
   "cell_type": "code",
   "execution_count": 3,
   "id": "f0c19c76",
   "metadata": {},
   "outputs": [
    {
     "ename": "ModuleNotFoundError",
     "evalue": "No module named 'descartes'",
     "output_type": "error",
     "traceback": [
      "\u001b[1;31m---------------------------------------------------------------------------\u001b[0m",
      "\u001b[1;31mModuleNotFoundError\u001b[0m                       Traceback (most recent call last)",
      "\u001b[1;32m~\\AppData\\Local\\Temp/ipykernel_5348/514669335.py\u001b[0m in \u001b[0;36m<module>\u001b[1;34m\u001b[0m\n\u001b[0;32m     16\u001b[0m \u001b[1;32mimport\u001b[0m \u001b[0mos\u001b[0m\u001b[1;33m\u001b[0m\u001b[1;33m\u001b[0m\u001b[0m\n\u001b[0;32m     17\u001b[0m \u001b[1;32mimport\u001b[0m \u001b[0mgeopandas\u001b[0m \u001b[1;32mas\u001b[0m \u001b[0mgpd\u001b[0m\u001b[1;33m\u001b[0m\u001b[1;33m\u001b[0m\u001b[0m\n\u001b[1;32m---> 18\u001b[1;33m \u001b[1;32mimport\u001b[0m \u001b[0mdescartes\u001b[0m\u001b[1;33m\u001b[0m\u001b[1;33m\u001b[0m\u001b[0m\n\u001b[0m\u001b[0;32m     19\u001b[0m \u001b[1;32mimport\u001b[0m \u001b[0mwarnings\u001b[0m\u001b[1;33m\u001b[0m\u001b[1;33m\u001b[0m\u001b[0m\n\u001b[0;32m     20\u001b[0m \u001b[0mwarnings\u001b[0m\u001b[1;33m.\u001b[0m\u001b[0mfilterwarnings\u001b[0m\u001b[1;33m(\u001b[0m\u001b[1;34m'ignore'\u001b[0m\u001b[1;33m)\u001b[0m\u001b[1;33m\u001b[0m\u001b[1;33m\u001b[0m\u001b[0m\n",
      "\u001b[1;31mModuleNotFoundError\u001b[0m: No module named 'descartes'"
     ]
    }
   ],
   "source": [
    "# download necessary packages\n",
    "\n",
    "# basic packages\n",
    "import pandas as pd  #dataframe\n",
    "import numpy as np  #calculation\n",
    "import scipy as sp #calculation\n",
    "# regression analysis\n",
    "from sklearn import linear_model #linear regression\n",
    "import statsmodels.api as sm #linear regression model\n",
    "# graphing\n",
    "import matplotlib.pyplot as plt #plot\n",
    "import seaborn as sns #plot\n",
    "from scipy.interpolate import interp1d #interpolation\n",
    "from seaborn import heatmap #heatmap\n",
    "# geopandas\n",
    "import os\n",
    "import geopandas as gpd\n",
    "import descartes\n",
    "import warnings\n",
    "warnings.filterwarnings('ignore')"
   ]
  },
  {
   "cell_type": "markdown",
   "id": "7138b10f",
   "metadata": {},
   "source": [
    "Download each of Waste/Severe Waste/Stunt/Severe Stunt/Overweight dataset and save in panda.DataFrames and show headlines for each dataframe.\n"
   ]
  },
  {
   "cell_type": "code",
   "execution_count": null,
   "id": "fed65a9a",
   "metadata": {},
   "outputs": [],
   "source": [
    "wasted_data = pd.read_csv(\"Wasted_Data.csv\")\n",
    "display(wasted_data[:3])"
   ]
  },
  {
   "cell_type": "code",
   "execution_count": null,
   "id": "ecbd286f",
   "metadata": {
    "scrolled": true
   },
   "outputs": [],
   "source": [
    "# make sure the data downloaded is for wasting only\n",
    "wasted_data['INDICATOR:Indicator'].unique() "
   ]
  },
  {
   "cell_type": "code",
   "execution_count": null,
   "id": "63b68852",
   "metadata": {},
   "outputs": [],
   "source": [
    "ser_wasted_data=pd.read_csv(\"Severe_Wasted_Data.csv\")\n",
    "display(ser_wasted_data[:1])"
   ]
  },
  {
   "cell_type": "code",
   "execution_count": null,
   "id": "d2457361",
   "metadata": {},
   "outputs": [],
   "source": [
    "ser_wasted_data['INDICATOR:Indicator'].unique() #for severe wasting only"
   ]
  },
  {
   "cell_type": "code",
   "execution_count": null,
   "id": "464395f5",
   "metadata": {
    "scrolled": false
   },
   "outputs": [],
   "source": [
    "stunted_data = pd.read_csv(\"Stunt_Data.csv\")\n",
    "display(stunted_data[:1])"
   ]
  },
  {
   "cell_type": "code",
   "execution_count": null,
   "id": "51805a4b",
   "metadata": {
    "scrolled": true
   },
   "outputs": [],
   "source": [
    "stunted_data['INDICATOR:Indicator'].unique() #stunting only"
   ]
  },
  {
   "cell_type": "code",
   "execution_count": null,
   "id": "07d88a77",
   "metadata": {
    "scrolled": true
   },
   "outputs": [],
   "source": [
    "ser_stunted_data = pd.read_csv(\"Severe_Stunt_Data.csv\")\n",
    "display(ser_stunted_data[:1])"
   ]
  },
  {
   "cell_type": "code",
   "execution_count": null,
   "id": "09c5508f",
   "metadata": {},
   "outputs": [],
   "source": [
    "ser_stunted_data['INDICATOR:Indicator'].unique() #severe stunting only"
   ]
  },
  {
   "cell_type": "code",
   "execution_count": null,
   "id": "e9b3e6da",
   "metadata": {
    "scrolled": false
   },
   "outputs": [],
   "source": [
    "overweight_data = pd.read_csv(\"Overweight_Data.csv\")\n",
    "display(overweight_data[:1])"
   ]
  },
  {
   "cell_type": "code",
   "execution_count": null,
   "id": "98ac9e2b",
   "metadata": {},
   "outputs": [],
   "source": [
    "overweight_data['INDICATOR:Indicator'].unique() #overweight only"
   ]
  },
  {
   "cell_type": "markdown",
   "id": "b6bf0420",
   "metadata": {},
   "source": [
    "## 2. Data Cleaning"
   ]
  },
  {
   "cell_type": "markdown",
   "id": "6fa6c32b",
   "metadata": {},
   "source": [
    "We will now clean up the datasets by renaming columns for simplifcation and combining the datasets to make a concise dataframe for analysis. After the data cleaning phase, the clean dataframe should contain data for overweight, stunting and wasting among children as well as a mean that summarizes these percentages. "
   ]
  },
  {
   "cell_type": "code",
   "execution_count": null,
   "id": "96841d48",
   "metadata": {},
   "outputs": [],
   "source": [
    "# rename columns and only keep the relevant data columns\n",
    "rename_dfs=[wasted_data,ser_wasted_data,stunted_data,ser_stunted_data,overweight_data]\n",
    "rename_names=['Waste_percent','Severe_Waste_percent','Stunt_percent','Severe_Stunt_percent','Overweight_percent']\n",
    "for i in range(len(rename_dfs)):\n",
    "    rename_dfs[i]=rename_dfs[i].rename(columns = {\"REF_AREA:Geographic area\" : \"Country\", \"SEX:Sex\" : \"Sex\",\\\n",
    "                                     \"TIME_PERIOD:Time period\" : \"Year\", \"OBS_VALUE:Observation Value\" :rename_names[i] ,\\\n",
    "                                           'AGE:Current age':'Age'})\n",
    "    rename_dfs[i]=rename_dfs[i][['Country','Sex','Year',rename_names[i],'Age']]\n",
    "    \n",
    "    "
   ]
  },
  {
   "cell_type": "code",
   "execution_count": null,
   "id": "1f02a3b2",
   "metadata": {
    "scrolled": false
   },
   "outputs": [],
   "source": [
    "# showing a sample of dataframes to make sure the names are succesfully changed\n",
    "display(rename_dfs[0].columns)"
   ]
  },
  {
   "cell_type": "code",
   "execution_count": null,
   "id": "68c379e6",
   "metadata": {
    "scrolled": false
   },
   "outputs": [],
   "source": [
    "# Combine dataframes on columns except the malnutrition percents\n",
    "combine_cols=rename_dfs[0].columns.tolist()\n",
    "combine_cols.pop(3)\n",
    "combined_df=wasted_df.merge(ser_wasted_df,how='outer',on=combine_cols)\\\n",
    "            .merge(stunted_df,how='outer',on=combine_cols)\\\n",
    "            .merge(ser_stunted_df,how='outer',on=combine_cols)\\\n",
    "            .merge(overweight_df,how='outer',on=combine_cols)\\\n",
    "# shown sample lines\n",
    "combined_df.head(3)"
   ]
  },
  {
   "cell_type": "code",
   "execution_count": null,
   "id": "41127d28",
   "metadata": {
    "scrolled": true
   },
   "outputs": [],
   "source": [
    "# Calculate total waste percent column from adding percentage with normal waste condition and percentage with severe waste condition\n",
    "combined_df['Waste_total_percent']=combined_df['Waste_percent']+combined_df['Severe_Waste_percent']\n",
    "combined_df['Stunt_total_percent']=combined_df['Stunt_percent']+combined_df['Severe_Stunt_percent']\n",
    "combined_df.head(1)"
   ]
  },
  {
   "cell_type": "code",
   "execution_count": null,
   "id": "f636884e",
   "metadata": {},
   "outputs": [],
   "source": [
    "# pop the previous waste & stunt columns, only keep the \"waste total\" and \"stunt total\" column\n",
    "cols=['Waste_percent','Severe_Waste_percent','Stunt_percent','Severe_Stunt_percent']\n",
    "for c in cols:\n",
    "    combined_df.pop(c)\n",
    "combined_df.head(1)"
   ]
  },
  {
   "cell_type": "code",
   "execution_count": null,
   "id": "fe13bbc4",
   "metadata": {},
   "outputs": [],
   "source": [
    "# save the column names for future uses\n",
    "mal_type=['Mean','Overweight_percent','Waste_total_percent','Stunt_total_percent']\n",
    "#malnutrition type 0=mean\n",
    "#malnutrition type 1=overweight\n",
    "#malnutrition type 2=waste\n",
    "#malnutrition type 3=stunt"
   ]
  },
  {
   "cell_type": "markdown",
   "id": "d1ece032",
   "metadata": {},
   "source": [
    "Now let's observe the properties of columns of our cleaned new combined dataframe."
   ]
  },
  {
   "cell_type": "code",
   "execution_count": null,
   "id": "0f42ab7f",
   "metadata": {},
   "outputs": [],
   "source": [
    "# 1. Make sure the age is all same.\n",
    "combined_df['Age'].unique()\n",
    "print('All data are for kids under 5 years old.')"
   ]
  },
  {
   "cell_type": "code",
   "execution_count": null,
   "id": "fecd5b13",
   "metadata": {},
   "outputs": [],
   "source": [
    "# Since the data only for kids under 5, we can delete this column.\n",
    "del combined_df['Age']  "
   ]
  },
  {
   "cell_type": "code",
   "execution_count": null,
   "id": "ed1b2cd9",
   "metadata": {},
   "outputs": [],
   "source": [
    "# 2. Format sex column\n",
    "combined_df['Sex'].unique()"
   ]
  },
  {
   "cell_type": "code",
   "execution_count": null,
   "id": "e85cb97f",
   "metadata": {},
   "outputs": [],
   "source": [
    "# only leave the \"Total\" for analysis\n",
    "combined_df[\"Sex\"] = combined_df[\"Sex\"].str[1]\n",
    "combined_df=combined_df[combined_df[\"Sex\"]=='T']\n",
    "del combined_df['Sex']  "
   ]
  },
  {
   "cell_type": "code",
   "execution_count": null,
   "id": "48b8bb98",
   "metadata": {},
   "outputs": [],
   "source": [
    "# 3. Format countries and regions\n",
    "country_count=len(combined_df['Country'].unique())\n",
    "print('There are a total number of '+ str(country_count) + ' countries/regions in the DataFrame initially.')"
   ]
  },
  {
   "cell_type": "code",
   "execution_count": null,
   "id": "5b53b8b7",
   "metadata": {
    "scrolled": true
   },
   "outputs": [],
   "source": [
    "# Format countries, separate to 3 digit ISO code and name\n",
    "split_countries= combined_df[\"Country\"].str.split(':', expand=True)\n",
    "\n",
    "# join to combine df\n",
    "combined_df = split_countries.join(combined_df)\n",
    "\n",
    "# rename columns\n",
    "combined_df = combined_df.rename(columns = {0 : \"ISO Code\", 1 : \"Country Name\"})\n",
    "\n",
    "# format the region\n",
    "combined_df[\"Country Name\"] = combined_df[\"Country Name\"].str.strip()\n",
    "\n",
    "# filter only the countrys not regions\n",
    "combined_df = combined_df[combined_df[\"ISO Code\"].str.contains(\"_\")==False]\n",
    "\n",
    "# remove previous columns\n",
    "del combined_df['Country']\n",
    "\n",
    "combined_df.head(3)"
   ]
  },
  {
   "cell_type": "code",
   "execution_count": null,
   "id": "4238a14d",
   "metadata": {},
   "outputs": [],
   "source": [
    "new_country_count=len(combined_df['Country Name'].unique())\n",
    "print('There are now a total number of '+ str(new_country_count) + ' countries in the DataFrame now.')"
   ]
  },
  {
   "cell_type": "markdown",
   "id": "82bfabaa",
   "metadata": {},
   "source": [
    "Its important to note that there are 195 countries in the world indicating that certain countries are missing from this dataset. The data from these missing countries may significantly alter the course of the analysis but we continue to analysis the dataset as is. "
   ]
  },
  {
   "cell_type": "code",
   "execution_count": null,
   "id": "2e8cdd3a",
   "metadata": {
    "scrolled": true
   },
   "outputs": [],
   "source": [
    "# 4. Observe the Year columns\n",
    "combined_df['Year'].unique()"
   ]
  },
  {
   "cell_type": "markdown",
   "id": "fa202928",
   "metadata": {},
   "source": [
    "Observe some data is recored per date instead of per year, and we only want to keep the dataframe one row per year, so we need to format the Year and keep the average of all percentages if there is more than one year appeared for each country."
   ]
  },
  {
   "cell_type": "code",
   "execution_count": null,
   "id": "9712ee70",
   "metadata": {
    "scrolled": true
   },
   "outputs": [],
   "source": [
    "combined_df[\"Year\"] =  pd.to_datetime(combined_df[\"Year\"]).dt.year\n",
    "combined_df=combined_df.groupby(['ISO Code','Country Name','Year'],as_index=False).mean()\n",
    "display(combined_df[:3])"
   ]
  },
  {
   "cell_type": "code",
   "execution_count": null,
   "id": "8cb825af",
   "metadata": {},
   "outputs": [],
   "source": [
    "#observe year ranges\n",
    "years=combined_df['Year'].unique()\n",
    "print(sorted(years))"
   ]
  },
  {
   "cell_type": "code",
   "execution_count": null,
   "id": "c7fe14d9",
   "metadata": {
    "scrolled": true
   },
   "outputs": [],
   "source": [
    "# 5. Now our dataframe is cleaned and we are ready to drop rows with Na values\n",
    "combined_df.dropna(inplace=True) #drop NaN"
   ]
  },
  {
   "cell_type": "code",
   "execution_count": null,
   "id": "724992c2",
   "metadata": {
    "scrolled": true
   },
   "outputs": [],
   "source": [
    "# create a new column of malnutrition score for mean of the five malnutrition factor\n",
    "combined_df['Mean']=combined_df.iloc[:,4:9].mean(axis=1)\n",
    "combined_df.head(3)"
   ]
  },
  {
   "cell_type": "markdown",
   "id": "b2671712",
   "metadata": {},
   "source": [
    "Its important to note here that the calculated mean of the various malnutrition conditions may not be the most ideal representation of each country during that year but we've chosen this method as a relatively high level status of the country. "
   ]
  },
  {
   "cell_type": "markdown",
   "id": "86338925",
   "metadata": {},
   "source": [
    "## 3. Creating Visualizations"
   ]
  },
  {
   "cell_type": "code",
   "execution_count": null,
   "id": "ab17459c",
   "metadata": {},
   "outputs": [],
   "source": [
    "# now observe overweight/waste/stunt \n",
    "fig, axis = plt.subplots(2,2) \n",
    "fig.suptitle(\"World's Children Malnutrition Histogram\")\n",
    "\n",
    "# Mean\n",
    "axis[0,0].hist(combined_df[mal_type[0]],bins=30,color='deepskyblue',alpha=0.5)\n",
    "#axis[0,0].set_title(\"Mean malnutrition\")\n",
    "axis[0,0].set_xlabel('Mean malnutrition Percentage')\n",
    "axis[0,0].set_ylabel('Number of Countries')\n",
    "\n",
    "# Overweight\n",
    "axis[0,1].hist(combined_df[mal_type[1]],bins=30,color='royalblue',alpha=0.5)\n",
    "#axis[0,1].set_title(\"Overweight\")\n",
    "axis[0,1].set_xlabel('Overweight Percentage')\n",
    "axis[0,1].set_ylabel('Number of Countries')\n",
    "\n",
    "# Waste\n",
    "axis[1,0].hist(combined_df[mal_type[2]],bins=30,color='orange',alpha=0.5)\n",
    "#axis[1,0].set_title(\"Waste\")\n",
    "axis[1,0].set_xlabel('Waste Percentage')\n",
    "axis[1,0].set_ylabel('Number of Countries')\n",
    "\n",
    "# Stunt\n",
    "axis[1,1].hist(combined_df[mal_type[3]],bins=30,color='forestgreen',alpha=0.5)\n",
    "#axis[1,1].set_title(\"Stunt\")\n",
    "axis[1,1].set_xlabel('Stunt Percentage')\n",
    "axis[1,1].set_ylabel('Number of Countries')\n",
    "\n",
    "\n",
    "fig.set_size_inches(15, 10)\n",
    "plt.show()"
   ]
  },
  {
   "cell_type": "code",
   "execution_count": null,
   "id": "0fa616f3",
   "metadata": {},
   "outputs": [],
   "source": [
    "plt.hist(combined_df[mal_type[0]],bins=30,color='deepskyblue',alpha=0.5)\n",
    "plt.hist(combined_df[mal_type[1]],bins=30,color='royalblue',alpha=0.5)\n",
    "plt.hist(combined_df[mal_type[2]],bins=30,color='orange',alpha=0.5)\n",
    "plt.hist(combined_df[mal_type[3]],bins=30,color='forestgreen',alpha=0.5)\n",
    "plt.xlabel('Percentage')\n",
    "plt.ylabel('Number of countries')\n",
    "plt.title('Combined Global Malnutrition Analysis Histogram')\n",
    "fig.set_size_inches(15, 10)\n",
    "plt.show()"
   ]
  },
  {
   "cell_type": "code",
   "execution_count": null,
   "id": "4f7c8eab",
   "metadata": {},
   "outputs": [],
   "source": [
    "# now observe overweight/waste/stunt \n",
    "fig, axis2 = plt.subplots(2,2) \n",
    "fig.suptitle(\"World's Children Malnutrition Boxplot\")\n",
    "\n",
    "# Mean\n",
    "axis2[0,0].boxplot(combined_df[mal_type[0]])\n",
    "axis2[0,0].set_title(\"Mean malnutrition Percentage\")\n",
    "\n",
    "# Overweight\n",
    "axis2[0,1].boxplot(combined_df[mal_type[1]])\n",
    "axis2[0,1].set_title(\"Overweight Percentage\")\n",
    "\n",
    "# Waste\n",
    "axis2[1,0].boxplot(combined_df[mal_type[2]])\n",
    "axis2[1,0].set_title(\"Waste Percentage\")\n",
    "\n",
    "# Stunt\n",
    "axis2[1,1].boxplot(combined_df[mal_type[3]])\n",
    "axis2[1,1].set_title(\"Stunt Percentage\")\n",
    "\n",
    "fig.set_size_inches(15, 10)\n",
    "plt.show()\n"
   ]
  },
  {
   "cell_type": "code",
   "execution_count": null,
   "id": "fd563411",
   "metadata": {
    "scrolled": false
   },
   "outputs": [],
   "source": [
    "# observe correlation map\n",
    "corr = combined_df.corr() # train is a pandas dataframe \n",
    "plt.figure(figsize = (8, 8))\n",
    "heatmap(corr, cmap = 'Blues',annot=True)\n",
    "plt.title('Correlation heatmap for all malnutrition types')\n",
    "plt.show()"
   ]
  },
  {
   "cell_type": "markdown",
   "id": "25377658",
   "metadata": {},
   "source": [
    "The above heatmap shows the following:\n",
    "1. The relationship between the Mean and the Stunt percentage is relatively linear, which means stunt has been the most serious global malnutrition problem.\n",
    "2. An obvious note, the correlation between overweight and stunting & wasting are negative, indicating negative correlation. This makes sense since it can be largely assumed that the factors that contribute to stunting and wasting would not be the same factors that contribute to overweight. \n",
    "3. It's evident that the negative correlation between the years and each of the conditions indicate that as the years have progressed, the percentage of malnutrition is decreasing over the years, the world has been improving!"
   ]
  },
  {
   "cell_type": "code",
   "execution_count": null,
   "id": "bd5ba62b",
   "metadata": {
    "scrolled": true
   },
   "outputs": [],
   "source": [
    "# Now Observe US first\n",
    "country_df=combined_df.copy()\n",
    "country_df.index = country_df[\"ISO Code\"] #make the iso code as index \n",
    "\n",
    "country_df.loc['USA'].plot(x='Year', y=['Overweight_percent','Waste_total_percent','Stunt_total_percent'])\n",
    "plt.title('US Children Malnutrition')\n",
    "plt.xlabel('Year') # x label\n",
    "plt.ylabel('Percentage') # y label\n",
    "plt.grid(which='major', axis='both') # creating dash\n",
    "plt.legend(loc='center left', bbox_to_anchor=(1, 0.5))\n",
    "fig.set_size_inches(10, 10)\n",
    "plt.show()\n"
   ]
  },
  {
   "cell_type": "markdown",
   "id": "45515c36",
   "metadata": {},
   "source": [
    "Using interpolation to smooth the linear graph above so we will able to to view more continuous and time-based trends. "
   ]
  },
  {
   "cell_type": "code",
   "execution_count": null,
   "id": "92e23693",
   "metadata": {
    "scrolled": false
   },
   "outputs": [],
   "source": [
    "# create a function to smooth the graph later\n",
    "# use interpld from scipy to smooth the lines\n",
    "\n",
    "def countryGraph(countryISO):\n",
    "    countryData=country_df.loc[countryISO]\n",
    "    country_name=countryData['Country Name'][1]\n",
    "    x=countryData['Year'] # x is the year\n",
    "    X_=np.linspace(x.min(), x.max(),300) #X_ is the new x with linspace\n",
    "    d=countryData[mal_type[1:]] #z is actual datapoints\n",
    "    for i in range(1,4): \n",
    "        y=countryData[mal_type[i]] #interate the plot each y as malnutrtion types\n",
    "        smooth_model = interp1d(x, y, kind = \"cubic\") #smooth with interplation\n",
    "        f=smooth_model(X_) #f is the new y \n",
    "        plt.plot(X_,f) #plot\n",
    "    plt.plot(x, d, 'ro') # red dots are the actual data points\n",
    "    plt.plot(x, d, 'y--') # yellow dash lines are the linear plot\n",
    "    plt.grid(which='major', axis='both') # creating dash\n",
    "    plt.xlabel('Year') # x label\n",
    "    plt.ylabel('Percentage') # y label\n",
    "    plt.title(country_name+str(' Children Malnutrition Chart')) # title\n",
    "    plt.legend(mal_type[1:],loc='center left', bbox_to_anchor=(1, 0.5)) # legend\n",
    "    plt.show()\n",
    "    \n",
    "# Let's observe US data again now.\n",
    "countryGraph('USA')\n"
   ]
  },
  {
   "cell_type": "markdown",
   "id": "b0872d74",
   "metadata": {},
   "source": [
    "Observed that children under 5 in US have a relative high overweight problem, lower stunt problem, and the lowest waste problem."
   ]
  },
  {
   "cell_type": "markdown",
   "id": "9fb63ded",
   "metadata": {},
   "source": [
    "Now let's groupby countries and observe the top 5 and bottom 5 countris with the highest and loweest overall mean malnutrition values. Because the minimum required datapoint of cubic spline is 4, we want to filter the country with 4 or more years of report.\n"
   ]
  },
  {
   "cell_type": "code",
   "execution_count": null,
   "id": "26dff709",
   "metadata": {},
   "outputs": [],
   "source": [
    "country_count_all=combined_df.groupby(by=['ISO Code','Country Name'],as_index=False).count()\n",
    "country_count_all.rename(columns={'Mean':'Count'},inplace=True)\n",
    "country_count_all=country_count_all[['ISO Code','Count']]\n",
    "\n",
    "# filter country with >= 4 data points\n",
    "country_count=country_count_all[country_count_all['Count']>=4]\n",
    "country_count=country_count[['ISO Code','Count']]\n",
    "\n",
    "# this is all countries\n",
    "print('There are '+str(len(country_count_all))+' countries total.')\n",
    "\n",
    "# this is all countries with 4+ data points \n",
    "print('There are '+str(len(country_count))+' countries with 4+ data points.')\n"
   ]
  },
  {
   "cell_type": "code",
   "execution_count": null,
   "id": "66de99a8",
   "metadata": {},
   "outputs": [],
   "source": [
    "# now we are creating a country_rank dataframe to observe countries with 4+ data points in the rank of their malnutrition means.\n",
    "country_rank=combined_df.groupby(by=['ISO Code','Country Name'],as_index=False).mean()\n",
    "country_rank=country_rank.merge(country_count,how='inner',on='ISO Code')\n",
    "country_rank=country_rank.sort_values(by='Mean')\n",
    "country_rank[\"Year\"]=country_rank[\"Year\"].astype(int)\n",
    "display(country_rank[:3])\n"
   ]
  },
  {
   "cell_type": "code",
   "execution_count": null,
   "id": "6297e1f1",
   "metadata": {},
   "outputs": [],
   "source": [
    "clean=country_rank.groupby([\"Country Name\", \"Year\"],as_index = False).mean()\n",
    "iso_codes = combined_df[[\"ISO Code\", \"Country Name\"]].drop_duplicates()\n",
    "clean_rank = iso_codes.merge(clean, on = \"Country Name\")\n",
    "clean_rank = clean_rank.sort_values(by = [\"Mean\"], ascending = True)\n",
    "display(clean_rank[:3])"
   ]
  },
  {
   "cell_type": "code",
   "execution_count": null,
   "id": "03f12c97",
   "metadata": {},
   "outputs": [],
   "source": [
    "# Save the 5 countries with lowest malnutrition mean for observation, save as top5 \n",
    "top5=clean_rank[:5]['Country Name'].tolist()\n",
    "display(top5)\n",
    "# The 5 countries with least amount of children malnutrition problem"
   ]
  },
  {
   "cell_type": "code",
   "execution_count": null,
   "id": "5125bed3",
   "metadata": {
    "scrolled": true
   },
   "outputs": [],
   "source": [
    "# Save these 5 countries' corresponding ISO code as top5ISO\n",
    "top5ISO=clean_rank[:5]['ISO Code'].tolist()\n",
    "display(top5ISO)\n"
   ]
  },
  {
   "cell_type": "code",
   "execution_count": null,
   "id": "03c0996a",
   "metadata": {
    "scrolled": false
   },
   "outputs": [],
   "source": [
    "# Plot graphs to observe the trend for each malnutrition problem at country level for top 5 countries\n",
    "for i in top5ISO:\n",
    "    countryGraph(i)\n"
   ]
  },
  {
   "cell_type": "code",
   "execution_count": null,
   "id": "b3c769cb",
   "metadata": {},
   "outputs": [],
   "source": [
    "# Save the 5 countries with most amount malnutrition mean for observation, save as bot5 \n",
    "bot5=clean_rank[-5:]['Country Name'].tolist()\n",
    "display(bot5) \n"
   ]
  },
  {
   "cell_type": "code",
   "execution_count": null,
   "id": "ba068575",
   "metadata": {},
   "outputs": [],
   "source": [
    "# Save these 5 countries' corresponding ISO code as bot5ISO\n",
    "bot5ISO=clean_rank[-5:]['ISO Code'].tolist()\n",
    "display(bot5ISO)\n"
   ]
  },
  {
   "cell_type": "code",
   "execution_count": null,
   "id": "d451db80",
   "metadata": {
    "scrolled": false
   },
   "outputs": [],
   "source": [
    "# Plot graphs to observe the trend for each malnutrition problem at country level for top 5 countries\n",
    "for i in bot5ISO:\n",
    "    countryGraph(i)\n"
   ]
  },
  {
   "cell_type": "markdown",
   "id": "b5607648",
   "metadata": {},
   "source": [
    "analysis+ observations"
   ]
  },
  {
   "cell_type": "markdown",
   "id": "206866bf",
   "metadata": {},
   "source": [
    "### Continent Analysis"
   ]
  },
  {
   "cell_type": "code",
   "execution_count": null,
   "id": "3d7234e1",
   "metadata": {},
   "outputs": [],
   "source": [
    "country_rank_all=combined_df.groupby(by=['ISO Code','Country Name'],as_index=False).mean()\n",
    "country_rank_all=country_rank_all.merge(country_count_all,how='inner',on='ISO Code')\n",
    "country_rank_all=country_rank_all.sort_values(by='Mean', ascending = False)\n",
    "country_rank_all[\"Year\"]=country_rank_all[\"Year\"].astype(int)\n",
    "display(country_rank_all[:3])"
   ]
  },
  {
   "cell_type": "code",
   "execution_count": null,
   "id": "b247f021",
   "metadata": {},
   "outputs": [],
   "source": [
    "clean_all=country_rank_all.groupby([\"Country Name\", \"Year\"],as_index = False).mean()\n",
    "\n",
    "clean_rank_all = iso_codes.merge(clean_all, on = \"Country Name\")\n",
    "\n",
    "clean_rank_all = clean_rank_all.sort_values(by = [\"Mean\"], ascending = False)\n",
    "display(clean_rank_all[:3])"
   ]
  },
  {
   "cell_type": "code",
   "execution_count": null,
   "id": "541ee06b",
   "metadata": {},
   "outputs": [],
   "source": [
    "continent = pd.read_csv(\"countryContinent.csv\")\n",
    "\n",
    "continent = continent[[\"country\", \"continent\"]]\n",
    "\n",
    "joined = clean_rank_all.merge(continent, left_on = \"Country Name\", right_on = \"country\")\n",
    "\n",
    "joined = joined.drop(columns = \"country\")"
   ]
  },
  {
   "cell_type": "code",
   "execution_count": null,
   "id": "aa39db8b",
   "metadata": {},
   "outputs": [],
   "source": [
    "display(joined[:3])"
   ]
  },
  {
   "cell_type": "code",
   "execution_count": null,
   "id": "9a2e86fc",
   "metadata": {},
   "outputs": [],
   "source": [
    "by_continent = joined.groupby([\"Year\", \"continent\"], as_index = False).mean()\n",
    "\n",
    "display(by_continent[:3])"
   ]
  },
  {
   "cell_type": "code",
   "execution_count": null,
   "id": "8179191e",
   "metadata": {
    "scrolled": true
   },
   "outputs": [],
   "source": [
    "continents=by_continent['continent'].unique()\n",
    "\n",
    "for c in sorted(continents):\n",
    "    dfc=by_continent[by_continent['continent']==c]\n",
    "    xc=dfc['Year']\n",
    "    Xc=np.linspace(xc.min(), xc.max(),300)\n",
    "    yc=dfc['Mean']\n",
    "    f1= interp1d(xc, yc, kind = \"cubic\")\n",
    "    yc_=f1(Xc)\n",
    "\n",
    "#Plotting the Graph\n",
    "    plt.title(\"Global Child Average Malnutrition Chart\")\n",
    "    plt.legend(continents,loc='center left', bbox_to_anchor=(1, 0.5))\n",
    "    plt.grid(which='major', axis='both')\n",
    "    plt.plot(Xc, yc_,'--')\n"
   ]
  },
  {
   "cell_type": "markdown",
   "id": "aa594a58",
   "metadata": {},
   "source": [
    "In the Global Malnutrition Trend, the following can be observed:\n",
    "\n",
    "1. All continents seem to experience a downward trend in malnutrition cases towards the last 2-3 years \n",
    "2. A rapid spike in cases can be observed during 2003-2004. The SARS epidemic also began around this time which may have exacerbated the conditions for children already suffering from malnutrition in continents such as Asia and Europe\n",
    "3. Its also important to note that this particular graph also accounts for overweight conditions which, depending on the global context and poverty status. For example, children in impoverished households with access to carbs but not to other nutrients could gain weight due to financial hardship or inavailability while children in certain 1st world countries may have access and capability to purchase nutritional food but families may simply choose not to due to other reasons. "
   ]
  },
  {
   "cell_type": "code",
   "execution_count": null,
   "id": "7bf03959",
   "metadata": {},
   "outputs": [],
   "source": [
    "for c in sorted(continents):\n",
    "    dfc=by_continent[by_continent['continent']==c]\n",
    "    xc=dfc['Year']\n",
    "    Xc=np.linspace(xc.min(), xc.max(),300)\n",
    "    yc=dfc['Stunt_total_percent']\n",
    "    f1= interp1d(xc, yc, kind = \"cubic\")\n",
    "    yc_=f1(Xc)\n",
    "\n",
    "#Plotting the Graph\n",
    "    plt.title(\"Global Child Stunting Data Chart\")\n",
    "    plt.grid(which='major', axis='both')\n",
    "    plt.plot(Xc, yc_)"
   ]
  },
  {
   "cell_type": "markdown",
   "id": "75dd9b7a",
   "metadata": {},
   "source": [
    "In this Stunting dataset, the following can be observed: \n",
    "\n",
    "1. While Africa's stunting trend is upward, the other continents end upon an upward trend. \n",
    "2. Its interesting to know the relatively close trend followed by Asia and Europe. "
   ]
  },
  {
   "cell_type": "code",
   "execution_count": null,
   "id": "3ffa1ffd",
   "metadata": {},
   "outputs": [],
   "source": [
    "for c in sorted(continents):\n",
    "    dfc=by_continent[by_continent['continent']==c]\n",
    "    xc=dfc['Year']\n",
    "    Xc=np.linspace(xc.min(), xc.max(),300)\n",
    "    yc=dfc['Overweight_percent']\n",
    "    f1= interp1d(xc, yc, kind = \"cubic\")\n",
    "    yc_=f1(Xc)\n",
    "\n",
    "#Plotting the Graph\n",
    "    plt.title(\"Global Child Overweight Data Chart\")\n",
    "    plt.legend(continents,loc='center left', bbox_to_anchor=(1, 0.5))\n",
    "    plt.grid(which='major', axis='both')\n",
    "    plt.plot(Xc, yc_)"
   ]
  },
  {
   "cell_type": "markdown",
   "id": "d4c80f07",
   "metadata": {},
   "source": [
    "In this overweight dataset, the following can be observed: \n",
    "\n",
    "1. Africa's trend seems to have the most variation throughout the timespan. While the 2001 data point may be a potential outlier, the 2008 data point may be attributed to a historical event such as the food production crisis in Africa or potentially due to multiple countries being included in the dataset during this year. \n",
    "2. All the continents are on an upward trend for increasing overweight child population except for the Americas. Its also to be noted that the dataset does not reach the same end year. "
   ]
  },
  {
   "cell_type": "code",
   "execution_count": null,
   "id": "43108f6b",
   "metadata": {},
   "outputs": [],
   "source": [
    "for c in sorted(continents):\n",
    "    dfc=by_continent[by_continent['continent']==c]\n",
    "    xc=dfc['Year']\n",
    "    Xc=np.linspace(xc.min(), xc.max(),300)\n",
    "    yc=dfc['Waste_total_percent']\n",
    "    f1= interp1d(xc, yc, kind = \"cubic\")\n",
    "    yc_=f1(Xc)\n",
    "\n",
    "#Plotting the Graph\n",
    "    plt.title(\"Global Child Wasting Data Chart\")\n",
    "    plt.legend(continents,loc='center left', bbox_to_anchor=(1, 0.5))\n",
    "    plt.grid(which='major', axis='both')\n",
    "    plt.plot(Xc, yc_)"
   ]
  },
  {
   "cell_type": "markdown",
   "id": "49ad73b4",
   "metadata": {},
   "source": [
    "In this Wasting dataset, the following can be observed: \n",
    "    \n",
    "1. Europe looks to be experiencing the most drastic peaks in wasting percentage both around 2012 and 2003. \n",
    "2. Both Africa and the Americas observe a peak during 2008. Perhaps the 2008 peak for the Americas may have some connection with the housing crisis and following recession period. Its also important to note that the Americas is a big region not only attributed to the United States. "
   ]
  },
  {
   "cell_type": "markdown",
   "id": "6c4562ec",
   "metadata": {},
   "source": [
    "## Mapping"
   ]
  },
  {
   "cell_type": "code",
   "execution_count": null,
   "id": "023c63ab",
   "metadata": {
    "scrolled": true
   },
   "outputs": [],
   "source": [
    "# import map\n",
    "world_map = gpd.read_file(os.getcwd()+'/World_Map/World_Countries__Generalized_.shp')"
   ]
  },
  {
   "cell_type": "code",
   "execution_count": null,
   "id": "d694caa5",
   "metadata": {
    "scrolled": true
   },
   "outputs": [],
   "source": [
    "map_all = world_map.merge(combined_df, how='left', left_on='COUNTRYAFF', right_on='Country Name')\n",
    "print('Verifying data has combined')\n",
    "display(map_all.head(1))"
   ]
  },
  {
   "cell_type": "code",
   "execution_count": null,
   "id": "0e8e3e74",
   "metadata": {},
   "outputs": [],
   "source": [
    "print('Overweight observations range', np.nanmin(map_all['Overweight_percent'].values), '% to', np.nanmax(map_all['Overweight_percent'].values), '%.')\n",
    "print('Wasted observations range', np.nanmin(map_all['Waste_total_percent'].values), '% to', np.nanmax(map_all['Waste_total_percent'].values), '%.')\n",
    "print('Stunted observations range', np.nanmin(map_all['Stunt_total_percent'].values), '% to', np.nanmax(map_all['Stunt_total_percent'].values), '%.')"
   ]
  },
  {
   "cell_type": "code",
   "execution_count": null,
   "id": "0227a2b6",
   "metadata": {},
   "outputs": [],
   "source": [
    "# map with all overweight indicators\n",
    "vmin, vmax = 0, np.nanmax(map_all['Overweight_percent'].values)\n",
    "coloro = 'PuBu'\n",
    "\n",
    "figo, axo = plt.subplots(1, figsize = (16,12))\n",
    "map_all.plot(column='Overweight_percent', cmap=coloro, ax=axo, linewidth=0.2, edgecolors='0.3')\n",
    "bar_infoo = plt.cm.ScalarMappable(cmap=coloro, norm=plt.Normalize(vmin=vmin, vmax=vmax))\n",
    "axo.set_title('Percent of overweight children under age 5 around the world', fontdict={'fontsize':20})\n",
    "axo.set_axis_off()\n",
    "bar_infoo._A = []\n",
    "cbar = figo.colorbar(bar_infoo, orientation='horizontal')"
   ]
  },
  {
   "cell_type": "code",
   "execution_count": null,
   "id": "71828984",
   "metadata": {},
   "outputs": [],
   "source": [
    "# map with all waste indicators\n",
    "vmin, vmax = 0, np.nanmax(map_all['Waste_total_percent'].values)\n",
    "colorw = 'YlOrRd'\n",
    "\n",
    "figw, axw = plt.subplots(1, figsize = (16,12))\n",
    "map_all.plot(column='Waste_total_percent', cmap=colorw, ax=axw, linewidth=0.2, edgecolors='0.3')\n",
    "bar_infow = plt.cm.ScalarMappable(cmap=colorw, norm=plt.Normalize(vmin=vmin, vmax=vmax))\n",
    "axw.set_title('Percent of wasted children under age 5 around the world', fontdict={'fontsize':20})\n",
    "axw.set_axis_off()\n",
    "bar_infow._A = []\n",
    "cbar = figw.colorbar(bar_infow, orientation='horizontal')"
   ]
  },
  {
   "cell_type": "code",
   "execution_count": null,
   "id": "87eb8a68",
   "metadata": {},
   "outputs": [],
   "source": [
    "# map with all stunt indicators\n",
    "vmin, vmax = 0, np.nanmax(map_all['Stunt_total_percent'].values)\n",
    "colors = 'YlGn'\n",
    "\n",
    "figs, axs = plt.subplots(1, figsize = (16,12))\n",
    "map_all.plot(column='Stunt_total_percent', cmap=colors, ax=axs, linewidth=0.2, edgecolors='0.3')\n",
    "bar_infos = plt.cm.ScalarMappable(cmap=colors, norm=plt.Normalize(vmin=vmin, vmax=vmax))\n",
    "axs.set_title('Percent of stunted children under age 5 around the world', fontdict={'fontsize':20})\n",
    "axs.set_axis_off()\n",
    "bar_infos._A = []\n",
    "cbar = figs.colorbar(bar_infos, orientation='horizontal')"
   ]
  },
  {
   "cell_type": "markdown",
   "id": "0a148088",
   "metadata": {},
   "source": [
    "## Animation"
   ]
  },
  {
   "cell_type": "code",
   "execution_count": null,
   "id": "ed35c56d",
   "metadata": {},
   "outputs": [],
   "source": [
    "# list of years\n",
    "min_year = int(map_all['Year'].min())\n",
    "max_year = int(map_all['Year'].max())+1\n",
    "list_of_years = list(range(min_year, max_year))\n",
    "print('Years range from', min(list_of_years), 'to', max(list_of_years))"
   ]
  },
  {
   "cell_type": "code",
   "execution_count": null,
   "id": "5230a50a",
   "metadata": {},
   "outputs": [],
   "source": [
    "# list of countries\n",
    "countries = map_all['COUNTRYAFF'].unique()\n",
    "print('There are', len(countries), 'countries listed.')"
   ]
  },
  {
   "cell_type": "code",
   "execution_count": null,
   "id": "df62b2bf",
   "metadata": {},
   "outputs": [],
   "source": [
    "# save all the maps in the pictures folder\n",
    "output_path = os.getcwd()+'/pictures'\n",
    "filenames = []"
   ]
  },
  {
   "cell_type": "code",
   "execution_count": null,
   "id": "6a005998",
   "metadata": {},
   "outputs": [],
   "source": [
    "# algorithm to make a map for each year and save as jpg\n",
    "def make_maps(map_col, color, ax, list_of_years = list(range(2000,2020))):\n",
    "    # start the for loop to create one map per year\n",
    "    for year in list_of_years:\n",
    "        # narrow the data to the year desired\n",
    "        yearly = combined_df.loc[combined_df['Year'] == year].reset_index(drop=True)\n",
    "        maps = world_map.merge(yearly, how='left', left_on='COUNTRYAFF', right_on='Country Name')\n",
    "        \n",
    "        # normalize across all years\n",
    "        vmin = min(combined_df[map_col])\n",
    "        vmax = max(combined_df[map_col])\n",
    "\n",
    "        # create map\n",
    "        fig = maps.plot(column=map_col,\n",
    "                        cmap=color,\n",
    "                        figsize=(16,12),\n",
    "                        linewidth=0.3,\n",
    "                        edgecolor='0.3',\n",
    "                        ax=ax,\n",
    "                        norm=plt.Normalize(vmin=vmin, vmax=vmax))\n",
    "        \n",
    "        # add a title\n",
    "        fig.set_title(map_col + ' children under age 5 in ' + str(year), \\\n",
    "                  fontdict={'fontsize': '20',\n",
    "                             'fontweight' : '3'})\n",
    "\n",
    "        # remove axis of chart\n",
    "        fig.set_axis_off()\n",
    "        \n",
    "        # this will save the figure as a high-res jpg\n",
    "        filename = str(year)+'_'+map_col+'.jpg'\n",
    "        filepath = os.path.join(output_path, filename)\n",
    "        filenames.append(filename)\n",
    "        chart = fig.get_figure()\n",
    "        chart.savefig(filepath, dpi=300)"
   ]
  },
  {
   "cell_type": "code",
   "execution_count": null,
   "id": "7c8fd236",
   "metadata": {},
   "outputs": [],
   "source": [
    "# make all the annual maps\n",
    "make_maps('Overweight_percent', coloro, axo, list_of_years)"
   ]
  },
  {
   "cell_type": "code",
   "execution_count": null,
   "id": "edbe385b",
   "metadata": {
    "scrolled": false
   },
   "outputs": [],
   "source": [
    "make_maps('Waste_total_percent', colorw, axw, list_of_years)"
   ]
  },
  {
   "cell_type": "code",
   "execution_count": null,
   "id": "15fdc49b",
   "metadata": {},
   "outputs": [],
   "source": [
    "make_maps('Stunt_total_percent', colors, axs, list_of_years)"
   ]
  },
  {
   "cell_type": "code",
   "execution_count": null,
   "id": "220a9714",
   "metadata": {},
   "outputs": [],
   "source": [
    "# pull the created pictures into a gif\n",
    "import glob\n",
    "from PIL import Image\n",
    "\n",
    "def make_gif(fp_in, fp_out, duration = 400, loop = 3):\n",
    "    img, *imgs = [Image.open(f) for f in sorted(glob.glob(fp_in))]\n",
    "    img.save(fp=fp_out, format='GIF', append_images=imgs,\n",
    "             save_all=True, duration=duration, loop=loop)"
   ]
  },
  {
   "cell_type": "code",
   "execution_count": null,
   "id": "22331e3e",
   "metadata": {},
   "outputs": [],
   "source": [
    "# filepaths for overweight gif\n",
    "o_fp_in = os.getcwd()+'/pictures/*_Overweight*.jpg'\n",
    "o_fp_out = os.getcwd()+'/overweight.gif'\n",
    "\n",
    "#make overweight gif\n",
    "make_gif(o_fp_in, o_fp_out)"
   ]
  },
  {
   "cell_type": "code",
   "execution_count": null,
   "id": "855229ce",
   "metadata": {},
   "outputs": [],
   "source": [
    "# filepaths for wasted\n",
    "w_fp_in = os.getcwd()+'/pictures/*_Waste*.jpg'\n",
    "w_fp_out = os.getcwd()+'/waste.gif'\n",
    "\n",
    "#make wasted gif\n",
    "make_gif(w_fp_in, w_fp_out)"
   ]
  },
  {
   "cell_type": "code",
   "execution_count": null,
   "id": "e3bbb0c4",
   "metadata": {},
   "outputs": [],
   "source": [
    "# filepaths for stunted\n",
    "s_fp_in = os.getcwd()+'/pictures/*_Stunt*.jpg'\n",
    "s_fp_out = os.getcwd()+'/stunt.gif'\n",
    "\n",
    "#make stunted gif\n",
    "make_gif(s_fp_in, s_fp_out)"
   ]
  },
  {
   "cell_type": "markdown",
   "id": "cb649ec2",
   "metadata": {},
   "source": [
    "![SegmentLocal](overweight.gif \"segment\")"
   ]
  },
  {
   "cell_type": "markdown",
   "id": "9fc58250",
   "metadata": {},
   "source": [
    "![SegmentLocal](waste.gif \"segment\")"
   ]
  },
  {
   "cell_type": "markdown",
   "id": "326354e7",
   "metadata": {},
   "source": [
    "![SegmentLocal](stunt.gif \"segment\")"
   ]
  },
  {
   "cell_type": "markdown",
   "id": "b0e0a3fe",
   "metadata": {},
   "source": [
    "### Covid Analysis"
   ]
  },
  {
   "cell_type": "code",
   "execution_count": null,
   "id": "479162f2",
   "metadata": {},
   "outputs": [],
   "source": [
    "# combine with COVID dataset"
   ]
  },
  {
   "cell_type": "code",
   "execution_count": null,
   "id": "5b5e477a",
   "metadata": {},
   "outputs": [],
   "source": [
    "# Download covid vaccine rate data to covid_data from https://ourworldindata.org/covid-vaccinations\n",
    "covid_data=pd.read_csv(\"owid-covid-data.csv\")\n",
    "covid_data.tail(5)"
   ]
  },
  {
   "cell_type": "code",
   "execution_count": null,
   "id": "fb9cc0ba",
   "metadata": {},
   "outputs": [],
   "source": [
    "#before 12/31/2020, the total number of cases for each countries\n",
    "covid_data=covid_data[covid_data['date']<'2021-01-01']\n",
    "covid_2020=covid_data.groupby(by='iso_code').max()\n",
    "display(covid_2020[:5])\n"
   ]
  },
  {
   "cell_type": "code",
   "execution_count": null,
   "id": "34447f8d",
   "metadata": {},
   "outputs": [],
   "source": [
    "norm_covid_df=covid_2020.copy()\n",
    "# first drop continent= Na only leave the countries\n",
    "norm_covid_df=norm_covid_df[norm_covid_df['continent'].notna()]\n",
    "# second fill in nan with 0 for countries has no deaths\n",
    "norm_covid_df['total_deaths']=norm_covid_df['total_deaths'].fillna(0)\n",
    "\n",
    "# since cases number varies alot, apply z-score standardlization to total_cases column to normalize the case number\n",
    "# norm_covid_df['norm_total_deaths'] = (norm_covid_df['total_deaths'] - norm_covid_df['total_deaths'].mean())/\\\n",
    "#                                     (norm_covid_df['total_deaths'].std())    \n",
    "\n",
    "# apply max-min normalization so the range from 0 to 1\n",
    "norm_covid_df['norm_total_deaths'] =norm_covid_df['total_deaths'] /norm_covid_df['total_deaths'].abs().max()\n",
    "\n",
    "#view by sorting in normalized total death\n",
    "norm_covid_df=norm_covid_df.sort_values(by='norm_total_deaths')\n",
    "norm_covid_df.tail(5)\n",
    "\n"
   ]
  },
  {
   "cell_type": "code",
   "execution_count": null,
   "id": "361e6ae7",
   "metadata": {
    "scrolled": false
   },
   "outputs": [],
   "source": [
    "# observe the histogram of normalized total death due to covid for all countries\n",
    "plt.hist(norm_covid_df['norm_total_deaths'],bins=50,color='deepskyblue')\n",
    "plt.xlabel('Normalized total death')\n",
    "plt.ylabel('Number of Countries')\n",
    "plt.show()\n"
   ]
  },
  {
   "cell_type": "code",
   "execution_count": null,
   "id": "4ceaff9e",
   "metadata": {},
   "outputs": [],
   "source": [
    "norm_covid_2020['norm_total_deaths'].describe()"
   ]
  },
  {
   "cell_type": "code",
   "execution_count": null,
   "id": "36a1deba",
   "metadata": {},
   "outputs": [],
   "source": [
    "# Let's observe the countries with over 75% percentail's covid death as serious countries\n",
    "norm_covid_serious_df=norm_covid_df[norm_covid_df['norm_total_deaths']>=0.008371] \n",
    "display(norm_covid_serious_df[:5])\n",
    "plt.hist(norm_covid_serious_df['norm_total_deaths'],bins=50,color='deepskyblue')\n",
    "plt.show()\n"
   ]
  },
  {
   "cell_type": "markdown",
   "id": "db43ea24",
   "metadata": {},
   "source": [
    "#### Highest % of COVID deaths in the world"
   ]
  },
  {
   "cell_type": "code",
   "execution_count": null,
   "id": "d423ec78",
   "metadata": {},
   "outputs": [],
   "source": [
    "covid = pd.read_csv(\"owid-covid-data.csv\")[[\"location\", \"date\", \"new_deaths\"]]\n",
    "\n",
    "covid[\"date\"] = pd.to_datetime(covid[\"date\"]).dt.year\n",
    "\n",
    "top_10_covid = covid.groupby([\"location\", \"date\"], as_index = False).sum()\n",
    "\n",
    "display(top_10_covid[:3])"
   ]
  },
  {
   "cell_type": "code",
   "execution_count": null,
   "id": "800ca429",
   "metadata": {},
   "outputs": [],
   "source": [
    "worldpop = pd.read_csv(\"Worldpop.csv\")\n",
    "\n",
    "worldpop[\"PopTotal\"] = worldpop[\"PopTotal\"].astype(int)\n",
    "\n",
    "display(worldpop[:3])"
   ]
  },
  {
   "cell_type": "markdown",
   "id": "30459694",
   "metadata": {},
   "source": [
    "Join total population to covid deaths for comparison"
   ]
  },
  {
   "cell_type": "code",
   "execution_count": null,
   "id": "02d4f329",
   "metadata": {},
   "outputs": [],
   "source": [
    "top_10_covid = worldpop.merge(top_10_covid, left_on = [\"Location\", \"Time\"], right_on = [\"location\", \"date\"])\n",
    "\n",
    "top_10_covid = top_10_covid.drop(columns = [\"date\", \"location\"])"
   ]
  },
  {
   "cell_type": "code",
   "execution_count": null,
   "id": "f6d8c92b",
   "metadata": {},
   "outputs": [],
   "source": [
    "display(top_10_covid[:3])"
   ]
  },
  {
   "cell_type": "code",
   "execution_count": null,
   "id": "77084062",
   "metadata": {},
   "outputs": [],
   "source": [
    "# population total in 1000's \n",
    "\n",
    "top_10_covid[\"deaths percentage\"] = (top_10_covid[\"new_deaths\"]/(top_10_covid[\"PopTotal\"]*1000))\n",
    "\n",
    "top_10_covid = top_10_covid[top_10_covid[\"Location\"] != \"World\"]\n",
    "\n",
    "covid_countries = top_10_covid.sort_values(by = \"deaths percentage\", ascending = False)"
   ]
  },
  {
   "cell_type": "code",
   "execution_count": null,
   "id": "d113a3b1",
   "metadata": {},
   "outputs": [],
   "source": [
    "covid_countries = covid_countries[:10]\n",
    "\n",
    "display(covid_countries[:3])"
   ]
  },
  {
   "cell_type": "code",
   "execution_count": null,
   "id": "e9d14e61",
   "metadata": {},
   "outputs": [],
   "source": [
    "covid_trend = top_10_covid[top_10_covid[\"Location\"].isin(covid_countries[\"Location\"].unique())]\n",
    "\n",
    "display(covid_trend[:3])"
   ]
  },
  {
   "cell_type": "code",
   "execution_count": null,
   "id": "196dbbb0",
   "metadata": {
    "scrolled": true
   },
   "outputs": [],
   "source": [
    "covid_trend = top_10_covid[top_10_covid[\"Location\"].isin(covid_countries[\"Location\"].unique())]\n",
    "covid_trend = covid_trend.sort_values(by = [\"deaths percentage\", \"Location\"], ascending = False)\n",
    "display(covid_trend[:3])"
   ]
  },
  {
   "cell_type": "code",
   "execution_count": null,
   "id": "31623ff8",
   "metadata": {},
   "outputs": [],
   "source": [
    "sns.barplot(x=\"Location\", y=\"deaths percentage\",\n",
    "             hue=\"Time\",data=covid_trend, palette=\"RdPu\", lw =3).set(title = \"Countries with highest Covid-19 % of Deaths\")\n",
    "\n",
    "sns.set(rc={'figure.figsize':(15,6)})\n",
    "\n",
    "sns.set_style(\"white\")"
   ]
  },
  {
   "cell_type": "code",
   "execution_count": null,
   "id": "39abc46e",
   "metadata": {},
   "outputs": [],
   "source": [
    "# countries with most covid deaths \n",
    "continent = pd.read_csv(\"countryContinent.csv\")\n",
    "\n",
    "continent = continent[[\"country\", \"continent\"]]\n",
    "\n",
    "covid_deaths = covid_trend.merge(continent, left_on = \"Location\", right_on = \"country\")\n",
    "\n",
    "covid_deaths = covid_deaths.drop(columns = [\"country\"])\n",
    "\n",
    "display(covid_deaths[\"continent\"].unique())"
   ]
  },
  {
   "cell_type": "markdown",
   "id": "fe600ccd",
   "metadata": {},
   "source": [
    "### PCA Compression"
   ]
  },
  {
   "cell_type": "code",
   "execution_count": null,
   "id": "57e43031",
   "metadata": {},
   "outputs": [],
   "source": [
    "new_analysis = combined_df.groupby([\"Country Name\"]).mean()\n",
    "\n",
    "new_analysis = new_analysis.T\n",
    "\n",
    "new_analysis = new_analysis.drop([\"Year\"], axis = 0)\n",
    "new_analysis = new_analysis.drop([\"Mean\"], axis = 0)\n",
    "new_analysis['Malnutrition Factor'] = new_analysis.index\n",
    "new_analysis.reset_index(drop=True, inplace=True)\n",
    "new_analysis.insert(0, 'Malnutrition Factor', new_analysis.pop(\"Malnutrition Factor\"))\n",
    "display(new_analysis)"
   ]
  },
  {
   "cell_type": "code",
   "execution_count": null,
   "id": "1d4c68ef",
   "metadata": {},
   "outputs": [],
   "source": [
    "countries = new_analysis.columns.to_list()\n",
    "countries.remove(\"Malnutrition Factor\")\n",
    "\n",
    "factors = new_analysis[\"Malnutrition Factor\"]"
   ]
  },
  {
   "cell_type": "code",
   "execution_count": null,
   "id": "6514255b",
   "metadata": {},
   "outputs": [],
   "source": [
    "X_raw = new_analysis[countries].values.T\n",
    "\n",
    "s = min(X_raw.shape)\n",
    "\n",
    "X = X_raw - np.mean(X_raw, axis=0)\n",
    "\n",
    "U, Sigma, VT = np.linalg.svd(X, full_matrices=False) # What does the `full_matrices` flag do?\n"
   ]
  },
  {
   "cell_type": "code",
   "execution_count": null,
   "id": "5d0e25ac",
   "metadata": {},
   "outputs": [],
   "source": [
    "fig = plt.figure(figsize=(20, 20))\n",
    "Y_k = X.dot(VT[0:10, :].T)\n",
    "\n",
    "plt.scatter(Y_k[:, 0], Y_k[:, 2], c = \"orange\", s = 100)\n",
    "plt.title(\"PCA Algorithm on Global Malnutrition\")\n",
    "for x, y, label in zip(Y_k[:, 0], Y_k[:, 2], countries):\n",
    "    plt.annotate(label, xy=(x, y))"
   ]
  },
  {
   "cell_type": "markdown",
   "id": "0f08c674",
   "metadata": {},
   "source": [
    "## Create a scoring system for the countries"
   ]
  },
  {
   "cell_type": "markdown",
   "id": "781db166",
   "metadata": {},
   "source": [
    "Now we will create a scoring system for all countries to be able to see if there is a possible corellation of malnutrition on COVID-19 survival rate. The malnutrition score adds all 3 types of malnutrition measurements for a final total 'score'. The COVID-19 score is a function of total number of deaths divided by the length of time since the country first reported a death."
   ]
  },
  {
   "cell_type": "code",
   "execution_count": null,
   "id": "1f512071",
   "metadata": {},
   "outputs": [],
   "source": [
    "# calculate a malnutrition score for each country\n",
    "mal_score = combined_df.copy()\n",
    "mal_score['mscore'] = mal_score['Overweight_percent']+mal_score['Waste_total_percent']+mal_score['Stunt_total_percent']\n",
    "mal_score.drop(labels=['Overweight_percent', 'Waste_total_percent', 'Stunt_total_percent', 'Mean', 'Year'], axis=1, inplace=True)\n",
    "mal_score = mal_score.groupby(by=['Country Name']).mean()\n",
    "print('Malnutrition score range is from ', round(max(mal_score['mscore']),3), 'to', round(min(mal_score['mscore']),3))"
   ]
  },
  {
   "cell_type": "code",
   "execution_count": null,
   "id": "1856b849",
   "metadata": {},
   "outputs": [],
   "source": [
    "# normalize the score values\n",
    "from sklearn.preprocessing import MinMaxScaler, normalize\n",
    "scaler = MinMaxScaler(feature_range=(0,10))\n",
    "ms = scaler.fit_transform(mal_score)\n",
    "scaled_mal_score = pd.DataFrame(ms, index=mal_score.index, columns=mal_score.columns)\n",
    "print('Now, malnutrition score range is from ', round(max(scaled_mal_score['mscore']),3), 'to', round(min(scaled_mal_score['mscore']),3))"
   ]
  },
  {
   "cell_type": "code",
   "execution_count": null,
   "id": "3553610f",
   "metadata": {},
   "outputs": [],
   "source": [
    "# filter the covid dataframe to only have the columns necessary\n",
    "covid_score = covid_data.copy()\n",
    "covid_score = covid_score[['location', 'date', 'total_deaths']]\n",
    "\n",
    "# count how many times the country name occurs so we know how many dates they have had COVID-19\n",
    "counts = pd.DataFrame(covid_score['location'].value_counts(dropna=False))\n",
    "\n",
    "# find last known total number of deaths for each country\n",
    "deaths = covid_score.groupby(by='location').max()"
   ]
  },
  {
   "cell_type": "code",
   "execution_count": null,
   "id": "74cd198e",
   "metadata": {},
   "outputs": [],
   "source": [
    "# calculate the covid score for each country\n",
    "cscore =  deaths.merge(counts, left_on='location', right_index=True)\n",
    "cscore.rename(columns={'location': 'num_reports'}, inplace=True)\n",
    "cscore['cscore'] = cscore['total_deaths'] / cscore['num_reports']\n",
    "cscore.drop(labels=['date', 'total_deaths', 'num_reports'], axis=1, inplace=True)\n",
    "cscore.fillna(0, inplace=True) # there were 7 countries with no covid score\n",
    "print('Covid score range is from ', round(max(cscore['cscore']),3), 'to', round(min(cscore['cscore']),3))"
   ]
  },
  {
   "cell_type": "code",
   "execution_count": null,
   "id": "458925d0",
   "metadata": {},
   "outputs": [],
   "source": [
    "# normalize the score values\n",
    "cs = scaler.fit_transform(cscore)\n",
    "scaled_covid_score = pd.DataFrame(cs, index=cscore.index, columns=cscore.columns)\n",
    "print('Now, covid score range is from ', round(max(scaled_covid_score['cscore']),3), 'to', round(min(scaled_covid_score['cscore']),3))"
   ]
  },
  {
   "cell_type": "code",
   "execution_count": null,
   "id": "f9c17249",
   "metadata": {},
   "outputs": [],
   "source": [
    "# join the scores for comparison\n",
    "merged_scores = scaled_mal_score.merge(scaled_covid_score, left_index=True, right_index=True)"
   ]
  },
  {
   "cell_type": "code",
   "execution_count": null,
   "id": "b4e057e5",
   "metadata": {},
   "outputs": [],
   "source": [
    "# now observe distribution\n",
    "fig, axis2 = plt.subplots(1,2) \n",
    "fig.suptitle(\"Scores Distribution Boxplot\", fontsize=20)\n",
    "\n",
    "# Malnutrition score\n",
    "axis2[0].boxplot(merged_scores['mscore'])\n",
    "axis2[0].set_title(\"Malnutrition score distribution\")\n",
    "\n",
    "# COVID-19 score\n",
    "axis2[1].boxplot(merged_scores['cscore'])\n",
    "axis2[1].set_title(\"COVID-19 score distribution\")"
   ]
  },
  {
   "cell_type": "code",
   "execution_count": null,
   "id": "cccf00e2",
   "metadata": {},
   "outputs": [],
   "source": [
    "# scatterplot of scores to look for correlation\n",
    "x1 = merged_scores['mscore']\n",
    "y1 = merged_scores['cscore']\n",
    "\n",
    "plt.scatter(x1, y1, color='royalblue', alpha=0.3)\n",
    "plt.title('COVID-19 score vs. Malnutrition score', fontsize=20)\n",
    "plt.legend(loc='center left', bbox_to_anchor=(1, 0.5))\n",
    "plt.xlabel(\"Malnutrition score\")\n",
    "plt.ylabel(\"COVID-19 score\")\n",
    "\n",
    "m1, b1 = np.polyfit(x1, y1, 1)\n",
    "plt.grid(which='major', axis='both')\n",
    "plt.plot(x1, m1*x1 +b1, 'royalblue')\n",
    "\n"
   ]
  },
  {
   "cell_type": "markdown",
   "id": "c5d7b804",
   "metadata": {},
   "source": [
    "Creating an interaction term is a measurable way to see the effect of malnutrition on COVID-19 deathrate based on the scores we just created and assigned to each country. This interaction term is a multiple of the malnutrition score times the COVID-19 score."
   ]
  },
  {
   "cell_type": "code",
   "execution_count": null,
   "id": "7eef9cc5",
   "metadata": {},
   "outputs": [],
   "source": [
    "# now create an interaction term for easy comparison\n",
    "merged_scores['interaction_term'] = merged_scores['mscore'] * merged_scores['cscore']\n",
    "merged_scores = merged_scores.sort_values(by=['interaction_term'], ascending=False)\n",
    "display('Top 5 countries where COVID-19 has a large affect compared to malnutrition', merged_scores[:5])#, 'Bottom 5', merged_scores[-5:])"
   ]
  },
  {
   "cell_type": "code",
   "execution_count": null,
   "id": "b75b7bb4",
   "metadata": {},
   "outputs": [],
   "source": [
    "plt.plot(merged_scores['interaction_term'],merged_scores.index)\n",
    "plt.title('Distribution of Interaction Term', fontsize=20)\n",
    "plt.ylabel('Countries')\n",
    "plt.show()"
   ]
  },
  {
   "cell_type": "code",
   "execution_count": null,
   "id": "9f0a9246",
   "metadata": {},
   "outputs": [],
   "source": [
    "# isolate the outliers\n",
    "outliers = merged_scores[merged_scores.interaction_term >= 0.5] #.tolist()\n",
    "display(outliers)"
   ]
  },
  {
   "cell_type": "code",
   "execution_count": null,
   "id": "89033b6a",
   "metadata": {},
   "outputs": [],
   "source": [
    "# bubble plot\n",
    "plt.figure(figsize=(15, 8))\n",
    "plt.scatter(outliers['mscore'], outliers['cscore'],\n",
    "            color = 'purple',  # can also be c=outliers['interaction_term']\n",
    "            alpha=0.5,\n",
    "            s = outliers['interaction_term'] * 2000)\n",
    "plt.title('Coutries with highest correlation COVID-19 score vs. Malnutrition score', fontsize=20)\n",
    "plt.xlabel('Malnutrition score', size=14)\n",
    "plt.ylabel('COVID-19 score', size=14)\n",
    "\n",
    "for i, txt in enumerate(list(outliers.index)):\n",
    "    plt.annotate(txt, (outliers['mscore'][i], outliers['cscore'][i]))"
   ]
  },
  {
   "cell_type": "markdown",
   "id": "f51cf0c9",
   "metadata": {},
   "source": [
    "## About the authors:"
   ]
  },
  {
   "cell_type": "markdown",
   "id": "84dcc6de",
   "metadata": {},
   "source": [
    "The authors met as students in Georgia Institue of Technology's Master of Science in Analytics program.  They were in a study group together for the Introduction for Computing for Data Analytics (CSE 6040) class in Fall 2021."
   ]
  },
  {
   "cell_type": "markdown",
   "id": "6c8804cd",
   "metadata": {},
   "source": [
    "#### Yuxin Lui"
   ]
  },
  {
   "cell_type": "markdown",
   "id": "298e2415",
   "metadata": {},
   "source": [
    "https://www.linkedin.com/in/yuxin-liu-97108bb0/"
   ]
  },
  {
   "cell_type": "markdown",
   "id": "0b051cec",
   "metadata": {},
   "source": [
    "#### Rutuja Patil"
   ]
  },
  {
   "cell_type": "markdown",
   "id": "518bbf13",
   "metadata": {},
   "source": [
    "https://www.linkedin.com/in/rutuja-patil-b2804413b/"
   ]
  },
  {
   "cell_type": "markdown",
   "id": "069adb50",
   "metadata": {},
   "source": [
    "#### Kimberly Austin"
   ]
  },
  {
   "cell_type": "markdown",
   "id": "7e001fb4",
   "metadata": {},
   "source": [
    "https://www.linkedin.com/in/kimberly-austin-ga/"
   ]
  },
  {
   "cell_type": "markdown",
   "id": "6e7ee1a6",
   "metadata": {},
   "source": [
    "Modified: 06 Jan 2022"
   ]
  }
 ],
 "metadata": {
  "kernelspec": {
   "display_name": "Python 3 (ipykernel)",
   "language": "python",
   "name": "python3"
  },
  "language_info": {
   "codemirror_mode": {
    "name": "ipython",
    "version": 3
   },
   "file_extension": ".py",
   "mimetype": "text/x-python",
   "name": "python",
   "nbconvert_exporter": "python",
   "pygments_lexer": "ipython3",
   "version": "3.10.1"
  }
 },
 "nbformat": 4,
 "nbformat_minor": 5
}
