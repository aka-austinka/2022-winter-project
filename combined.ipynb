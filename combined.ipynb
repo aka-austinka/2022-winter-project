{
 "cells": [
  {
   "cell_type": "markdown",
   "id": "0913476b",
   "metadata": {},
   "source": [
    "# Global Malnutrition Analysis"
   ]
  },
  {
   "cell_type": "markdown",
   "id": "623a4c12",
   "metadata": {},
   "source": [
    "In this project, we have analyzed several sources of data relevant to malnutrition amongst children ranging from the ages of infant to 5 years old. The major components of our analysis is as follows: \n",
    "\n",
    "1. Extracting data from various sources including UNICEF, World Bank and more (listed below) \n",
    "2. Combining malnutrition data into a single dataframe with information regarding wasting, overweight and stunting conditions amongst the global population of children from 1978 to 2021 \n",
    "3. Analysing countries with the highest prevalence of malnutrition \n",
    "4. Developing a world heat map visualization to see the global malnutrition trend over the years \n",
    "5. Assessing a relationship, if any, between COVID deaths experienced by the country and prevalence of malnutrition among children"
   ]
  },
  {
   "cell_type": "markdown",
   "id": "c58e6457",
   "metadata": {},
   "source": [
    "## Data Sources"
   ]
  },
  {
   "cell_type": "markdown",
   "id": "38d88f69",
   "metadata": {},
   "source": [
    "1. The malnutrtion data is from UNICEF.org and it has the ratio of kids under 5 with stunt/severe stunting, wasted/severe wasted, and overweight problems at country-level from 1970 to 2021.(datalink: https://data.unicef.org/resources/data_explorer/unicef_f/?ag=UNICEF&df=GLOBAL_DATAFLOW&ver=1.0&dq=.NT_ANT_HAZ_NE2+NT_ANT_HAZ_NE3..&startPeriod=2016&endPeriod=2021). \n",
    "\n",
    "2. Country Geopandas data \n",
    "\n",
    "3. COVID deaths data \n",
    "\n",
    "4. Continent & Country Data "
   ]
  },
  {
   "cell_type": "markdown",
   "id": "3dc72a38",
   "metadata": {},
   "source": [
    "## 1. Data Gathering"
   ]
  },
  {
   "cell_type": "code",
   "execution_count": 1,
   "id": "f0c19c76",
   "metadata": {},
   "outputs": [
    {
     "ename": "ModuleNotFoundError",
     "evalue": "No module named 'descartes'",
     "output_type": "error",
     "traceback": [
      "\u001b[1;31m---------------------------------------------------------------------------\u001b[0m",
      "\u001b[1;31mModuleNotFoundError\u001b[0m                       Traceback (most recent call last)",
      "\u001b[1;32m~\\AppData\\Local\\Temp/ipykernel_19396/4112720200.py\u001b[0m in \u001b[0;36m<module>\u001b[1;34m\u001b[0m\n\u001b[0;32m     12\u001b[0m \u001b[1;32mimport\u001b[0m \u001b[0mos\u001b[0m\u001b[1;33m\u001b[0m\u001b[1;33m\u001b[0m\u001b[0m\n\u001b[0;32m     13\u001b[0m \u001b[1;32mimport\u001b[0m \u001b[0mgeopandas\u001b[0m \u001b[1;32mas\u001b[0m \u001b[0mgpd\u001b[0m\u001b[1;33m\u001b[0m\u001b[1;33m\u001b[0m\u001b[0m\n\u001b[1;32m---> 14\u001b[1;33m \u001b[1;32mimport\u001b[0m \u001b[0mdescartes\u001b[0m\u001b[1;33m\u001b[0m\u001b[1;33m\u001b[0m\u001b[0m\n\u001b[0m\u001b[0;32m     15\u001b[0m \u001b[1;32mimport\u001b[0m \u001b[0mwarnings\u001b[0m\u001b[1;33m\u001b[0m\u001b[1;33m\u001b[0m\u001b[0m\n\u001b[0;32m     16\u001b[0m \u001b[0mwarnings\u001b[0m\u001b[1;33m.\u001b[0m\u001b[0mfilterwarnings\u001b[0m\u001b[1;33m(\u001b[0m\u001b[1;34m'ignore'\u001b[0m\u001b[1;33m)\u001b[0m\u001b[1;33m\u001b[0m\u001b[1;33m\u001b[0m\u001b[0m\n",
      "\u001b[1;31mModuleNotFoundError\u001b[0m: No module named 'descartes'"
     ]
    }
   ],
   "source": [
    "# download necessary packages\n",
    "\n",
    "import numpy as np  #calculation\n",
    "import pandas as pd  #dataframe\n",
    "import scipy as sp #calculation\n",
    "from scipy.interpolate import interp1d #smooth plot\n",
    "import seaborn as sns #graph\n",
    "import matplotlib.pyplot as plt #plot\n",
    "from sklearn import linear_model #linear regression\n",
    "import statsmodels.api as sm #linear regression model\n",
    "from seaborn import heatmap #map\n",
    "import os\n",
    "import geopandas as gpd\n",
    "import descartes\n",
    "import warnings\n",
    "warnings.filterwarnings('ignore')"
   ]
  },
  {
   "cell_type": "code",
   "execution_count": null,
   "id": "fd5c6c03",
   "metadata": {},
   "outputs": [],
   "source": [
    "#download datasets and show headlines"
   ]
  },
  {
   "cell_type": "code",
   "execution_count": null,
   "id": "fed65a9a",
   "metadata": {},
   "outputs": [],
   "source": [
    "wasted_data = pd.read_csv(\"Wasted_Data.csv\")\n",
    "display(wasted_data[:3])"
   ]
  },
  {
   "cell_type": "code",
   "execution_count": null,
   "id": "ecbd286f",
   "metadata": {
    "scrolled": true
   },
   "outputs": [],
   "source": [
    "# make sure the data downloaded is for wasting only\n",
    "wasted_data['INDICATOR:Indicator'].unique() "
   ]
  },
  {
   "cell_type": "code",
   "execution_count": null,
   "id": "63b68852",
   "metadata": {},
   "outputs": [],
   "source": [
    "ser_wasted_data=pd.read_csv(\"Severe_Wasted_Data.csv\")\n",
    "display(ser_wasted_data[:1])"
   ]
  },
  {
   "cell_type": "code",
   "execution_count": null,
   "id": "d2457361",
   "metadata": {},
   "outputs": [],
   "source": [
    "ser_wasted_data['INDICATOR:Indicator'].unique() #for severe wasting only"
   ]
  },
  {
   "cell_type": "code",
   "execution_count": null,
   "id": "464395f5",
   "metadata": {
    "scrolled": false
   },
   "outputs": [],
   "source": [
    "stunted_data = pd.read_csv(\"Stunt_Data.csv\")\n",
    "display(stunted_data[:1])"
   ]
  },
  {
   "cell_type": "code",
   "execution_count": null,
   "id": "51805a4b",
   "metadata": {
    "scrolled": true
   },
   "outputs": [],
   "source": [
    "stunted_data['INDICATOR:Indicator'].unique() #stunting only"
   ]
  },
  {
   "cell_type": "code",
   "execution_count": null,
   "id": "07d88a77",
   "metadata": {
    "scrolled": true
   },
   "outputs": [],
   "source": [
    "ser_stunted_data = pd.read_csv(\"Severe_Stunt_Data.csv\")\n",
    "display(ser_stunted_data[:1])"
   ]
  },
  {
   "cell_type": "code",
   "execution_count": null,
   "id": "09c5508f",
   "metadata": {},
   "outputs": [],
   "source": [
    "ser_stunted_data['INDICATOR:Indicator'].unique() #severe stunting only"
   ]
  },
  {
   "cell_type": "code",
   "execution_count": null,
   "id": "e9b3e6da",
   "metadata": {
    "scrolled": false
   },
   "outputs": [],
   "source": [
    "overweight_data = pd.read_csv(\"Overweight_Data.csv\")\n",
    "display(overweight_data[:1])"
   ]
  },
  {
   "cell_type": "code",
   "execution_count": null,
   "id": "98ac9e2b",
   "metadata": {},
   "outputs": [],
   "source": [
    "overweight_data['INDICATOR:Indicator'].unique() #overweight only"
   ]
  },
  {
   "cell_type": "markdown",
   "id": "b6bf0420",
   "metadata": {},
   "source": [
    "## 2. Data Cleaning"
   ]
  },
  {
   "cell_type": "code",
   "execution_count": null,
   "id": "be093224",
   "metadata": {},
   "outputs": [],
   "source": [
    "# data cleaning\n",
    "# rename columns\n",
    "\n",
    "# wasted\n",
    "wasted_data = wasted_data.rename(columns = {\"REF_AREA:Geographic area\" : \"Country\", \"SEX:Sex\" : \"Sex\",\\\n",
    "                                         \"TIME_PERIOD:Time period\" : \"Year\", \"OBS_VALUE:Observation Value\" : \"Waste_percent\",\\\n",
    "                                           'AGE:Current age':'Age'})\n",
    "# severe_wasted\n",
    "ser_wasted_data=ser_wasted_data.rename(columns = {\"REF_AREA:Geographic area\" : \"Country\", \"SEX:Sex\" : \"Sex\",\\\n",
    "                                           \"TIME_PERIOD:Time period\" : \"Year\", \"OBS_VALUE:Observation Value\" : \"Severe_Waste_percent\",\\\n",
    "                                           'AGE:Current age':'Age'})\n",
    "# stunted\n",
    "stunted_data = stunted_data.rename(columns = {\"REF_AREA:Geographic area\" : \"Country\", \"SEX:Sex\" : \"Sex\",\\\n",
    "                                          \"TIME_PERIOD:Time period\" : \"Year\", \"OBS_VALUE:Observation Value\" : \"Stunt_percent\",\\\n",
    "                                            'AGE:Current age':'Age'})\n",
    "# severe stunted\n",
    "ser_stunted_data = ser_stunted_data.rename(columns = {\"REF_AREA:Geographic area\" : \"Country\", \"SEX:Sex\" : \"Sex\",\\\n",
    "                                          \"TIME_PERIOD:Time period\" : \"Year\", \"OBS_VALUE:Observation Value\" : \"Severe_Stunt_percent\",\\\n",
    "                                           'AGE:Current age':'Age'})\n",
    "# overweight\n",
    "overweight_data = overweight_data.rename(columns = {\"REF_AREA:Geographic area\" : \"Country\", \"SEX:Sex\" : \"Sex\",\\\n",
    "                                           \"TIME_PERIOD:Time period\" : \"Year\", \"OBS_VALUE:Observation Value\" : \"Overweight_percent\",\\\n",
    "                                            \"INDICATOR:Indicator\":\"Overweight_Indicator\",'AGE:Current age':'Age'})\n"
   ]
  },
  {
   "cell_type": "code",
   "execution_count": null,
   "id": "3ae0a8e9",
   "metadata": {
    "scrolled": true
   },
   "outputs": [],
   "source": [
    "# Only keep the relevant data columns\n",
    "\n",
    "wasted_df=wasted_data[['Country','Sex','Year','Waste_percent','Age']]\n",
    "ser_wasted_df=ser_wasted_data[['Country','Sex','Year','Severe_Waste_percent','Age']]\n",
    "stunted_df=stunted_data[['Country','Sex','Year','Stunt_percent','Age']]\n",
    "ser_stunted_df=ser_stunted_data[['Country','Sex','Year','Severe_Stunt_percent','Age']]\n",
    "overweight_df=overweight_data[['Country','Sex','Year','Overweight_percent','Age']]"
   ]
  },
  {
   "cell_type": "code",
   "execution_count": null,
   "id": "68c379e6",
   "metadata": {
    "scrolled": true
   },
   "outputs": [],
   "source": [
    "# combine with outer-join\n",
    "combined_df=wasted_df.merge(ser_wasted_df,how='outer',on=['Country','Sex','Year','Age'])\\\n",
    "            .merge(stunted_df,how='outer',on=['Country','Sex','Year','Age'])\\\n",
    "            .merge(ser_stunted_df,how='outer',on=['Country','Sex','Year','Age'])\\\n",
    "            .merge(overweight_df,how='outer',on=['Country','Sex','Year','Age'])\\\n",
    "# shown sample lines\n",
    "combined_df.head(3)"
   ]
  },
  {
   "cell_type": "code",
   "execution_count": null,
   "id": "41127d28",
   "metadata": {
    "scrolled": true
   },
   "outputs": [],
   "source": [
    "# Calculate total waste percent column from adding percentage with normal waste condition and percentage with severe waste condition\n",
    "combined_df['Waste_total_percent']=combined_df['Waste_percent']+combined_df['Severe_Waste_percent']\n",
    "combined_df['Stunt_total_percent']=combined_df['Stunt_percent']+combined_df['Severe_Stunt_percent']\n",
    "combined_df.head(1)"
   ]
  },
  {
   "cell_type": "code",
   "execution_count": null,
   "id": "f636884e",
   "metadata": {},
   "outputs": [],
   "source": [
    "# pop the previous waste & stunt columns, only keep the sum column\n",
    "cols=['Waste_percent','Severe_Waste_percent','Stunt_percent','Severe_Stunt_percent']\n",
    "for c in cols:\n",
    "    combined_df.pop(c)\n",
    "combined_df.head(1)"
   ]
  },
  {
   "cell_type": "code",
   "execution_count": null,
   "id": "0f42ab7f",
   "metadata": {},
   "outputs": [],
   "source": [
    "# Observe properties of some columns\n",
    "# 1. Is age all under 5?\n",
    "combined_df['Age'].unique()\n",
    "print('All data are for kids under 5 years old.')"
   ]
  },
  {
   "cell_type": "code",
   "execution_count": null,
   "id": "fecd5b13",
   "metadata": {},
   "outputs": [],
   "source": [
    "# Since the data only for kids under 5, we can delete this column \n",
    "del combined_df['Age']  "
   ]
  },
  {
   "cell_type": "code",
   "execution_count": null,
   "id": "ed1b2cd9",
   "metadata": {},
   "outputs": [],
   "source": [
    "# 2. Format sex column\n",
    "combined_df['Sex'].unique()"
   ]
  },
  {
   "cell_type": "code",
   "execution_count": null,
   "id": "e85cb97f",
   "metadata": {},
   "outputs": [],
   "source": [
    "# only leave the \"Total\" for analysis\n",
    "combined_df[\"Sex\"] = combined_df[\"Sex\"].str[1]\n",
    "combined_df=combined_df[combined_df[\"Sex\"]=='T']"
   ]
  },
  {
   "cell_type": "code",
   "execution_count": null,
   "id": "48b8bb98",
   "metadata": {},
   "outputs": [],
   "source": [
    "# 3. Format countries and regions\n",
    "country_count=len(combined_df['Country'].unique())\n",
    "print('There are a total number of '+ str(country_count) + ' countries/regions in the DataFrame initially.')"
   ]
  },
  {
   "cell_type": "code",
   "execution_count": null,
   "id": "5b53b8b7",
   "metadata": {
    "scrolled": true
   },
   "outputs": [],
   "source": [
    "# Format countries, separate to 3 digit ISO code and name\n",
    "split_countries= combined_df[\"Country\"].str.split(':', expand=True)\n",
    "\n",
    "# join to combine df\n",
    "combined_df = split_countries.join(combined_df)\n",
    "\n",
    "# rename columns\n",
    "combined_df = combined_df.rename(columns = {0 : \"ISO Code\", 1 : \"Country Name\"})\n",
    "\n",
    "# format the region\n",
    "combined_df[\"Country Name\"] = combined_df[\"Country Name\"].str.strip()\n",
    "\n",
    "# filter only the countrys not regions\n",
    "combined_df = combined_df[combined_df[\"ISO Code\"].str.contains(\"_\")==False]\n",
    "\n",
    "# remove previous columns\n",
    "del combined_df['Country']\n",
    "\n",
    "combined_df.head(3)"
   ]
  },
  {
   "cell_type": "code",
   "execution_count": null,
   "id": "4238a14d",
   "metadata": {},
   "outputs": [],
   "source": [
    "new_country_count=len(combined_df['Country Name'].unique())\n",
    "print('There are now a total number of '+ str(new_country_count) + ' countries in the DataFrame now.')"
   ]
  },
  {
   "cell_type": "code",
   "execution_count": null,
   "id": "2e8cdd3a",
   "metadata": {},
   "outputs": [],
   "source": [
    "# 4. Observe the Year range\n",
    "combined_df['Year'].unique()"
   ]
  },
  {
   "cell_type": "code",
   "execution_count": null,
   "id": "9712ee70",
   "metadata": {},
   "outputs": [],
   "source": [
    "# format the year columns\n",
    "# year remove some date, only keep year\n",
    "combined_df[\"Year\"] =  pd.to_datetime(combined_df[\"Year\"]).dt.year\n",
    "# observe new column values\n",
    "years=combined_df['Year'].unique()\n",
    "print(sorted(years))"
   ]
  },
  {
   "cell_type": "code",
   "execution_count": null,
   "id": "c7fe14d9",
   "metadata": {
    "scrolled": true
   },
   "outputs": [],
   "source": [
    "# 5. Drop rows with Na values\n",
    "combined_df.dropna(inplace=True) #drop NaN\n",
    "\n",
    "display(combined_df[:3])"
   ]
  },
  {
   "cell_type": "code",
   "execution_count": null,
   "id": "724992c2",
   "metadata": {
    "scrolled": true
   },
   "outputs": [],
   "source": [
    "# create a new column of malnutrition score for mean of the five malnutrition factor\n",
    "combined_df['Mean']=combined_df.iloc[:,4:9].mean(axis=1)\n",
    "combined_df.head(3)"
   ]
  },
  {
   "cell_type": "code",
   "execution_count": null,
   "id": "fe13bbc4",
   "metadata": {},
   "outputs": [],
   "source": [
    "# save the column names for future uses\n",
    "mal_type=['Mean','Overweight_percent','Waste_total_percent','Stunt_total_percent']\n",
    "#malnutrition type 0=mean\n",
    "#malnutrition type 1=overweight\n",
    "#malnutrition type 2=waste\n",
    "#malnutrition type 3=stunt"
   ]
  },
  {
   "cell_type": "markdown",
   "id": "86338925",
   "metadata": {},
   "source": [
    "## 3. Creating Visualizations"
   ]
  },
  {
   "cell_type": "code",
   "execution_count": null,
   "id": "ab17459c",
   "metadata": {
    "scrolled": false
   },
   "outputs": [],
   "source": [
    "# now observe overweight/waste/stunt \n",
    "fig, axis = plt.subplots(2,2) \n",
    "fig.suptitle(\"World's Children Malnutrition Histogram\")\n",
    "\n",
    "# Mean\n",
    "axis[0,0].hist(combined_df[mal_type[0]],bins=30,color='deepskyblue')\n",
    "axis[0,0].set_title(\"Mean\")\n",
    "# Overweight\n",
    "axis[0,1].hist(combined_df[mal_type[1]],bins=30,color='deepskyblue')\n",
    "axis[0,1].set_title(\"Overweight\")\n",
    "# Waste\n",
    "axis[1,0].hist(combined_df[mal_type[2]],bins=30,color='deepskyblue')\n",
    "axis[1,0].set_title(\"Waste\")\n",
    "# Stunt\n",
    "axis[1,1].hist(combined_df[mal_type[3]],bins=30,color='deepskyblue')\n",
    "axis[1,1].set_title(\"Stunt\")\n",
    "\n",
    "fig.set_size_inches(15, 10)\n",
    "plt.show()"
   ]
  },
  {
   "cell_type": "code",
   "execution_count": null,
   "id": "4f7c8eab",
   "metadata": {},
   "outputs": [],
   "source": [
    "# now observe overweight/waste/stunt \n",
    "fig, axis2 = plt.subplots(2,2) \n",
    "fig.suptitle(\"World's Children Malnutrition Boxplot\")\n",
    "\n",
    "# Mean\n",
    "axis2[0,0].boxplot(combined_df[mal_type[0]])\n",
    "axis2[0,0].set_title(\"Mean\")\n",
    "\n",
    "# Overweight\n",
    "axis2[0,1].boxplot(combined_df[mal_type[1]])\n",
    "axis2[0,1].set_title(\"Overweight\")\n",
    "\n",
    "# Waste\n",
    "axis2[1,0].boxplot(combined_df[mal_type[2]])\n",
    "axis2[1,0].set_title(\"Waste\")\n",
    "\n",
    "# Stunt\n",
    "axis2[1,1].boxplot(combined_df[mal_type[3]])\n",
    "axis2[1,1].set_title(\"Stunt\")\n",
    "\n",
    "fig.set_size_inches(15, 10)\n",
    "plt.show()\n"
   ]
  },
  {
   "cell_type": "code",
   "execution_count": null,
   "id": "fd563411",
   "metadata": {
    "scrolled": true
   },
   "outputs": [],
   "source": [
    "# observe correlation map\n",
    "corr = combined_df.corr() # train is a pandas dataframe \n",
    "plt.figure(figsize = (8, 8))\n",
    "heatmap(corr, cmap = 'Blues',annot=True)\n",
    "plt.title('Correlation heatmap for all malnutrition types')\n",
    "plt.show()"
   ]
  },
  {
   "cell_type": "code",
   "execution_count": null,
   "id": "bd5ba62b",
   "metadata": {
    "scrolled": true
   },
   "outputs": [],
   "source": [
    "# Now Observe US first\n",
    "country_df=combined_df.copy()\n",
    "country_df.index = country_df[\"ISO Code\"] #make the iso code as index \n",
    "\n",
    "country_df.loc['USA'].plot(x='Year', y=['Overweight_percent','Waste_total_percent','Stunt_total_percent'])\n",
    "plt.title('US Children Malnutrition')\n",
    "plt.legend(loc='center left', bbox_to_anchor=(1, 0.5))\n",
    "fig.set_size_inches(10, 10)\n",
    "plt.show()\n"
   ]
  },
  {
   "cell_type": "code",
   "execution_count": null,
   "id": "92e23693",
   "metadata": {
    "scrolled": true
   },
   "outputs": [],
   "source": [
    "# create a function to smooth the graph later\n",
    "# use interpld from scipy to smooth the lines\n",
    "\n",
    "def countryGraph(countryISO):\n",
    "    countryData=country_df.loc[countryISO]\n",
    "    country_name=countryData['Country Name'][1]\n",
    "    x=countryData['Year']\n",
    "    X_=np.linspace(x.min(), x.max(),300)\n",
    "    for i in range(1,4):\n",
    "        y=countryData[mal_type[i]]\n",
    "        smooth_model = interp1d(x, y, kind = \"cubic\")\n",
    "        f=smooth_model(X_)\n",
    "        plt.plot(X_,f)\n",
    "    plt.title(country_name+str(' Children Malnutrition Chart'))\n",
    "    plt.legend(mal_type[1:])\n",
    "    plt.show()\n",
    "countryGraph('USA')"
   ]
  },
  {
   "cell_type": "code",
   "execution_count": null,
   "id": "ad5525be",
   "metadata": {},
   "outputs": [],
   "source": [
    "# US has lower stunt and waste ratio but higher overweight problem for children under 5"
   ]
  },
  {
   "cell_type": "code",
   "execution_count": null,
   "id": "26dff709",
   "metadata": {},
   "outputs": [],
   "source": [
    "# groupby countries, find the country with highest mean malnutrition value\n",
    "# because the minimum of cubic spline required datapoint is 4, we want to filter the country with 4 or more years of report\n",
    "country_count=combined_df.groupby(by=['ISO Code','Country Name'],as_index=False).count()\n",
    "country_count.rename(columns={'Mean':'Count'},inplace=True)\n",
    "country_count=country_count[country_count['Count']>=4]\n",
    "country_count=country_count[['ISO Code','Count']]\n",
    "display(country_count[:3])"
   ]
  },
  {
   "cell_type": "code",
   "execution_count": null,
   "id": "66de99a8",
   "metadata": {},
   "outputs": [],
   "source": [
    "#country_rank.sort_values(by='Mean',ascending=True,inplace=True)\n",
    "country_rank=combined_df.groupby(by=['ISO Code','Country Name'],as_index=False).mean()\n",
    "country_rank=country_rank.merge(country_count,how='inner',on='ISO Code')\n",
    "country_rank=country_rank.sort_values(by='Mean')\n",
    "display(country_rank[:3])"
   ]
  },
  {
   "cell_type": "code",
   "execution_count": null,
   "id": "03f12c97",
   "metadata": {},
   "outputs": [],
   "source": [
    "# keep a record of the top 5 and bot 5 country with S&W mean for observation\n",
    "top5=country_rank[:5]['Country Name'].tolist()\n",
    "display(top5)\n",
    "# the five country with least percentages of Stunt & Waste mean\n"
   ]
  },
  {
   "cell_type": "code",
   "execution_count": null,
   "id": "5125bed3",
   "metadata": {
    "scrolled": true
   },
   "outputs": [],
   "source": [
    "top5ISO=country_rank[:5]['ISO Code'].tolist()\n",
    "display(top5ISO)\n",
    "# 5 countries' corresponding iso code\n"
   ]
  },
  {
   "cell_type": "code",
   "execution_count": null,
   "id": "03c0996a",
   "metadata": {},
   "outputs": [],
   "source": [
    "# Plot graphs to observe the trend for each malnutrition problem at country level for top 5 countries\n",
    "#for i in top5ISO:\n",
    "#    countryGraph(i)\n",
    "    \n",
    "#plt.show()\n",
    "### ValueError: Expect x to not have duplicates??"
   ]
  },
  {
   "cell_type": "code",
   "execution_count": null,
   "id": "a5e4a57a",
   "metadata": {
    "scrolled": true
   },
   "outputs": [],
   "source": [
    "# Plot graphs to observe the trend for each malnutrition problem at country level for top 5 countries\n",
    "\n",
    "for c in zip(top5,top5ISO):\n",
    "    country_df.loc[c[1]].plot(x='Year', y=mal_type[1:])\n",
    "    plt.legend(loc='center left', bbox_to_anchor=(1, 0.5))\n",
    "    plt.title(c[0])\n",
    "plt.show()\n"
   ]
  },
  {
   "cell_type": "code",
   "execution_count": null,
   "id": "b3c769cb",
   "metadata": {},
   "outputs": [],
   "source": [
    "bot5=country_rank[-5:]['Country Name'].tolist()\n",
    "display(bot5) # the five country with high percentages of Stunt & Waste mean"
   ]
  },
  {
   "cell_type": "code",
   "execution_count": null,
   "id": "ba068575",
   "metadata": {},
   "outputs": [],
   "source": [
    "bot5ISO=country_rank[-5:]['ISO Code'].tolist()\n",
    "display(bot5ISO)"
   ]
  },
  {
   "cell_type": "code",
   "execution_count": null,
   "id": "d451db80",
   "metadata": {
    "scrolled": false
   },
   "outputs": [],
   "source": [
    "#graph bottom 5 countries malnutrition graphs\n",
    "for i in bot5ISO:\n",
    "    countryGraph(i)\n"
   ]
  },
  {
   "cell_type": "markdown",
   "id": "206866bf",
   "metadata": {},
   "source": [
    "### Continent Analysis"
   ]
  },
  {
   "cell_type": "code",
   "execution_count": null,
   "id": "541ee06b",
   "metadata": {},
   "outputs": [],
   "source": [
    "continent = pd.read_csv(\"countryContinent.csv\")\n",
    "\n",
    "continent = continent[[\"country\", \"continent\"]]\n",
    "\n",
    "joined = country_rank.merge(continent, left_on = \"Country Name\", right_on = \"country\")\n",
    "\n",
    "joined = joined.drop(columns = \"country\")"
   ]
  },
  {
   "cell_type": "code",
   "execution_count": null,
   "id": "aa39db8b",
   "metadata": {},
   "outputs": [],
   "source": [
    "display(joined[:3])"
   ]
  },
  {
   "cell_type": "code",
   "execution_count": null,
   "id": "9a2e86fc",
   "metadata": {},
   "outputs": [],
   "source": [
    "by_continent = joined.groupby([\"Year\", \"continent\"], as_index = False).mean()\n",
    "\n",
    "display(by_continent[:3])"
   ]
  },
  {
   "cell_type": "code",
   "execution_count": null,
   "id": "941ae548",
   "metadata": {
    "scrolled": false
   },
   "outputs": [],
   "source": [
    "sns.lineplot(x=\"Year\", y=\"Mean\",\n",
    "             hue=\"continent\",data=by_continent, palette=\"husl\", lw = 3).set(title = \"% of Under 5 Year-Old with Wasting\")\n",
    "\n",
    "sns.set(rc={'figure.figsize':(15,6)})\n",
    "\n",
    "sns.set_style(\"white\")"
   ]
  },
  {
   "cell_type": "code",
   "execution_count": null,
   "id": "8179191e",
   "metadata": {},
   "outputs": [],
   "source": [
    "## SHEENA TRYING SMOOTH THIS\n",
    "#xc=by_continent['Year']\n",
    "#Xc_=np.linspace(xc.min(), xc.max(),300)\n",
    "\n",
    "#yc=by_continent['Mean']\n",
    "#f1= interp1d(xc, yc, kind = \"cubic\")\n",
    "#yc_=f1(Xc)\n",
    "\n",
    "# Plotting the Graph\n",
    "#plt.plot(Xc_, yc_)\n",
    "# not working becuase x was repeated?? \n",
    "# https://stackoverflow.com/questions/68100959/plot-smooth-curve-with-duplicate-values-in-list"
   ]
  },
  {
   "cell_type": "markdown",
   "id": "6c4562ec",
   "metadata": {},
   "source": [
    "## Mapping"
   ]
  },
  {
   "cell_type": "code",
   "execution_count": null,
   "id": "023c63ab",
   "metadata": {
    "scrolled": true
   },
   "outputs": [],
   "source": [
    "# import map\n",
    "world_map = gpd.read_file(os.getcwd()+'\\\\World_Map\\\\World_Countries__Generalized_.shp')"
   ]
  },
  {
   "cell_type": "code",
   "execution_count": null,
   "id": "d694caa5",
   "metadata": {
    "scrolled": true
   },
   "outputs": [],
   "source": [
    "map_all = world_map.merge(combined_df, how='left', left_on='COUNTRYAFF', right_on='Country Name')\n",
    "print('Verifying data has combined')\n",
    "display(map_all.head(1))"
   ]
  },
  {
   "cell_type": "code",
   "execution_count": null,
   "id": "0e8e3e74",
   "metadata": {},
   "outputs": [],
   "source": [
    "print('Overweight observations range', np.nanmin(map_all['Overweight_percent'].values), '% to', np.nanmax(map_all['Overweight_percent'].values), '%.')\n",
    "print('Wasted observations range', np.nanmin(map_all['Waste_total_percent'].values), '% to', np.nanmax(map_all['Waste_total_percent'].values), '%.')\n",
    "print('Stunted observations range', np.nanmin(map_all['Stunt_total_percent'].values), '% to', np.nanmax(map_all['Stunt_total_percent'].values), '%.')"
   ]
  },
  {
   "cell_type": "code",
   "execution_count": null,
   "id": "0227a2b6",
   "metadata": {},
   "outputs": [],
   "source": [
    "# map with all overweight indicators\n",
    "vmin, vmax = 0, np.nanmax(map_all['Overweight_percent'].values)\n",
    "\n",
    "figo, axo = plt.subplots(1, figsize = (16,12))\n",
    "map_all.plot(column='Overweight_percent', cmap='OrRd', ax=axo, linewidth=0.2, edgecolors='0.3')\n",
    "bar_infoo = plt.cm.ScalarMappable(cmap='OrRd', norm=plt.Normalize(vmin=vmin, vmax=vmax))\n",
    "axo.set_title('Percent of overweight children under age 5 around the world', fontdict={'fontsize':20})\n",
    "axo.set_axis_off()\n",
    "bar_infoo._A = []\n",
    "cbar = figo.colorbar(bar_infoo, orientation='horizontal')"
   ]
  },
  {
   "cell_type": "code",
   "execution_count": null,
   "id": "71828984",
   "metadata": {},
   "outputs": [],
   "source": [
    "# map with all waste indicators\n",
    "vmin, vmax = 0, np.nanmax(map_all['Waste_total_percent'].values)\n",
    "\n",
    "figw, axw = plt.subplots(1, figsize = (16,12))\n",
    "map_all.plot(column='Waste_total_percent', cmap='YlGnBu', ax=axw, linewidth=0.2, edgecolors='0.3')\n",
    "bar_infow = plt.cm.ScalarMappable(cmap='YlGnBu', norm=plt.Normalize(vmin=vmin, vmax=vmax))\n",
    "axw.set_title('Percent of wasted children under age 5 around the world', fontdict={'fontsize':20})\n",
    "axw.set_axis_off()\n",
    "bar_infow._A = []\n",
    "cbar = figw.colorbar(bar_infow, orientation='horizontal')"
   ]
  },
  {
   "cell_type": "code",
   "execution_count": null,
   "id": "87eb8a68",
   "metadata": {},
   "outputs": [],
   "source": [
    "# map with all stunt indicators\n",
    "vmin, vmax = 0, np.nanmax(map_all['Stunt_total_percent'].values)\n",
    "\n",
    "figs, axs = plt.subplots(1, figsize = (16,12))\n",
    "map_all.plot(column='Stunt_total_percent', cmap='RdPu', ax=axs, linewidth=0.2, edgecolors='0.3')\n",
    "bar_infos = plt.cm.ScalarMappable(cmap='RdPu', norm=plt.Normalize(vmin=vmin, vmax=vmax))\n",
    "axs.set_title('Percent of stunted children under age 5 around the world', fontdict={'fontsize':20})\n",
    "axs.set_axis_off()\n",
    "bar_infos._A = []\n",
    "cbar = figs.colorbar(bar_infos, orientation='horizontal')"
   ]
  },
  {
   "cell_type": "markdown",
   "id": "0a148088",
   "metadata": {},
   "source": [
    "## Animation"
   ]
  },
  {
   "cell_type": "code",
   "execution_count": null,
   "id": "ed35c56d",
   "metadata": {},
   "outputs": [],
   "source": [
    "# list of years\n",
    "min_year = int(map_all['Year'].min())\n",
    "max_year = int(map_all['Year'].max())+1\n",
    "list_of_years = list(range(min_year, max_year))\n",
    "print('Years range from', min(list_of_years), 'to', max(list_of_years))"
   ]
  },
  {
   "cell_type": "code",
   "execution_count": null,
   "id": "5230a50a",
   "metadata": {},
   "outputs": [],
   "source": [
    "# list of countries\n",
    "countries = map_all['COUNTRYAFF'].unique()\n",
    "print('There are', len(countries), 'countries listed.')"
   ]
  },
  {
   "cell_type": "code",
   "execution_count": null,
   "id": "df62b2bf",
   "metadata": {},
   "outputs": [],
   "source": [
    "# save all the maps in the pictures folder\n",
    "output_path = os.getcwd()+'\\\\pictures'\n",
    "filenames = []"
   ]
  },
  {
   "cell_type": "code",
   "execution_count": null,
   "id": "6a005998",
   "metadata": {},
   "outputs": [],
   "source": [
    "# algorithm to make a map for each year and save as jpg\n",
    "def make_maps(map_col, color, ax, list_of_years = list(range(2000,2020))):\n",
    "    # start the for loop to create one map per year\n",
    "    for year in list_of_years:\n",
    "        # narrow the data to the year desired\n",
    "        yearly = combined_df.loc[combined_df['Year'] == year].reset_index(drop=True)\n",
    "        maps = world_map.merge(yearly, how='left', left_on='COUNTRYAFF', right_on='Country Name')\n",
    "        \n",
    "        # normalize across all years\n",
    "        vmin = min(combined_df[map_col])\n",
    "        vmax = max(combined_df[map_col])\n",
    "\n",
    "        # create map\n",
    "        fig = maps.plot(column=map_col,\n",
    "                        cmap=color,\n",
    "                        figsize=(16,12),\n",
    "                        linewidth=0.3,\n",
    "                        edgecolor='0.3',\n",
    "                        ax=ax,\n",
    "                        norm=plt.Normalize(vmin=vmin, vmax=vmax))\n",
    "        \n",
    "        # add a title\n",
    "        fig.set_title(map_col + ' children under age 5 in ' + str(year), \\\n",
    "                  fontdict={'fontsize': '20',\n",
    "                             'fontweight' : '3'})\n",
    "\n",
    "        # remove axis of chart\n",
    "        fig.set_axis_off()\n",
    "        \n",
    "        # this will save the figure as a high-res jpg\n",
    "        filename = str(year)+'_'+map_col+'.jpg'\n",
    "        filepath = os.path.join(output_path, filename)\n",
    "        filenames.append(filename)\n",
    "        chart = fig.get_figure()\n",
    "        chart.savefig(filepath, dpi=300)"
   ]
  },
  {
   "cell_type": "code",
   "execution_count": null,
   "id": "7c8fd236",
   "metadata": {},
   "outputs": [],
   "source": [
    "make_maps('Overweight_percent', 'OrRd', axo, list_of_years)"
   ]
  },
  {
   "cell_type": "code",
   "execution_count": null,
   "id": "edbe385b",
   "metadata": {
    "scrolled": false
   },
   "outputs": [],
   "source": [
    "make_maps('Waste_total_percent', 'YlGnBu', axw, list_of_years)"
   ]
  },
  {
   "cell_type": "code",
   "execution_count": null,
   "id": "15fdc49b",
   "metadata": {},
   "outputs": [],
   "source": [
    "make_maps('Stunt_total_percent', 'RdPu', axs, list_of_years)"
   ]
  },
  {
   "cell_type": "code",
   "execution_count": null,
   "id": "220a9714",
   "metadata": {},
   "outputs": [],
   "source": [
    "# pull the created pictures into a gif\n",
    "import glob\n",
    "from PIL import Image\n",
    "\n",
    "def make_gif(fp_in, fp_out, duration = 400, loop = 3):\n",
    "    img, *imgs = [Image.open(f) for f in sorted(glob.glob(fp_in))]\n",
    "    img.save(fp=fp_out, format='GIF', append_images=imgs,\n",
    "             save_all=True, duration=duration, loop=loop)"
   ]
  },
  {
   "cell_type": "code",
   "execution_count": null,
   "id": "22331e3e",
   "metadata": {},
   "outputs": [],
   "source": [
    "# filepaths for overweight\n",
    "o_fp_in = os.getcwd()+'\\\\pictures\\\\*_Overweight*.jpg'\n",
    "o_fp_out = os.getcwd()+'\\\\overweight.gif'\n",
    "\n",
    "#make overweight gif\n",
    "make_gif(o_fp_in, o_fp_out)"
   ]
  },
  {
   "cell_type": "code",
   "execution_count": null,
   "id": "855229ce",
   "metadata": {},
   "outputs": [],
   "source": [
    "# filepaths for wasted\n",
    "w_fp_in = os.getcwd()+'\\\\pictures\\\\*_Waste*.jpg'\n",
    "w_fp_out = os.getcwd()+'\\\\waste.gif'\n",
    "\n",
    "#make wasted gif\n",
    "make_gif(w_fp_in, w_fp_out)"
   ]
  },
  {
   "cell_type": "code",
   "execution_count": null,
   "id": "e3bbb0c4",
   "metadata": {},
   "outputs": [],
   "source": [
    "# filepaths for stunted\n",
    "s_fp_in = os.getcwd()+'\\\\pictures\\\\*_Stunt*.jpg'\n",
    "s_fp_out = os.getcwd()+'\\\\stunt.gif'\n",
    "\n",
    "#make stunted gif\n",
    "make_gif(s_fp_in, s_fp_out)"
   ]
  },
  {
   "cell_type": "markdown",
   "id": "cb649ec2",
   "metadata": {},
   "source": [
    "![SegmentLocal](overweight.gif \"segment\")"
   ]
  },
  {
   "cell_type": "markdown",
   "id": "9fc58250",
   "metadata": {},
   "source": [
    "![SegmentLocal](waste.gif \"segment\")"
   ]
  },
  {
   "cell_type": "markdown",
   "id": "326354e7",
   "metadata": {},
   "source": [
    "![SegmentLocal](stunt.gif \"segment\")"
   ]
  },
  {
   "cell_type": "markdown",
   "id": "b0e0a3fe",
   "metadata": {},
   "source": [
    "### Covid Analysis"
   ]
  },
  {
   "cell_type": "code",
   "execution_count": null,
   "id": "479162f2",
   "metadata": {},
   "outputs": [],
   "source": [
    "# combine with COVID"
   ]
  },
  {
   "cell_type": "code",
   "execution_count": null,
   "id": "5b5e477a",
   "metadata": {},
   "outputs": [],
   "source": [
    "###### \n",
    "# Download covid vaccine rate data to covid_data from https://ourworldindata.org/covid-vaccinations\n",
    "covid_data=pd.read_csv(\"owid-covid-data.csv\")\n",
    "covid_data.tail(5)"
   ]
  },
  {
   "cell_type": "code",
   "execution_count": null,
   "id": "fb9cc0ba",
   "metadata": {},
   "outputs": [],
   "source": [
    "#before 12/31/2020, the total number of cases for each countries\n",
    "covid_data=covid_data[covid_data['date']<'2021-01-01']\n",
    "covid_2020=covid_data.groupby(by='iso_code').max()\n",
    "display(covid_2020[:5])\n"
   ]
  },
  {
   "cell_type": "code",
   "execution_count": null,
   "id": "34447f8d",
   "metadata": {},
   "outputs": [],
   "source": [
    "norm_covid_2020=covid_2020.copy()\n",
    "# since cases number varies alot, apply z-score standardlization to total_cases column to normalize the case number\n",
    "norm_covid_2020=norm_covid_2020.sort_values(by='total_cases')\n",
    "norm_covid_2020['norm_total_cases'] = (norm_covid_2020['total_cases'] - norm_covid_2020['total_cases'].mean())\\\n",
    "                                    / (norm_covid_2020['total_cases'].std())    \n",
    "\n",
    "display(norm_covid_2020)\n",
    "\n"
   ]
  },
  {
   "cell_type": "code",
   "execution_count": null,
   "id": "361e6ae7",
   "metadata": {},
   "outputs": [],
   "source": [
    "#Observed the world data on last row, remove for outlier data point\n",
    "norm_covid_2020=norm_covid_2020[:-1] \n",
    "display(norm_covid_2020)\n",
    "plt.hist(norm_covid_2020['norm_total_cases'],bins=50)\n",
    "plt.show()\n"
   ]
  },
  {
   "cell_type": "markdown",
   "id": "db43ea24",
   "metadata": {},
   "source": [
    "#### Highest % of COVID deaths in the world"
   ]
  },
  {
   "cell_type": "code",
   "execution_count": null,
   "id": "d423ec78",
   "metadata": {},
   "outputs": [],
   "source": [
    "covid = pd.read_csv(\"owid-covid-data.csv\")[[\"location\", \"date\", \"new_deaths\"]]\n",
    "\n",
    "covid[\"date\"] = pd.to_datetime(covid[\"date\"]).dt.year\n",
    "\n",
    "top_10_covid = covid.groupby([\"location\", \"date\"], as_index = False).sum()\n",
    "\n",
    "display(top_10_covid[:3])"
   ]
  },
  {
   "cell_type": "code",
   "execution_count": null,
   "id": "800ca429",
   "metadata": {},
   "outputs": [],
   "source": [
    "worldpop = pd.read_csv(\"Worldpop.csv\")\n",
    "\n",
    "worldpop[\"PopTotal\"] = worldpop[\"PopTotal\"].astype(int)\n",
    "\n",
    "display(worldpop[:3])"
   ]
  },
  {
   "cell_type": "markdown",
   "id": "30459694",
   "metadata": {},
   "source": [
    "Join total population to covid deaths for comparison"
   ]
  },
  {
   "cell_type": "code",
   "execution_count": null,
   "id": "02d4f329",
   "metadata": {},
   "outputs": [],
   "source": [
    "top_10_covid = worldpop.merge(top_10_covid, left_on = [\"Location\", \"Time\"], right_on = [\"location\", \"date\"])\n",
    "\n",
    "top_10_covid = top_10_covid.drop(columns = [\"date\", \"location\"])"
   ]
  },
  {
   "cell_type": "code",
   "execution_count": null,
   "id": "f6d8c92b",
   "metadata": {},
   "outputs": [],
   "source": [
    "display(top_10_covid[:3])"
   ]
  },
  {
   "cell_type": "code",
   "execution_count": null,
   "id": "77084062",
   "metadata": {},
   "outputs": [],
   "source": [
    "# population total in 1000's \n",
    "\n",
    "top_10_covid[\"deaths percentage\"] = (top_10_covid[\"new_deaths\"]/(top_10_covid[\"PopTotal\"]*1000))\n",
    "\n",
    "top_10_covid = top_10_covid[top_10_covid[\"Location\"] != \"World\"]\n",
    "\n",
    "covid_countries = top_10_covid.sort_values(by = \"deaths percentage\", ascending = False)"
   ]
  },
  {
   "cell_type": "code",
   "execution_count": null,
   "id": "d113a3b1",
   "metadata": {},
   "outputs": [],
   "source": [
    "covid_countries = covid_countries[:10]\n",
    "\n",
    "display(covid_countries[:3])"
   ]
  },
  {
   "cell_type": "code",
   "execution_count": null,
   "id": "e9d14e61",
   "metadata": {},
   "outputs": [],
   "source": [
    "covid_trend = top_10_covid[top_10_covid[\"Location\"].isin(covid_countries[\"Location\"].unique())]\n",
    "\n",
    "display(covid_trend[:3])"
   ]
  },
  {
   "cell_type": "code",
   "execution_count": null,
   "id": "31623ff8",
   "metadata": {},
   "outputs": [],
   "source": [
    "sns.lineplot(x=\"Time\", y=\"deaths percentage\",\n",
    "             hue=\"Location\",data=covid_trend, palette=\"Set2\", lw =3).set(title = \"Countries with highest Covid-19 % of Deaths\")\n",
    "\n",
    "sns.set(rc={'figure.figsize':(15,6)})\n",
    "\n",
    "sns.set_style(\"white\")"
   ]
  },
  {
   "cell_type": "code",
   "execution_count": null,
   "id": "39abc46e",
   "metadata": {},
   "outputs": [],
   "source": [
    "# countries with most covid deaths \n",
    "continent = pd.read_csv(\"countryContinent.csv\")\n",
    "\n",
    "continent = continent[[\"country\", \"continent\"]]\n",
    "\n",
    "covid_deaths = covid_trend.merge(continent, left_on = \"Location\", right_on = \"country\")\n",
    "\n",
    "covid_deaths = covid_deaths.drop(columns = [\"country\"])\n",
    "\n",
    "display(covid_deaths[\"continent\"].unique())"
   ]
  },
  {
   "cell_type": "code",
   "execution_count": null,
   "id": "6685767f",
   "metadata": {},
   "outputs": [],
   "source": []
  }
 ],
 "metadata": {
  "kernelspec": {
   "display_name": "Python 3 (ipykernel)",
   "language": "python",
   "name": "python3"
  },
  "language_info": {
   "codemirror_mode": {
    "name": "ipython",
    "version": 3
   },
   "file_extension": ".py",
   "mimetype": "text/x-python",
   "name": "python",
   "nbconvert_exporter": "python",
   "pygments_lexer": "ipython3",
   "version": "3.10.1"
  }
 },
 "nbformat": 4,
 "nbformat_minor": 5
}
