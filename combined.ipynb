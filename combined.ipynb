{
 "cells": [
  {
   "cell_type": "markdown",
   "id": "0913476b",
   "metadata": {},
   "source": [
    "# Global Malnutrition Analysis"
   ]
  },
  {
   "cell_type": "markdown",
   "id": "623a4c12",
   "metadata": {},
   "source": [
    "In this project, we have analyzed several sources of data relevant to malnutrition amongst children ranging from the ages of infant to 5 years old. The major components of our analysis is as follows: \n",
    "\n",
    "1. Extracting data from various sources including UNICEF, World Bank and more (listed below) \n",
    "2. Combining malnutrition data into a single dataframe with information regarding wasting, overweight and stunting conditions amongst the global population of children from 1978 to 2021 \n",
    "3. Analysing countries with the highest prevalence of malnutrition \n",
    "4. Developing a world heat map visualization to see the global malnutrition trend over the years \n",
    "5. Assessing a relationship, if any, between COVID deaths experienced by the country and prevalence of malnutrition among children"
   ]
  },
  {
   "cell_type": "markdown",
   "id": "c58e6457",
   "metadata": {},
   "source": [
    "## Data Sources"
   ]
  },
  {
   "cell_type": "markdown",
   "id": "38d88f69",
   "metadata": {},
   "source": [
    "1. The malnutrtion data is from UNICEF.org and it has the ratio of kids under 5 with stunt/severe stunting, wasted/severe wasted, and overweight problems at country-level from 1970 to 2021.(datalink: https://data.unicef.org/resources/data_explorer/unicef_f/?ag=UNICEF&df=GLOBAL_DATAFLOW&ver=1.0&dq=.NT_ANT_HAZ_NE2+NT_ANT_HAZ_NE3..&startPeriod=2016&endPeriod=2021). \n",
    "\n",
    "2. Country Geopandas data \n",
    "\n",
    "3. COVID deaths data \n",
    "\n",
    "4. Continent & Country Data "
   ]
  },
  {
   "cell_type": "markdown",
   "id": "3dc72a38",
   "metadata": {},
   "source": [
    "## 1. Data Gathering"
   ]
  },
  {
   "cell_type": "code",
   "execution_count": 1,
   "id": "f0c19c76",
   "metadata": {},
   "outputs": [],
   "source": [
    "# download necessary packages\n",
    "\n",
    "import numpy as np  #calculation\n",
    "import pandas as pd  #dataframe\n",
    "import scipy as sp #calculation\n",
    "from scipy.interpolate import interp1d #smooth plot\n",
    "import seaborn as sns #graph\n",
    "import matplotlib.pyplot as plt #plot\n",
    "from sklearn import linear_model #linear regression\n",
    "import statsmodels.api as sm #linear regression model\n",
    "from seaborn import heatmap #map"
   ]
  },
  {
   "cell_type": "code",
   "execution_count": 2,
   "id": "fd5c6c03",
   "metadata": {},
   "outputs": [],
   "source": [
    "#download datasets and show headlines"
   ]
  },
  {
   "cell_type": "code",
   "execution_count": 3,
   "id": "fed65a9a",
   "metadata": {},
   "outputs": [
    {
     "data": {
      "text/html": [
       "<div>\n",
       "<style scoped>\n",
       "    .dataframe tbody tr th:only-of-type {\n",
       "        vertical-align: middle;\n",
       "    }\n",
       "\n",
       "    .dataframe tbody tr th {\n",
       "        vertical-align: top;\n",
       "    }\n",
       "\n",
       "    .dataframe thead th {\n",
       "        text-align: right;\n",
       "    }\n",
       "</style>\n",
       "<table border=\"1\" class=\"dataframe\">\n",
       "  <thead>\n",
       "    <tr style=\"text-align: right;\">\n",
       "      <th></th>\n",
       "      <th>DATAFLOW</th>\n",
       "      <th>REF_AREA:Geographic area</th>\n",
       "      <th>INDICATOR:Indicator</th>\n",
       "      <th>SEX:Sex</th>\n",
       "      <th>TIME_PERIOD:Time period</th>\n",
       "      <th>OBS_VALUE:Observation Value</th>\n",
       "      <th>UNIT_MULTIPLIER:Unit multiplier</th>\n",
       "      <th>UNIT_MEASURE:Unit of measure</th>\n",
       "      <th>OBS_STATUS:Observation Status</th>\n",
       "      <th>OBS_CONF:Observation confidentaility</th>\n",
       "      <th>...</th>\n",
       "      <th>WGTD_SAMPL_SIZE:Weighted Sample Size</th>\n",
       "      <th>OBS_FOOTNOTE:Observation footnote</th>\n",
       "      <th>SERIES_FOOTNOTE:Series footnote</th>\n",
       "      <th>DATA_SOURCE:Data Source</th>\n",
       "      <th>SOURCE_LINK:Citation of or link to the data source</th>\n",
       "      <th>CUSTODIAN:Custodian</th>\n",
       "      <th>TIME_PERIOD_METHOD:Time period activity related to when the data are collected</th>\n",
       "      <th>REF_PERIOD:Reference Period</th>\n",
       "      <th>COVERAGE_TIME:The period of time for which data are provided</th>\n",
       "      <th>AGE:Current age</th>\n",
       "    </tr>\n",
       "  </thead>\n",
       "  <tbody>\n",
       "    <tr>\n",
       "      <th>0</th>\n",
       "      <td>UNICEF:GLOBAL_DATAFLOW(1.0): Cross-sector indi...</td>\n",
       "      <td>AFG: Afghanistan</td>\n",
       "      <td>NT_ANT_WHZ_NE2: Weight-for-height &lt;-2 SD (wast...</td>\n",
       "      <td>F: Female</td>\n",
       "      <td>2004</td>\n",
       "      <td>9.3</td>\n",
       "      <td>0: Units</td>\n",
       "      <td>PCNT: %</td>\n",
       "      <td>ER: External Reanalysis</td>\n",
       "      <td>F: Free</td>\n",
       "      <td>...</td>\n",
       "      <td>436.0</td>\n",
       "      <td>Reduced age range Age 0-5 months not covered  ...</td>\n",
       "      <td>UNICEF/WHO/World Bank Joint Malnutrition Estim...</td>\n",
       "      <td>Summary report of the national nutrition surve...</td>\n",
       "      <td>https://data.unicef.org/topic/nutrition/malnut...</td>\n",
       "      <td>UNICEF Division of Data  Analysis  Planning an...</td>\n",
       "      <td>MOF: Middle of fieldwork</td>\n",
       "      <td>NaN</td>\n",
       "      <td>1997-2018</td>\n",
       "      <td>Y0T4: Under 5 years old</td>\n",
       "    </tr>\n",
       "    <tr>\n",
       "      <th>1</th>\n",
       "      <td>UNICEF:GLOBAL_DATAFLOW(1.0): Cross-sector indi...</td>\n",
       "      <td>AFG: Afghanistan</td>\n",
       "      <td>NT_ANT_WHZ_NE2: Weight-for-height &lt;-2 SD (wast...</td>\n",
       "      <td>F: Female</td>\n",
       "      <td>2013</td>\n",
       "      <td>8.7</td>\n",
       "      <td>0: Units</td>\n",
       "      <td>PCNT: %</td>\n",
       "      <td>RA: Reanalysed</td>\n",
       "      <td>F: Free</td>\n",
       "      <td>...</td>\n",
       "      <td>2080089.9</td>\n",
       "      <td>Oedema data was not considered in the analysis...</td>\n",
       "      <td>UNICEF/WHO/World Bank Joint Malnutrition Estim...</td>\n",
       "      <td>Afghanistan National Nutrition Survey 2013</td>\n",
       "      <td>https://data.unicef.org/topic/nutrition/malnut...</td>\n",
       "      <td>UNICEF Division of Data  Analysis  Planning an...</td>\n",
       "      <td>MOF: Middle of fieldwork</td>\n",
       "      <td>NaN</td>\n",
       "      <td>1997-2018</td>\n",
       "      <td>Y0T4: Under 5 years old</td>\n",
       "    </tr>\n",
       "    <tr>\n",
       "      <th>2</th>\n",
       "      <td>UNICEF:GLOBAL_DATAFLOW(1.0): Cross-sector indi...</td>\n",
       "      <td>AFG: Afghanistan</td>\n",
       "      <td>NT_ANT_WHZ_NE2: Weight-for-height &lt;-2 SD (wast...</td>\n",
       "      <td>F: Female</td>\n",
       "      <td>2018</td>\n",
       "      <td>4.1</td>\n",
       "      <td>0: Units</td>\n",
       "      <td>PCNT: %</td>\n",
       "      <td>RA: Reanalysed</td>\n",
       "      <td>F: Free</td>\n",
       "      <td>...</td>\n",
       "      <td>9593.1</td>\n",
       "      <td>Oedema data was not considered in the analysis...</td>\n",
       "      <td>UNICEF/WHO/World Bank Joint Malnutrition Estim...</td>\n",
       "      <td>Afghanistan Health Survey 2018</td>\n",
       "      <td>https://data.unicef.org/topic/nutrition/malnut...</td>\n",
       "      <td>UNICEF Division of Data  Analysis  Planning an...</td>\n",
       "      <td>MOF: Middle of fieldwork</td>\n",
       "      <td>NaN</td>\n",
       "      <td>1997-2018</td>\n",
       "      <td>Y0T4: Under 5 years old</td>\n",
       "    </tr>\n",
       "  </tbody>\n",
       "</table>\n",
       "<p>3 rows × 22 columns</p>\n",
       "</div>"
      ],
      "text/plain": [
       "                                            DATAFLOW REF_AREA:Geographic area  \\\n",
       "0  UNICEF:GLOBAL_DATAFLOW(1.0): Cross-sector indi...         AFG: Afghanistan   \n",
       "1  UNICEF:GLOBAL_DATAFLOW(1.0): Cross-sector indi...         AFG: Afghanistan   \n",
       "2  UNICEF:GLOBAL_DATAFLOW(1.0): Cross-sector indi...         AFG: Afghanistan   \n",
       "\n",
       "                                 INDICATOR:Indicator    SEX:Sex  \\\n",
       "0  NT_ANT_WHZ_NE2: Weight-for-height <-2 SD (wast...  F: Female   \n",
       "1  NT_ANT_WHZ_NE2: Weight-for-height <-2 SD (wast...  F: Female   \n",
       "2  NT_ANT_WHZ_NE2: Weight-for-height <-2 SD (wast...  F: Female   \n",
       "\n",
       "  TIME_PERIOD:Time period  OBS_VALUE:Observation Value  \\\n",
       "0                    2004                          9.3   \n",
       "1                    2013                          8.7   \n",
       "2                    2018                          4.1   \n",
       "\n",
       "  UNIT_MULTIPLIER:Unit multiplier UNIT_MEASURE:Unit of measure  \\\n",
       "0                        0: Units                      PCNT: %   \n",
       "1                        0: Units                      PCNT: %   \n",
       "2                        0: Units                      PCNT: %   \n",
       "\n",
       "  OBS_STATUS:Observation Status OBS_CONF:Observation confidentaility  ...  \\\n",
       "0       ER: External Reanalysis                              F: Free  ...   \n",
       "1                RA: Reanalysed                              F: Free  ...   \n",
       "2                RA: Reanalysed                              F: Free  ...   \n",
       "\n",
       "   WGTD_SAMPL_SIZE:Weighted Sample Size  \\\n",
       "0                                 436.0   \n",
       "1                             2080089.9   \n",
       "2                                9593.1   \n",
       "\n",
       "                   OBS_FOOTNOTE:Observation footnote  \\\n",
       "0  Reduced age range Age 0-5 months not covered  ...   \n",
       "1  Oedema data was not considered in the analysis...   \n",
       "2  Oedema data was not considered in the analysis...   \n",
       "\n",
       "                     SERIES_FOOTNOTE:Series footnote  \\\n",
       "0  UNICEF/WHO/World Bank Joint Malnutrition Estim...   \n",
       "1  UNICEF/WHO/World Bank Joint Malnutrition Estim...   \n",
       "2  UNICEF/WHO/World Bank Joint Malnutrition Estim...   \n",
       "\n",
       "                             DATA_SOURCE:Data Source  \\\n",
       "0  Summary report of the national nutrition surve...   \n",
       "1         Afghanistan National Nutrition Survey 2013   \n",
       "2                     Afghanistan Health Survey 2018   \n",
       "\n",
       "  SOURCE_LINK:Citation of or link to the data source  \\\n",
       "0  https://data.unicef.org/topic/nutrition/malnut...   \n",
       "1  https://data.unicef.org/topic/nutrition/malnut...   \n",
       "2  https://data.unicef.org/topic/nutrition/malnut...   \n",
       "\n",
       "                                 CUSTODIAN:Custodian  \\\n",
       "0  UNICEF Division of Data  Analysis  Planning an...   \n",
       "1  UNICEF Division of Data  Analysis  Planning an...   \n",
       "2  UNICEF Division of Data  Analysis  Planning an...   \n",
       "\n",
       "  TIME_PERIOD_METHOD:Time period activity related to when the data are collected  \\\n",
       "0                           MOF: Middle of fieldwork                               \n",
       "1                           MOF: Middle of fieldwork                               \n",
       "2                           MOF: Middle of fieldwork                               \n",
       "\n",
       "  REF_PERIOD:Reference Period  \\\n",
       "0                         NaN   \n",
       "1                         NaN   \n",
       "2                         NaN   \n",
       "\n",
       "  COVERAGE_TIME:The period of time for which data are provided  \\\n",
       "0                                          1997-2018             \n",
       "1                                          1997-2018             \n",
       "2                                          1997-2018             \n",
       "\n",
       "           AGE:Current age  \n",
       "0  Y0T4: Under 5 years old  \n",
       "1  Y0T4: Under 5 years old  \n",
       "2  Y0T4: Under 5 years old  \n",
       "\n",
       "[3 rows x 22 columns]"
      ]
     },
     "metadata": {},
     "output_type": "display_data"
    }
   ],
   "source": [
    "wasted_data = pd.read_csv(\"Wasted_Data.csv\")\n",
    "display(wasted_data[:3])"
   ]
  },
  {
   "cell_type": "code",
   "execution_count": 4,
   "id": "ecbd286f",
   "metadata": {
    "scrolled": true
   },
   "outputs": [
    {
     "data": {
      "text/plain": [
       "array(['NT_ANT_WHZ_NE2: Weight-for-height <-2 SD (wasting)'], dtype=object)"
      ]
     },
     "execution_count": 4,
     "metadata": {},
     "output_type": "execute_result"
    }
   ],
   "source": [
    "# make sure the data downloaded is for wasting only\n",
    "wasted_data['INDICATOR:Indicator'].unique() "
   ]
  },
  {
   "cell_type": "code",
   "execution_count": 5,
   "id": "63b68852",
   "metadata": {},
   "outputs": [
    {
     "data": {
      "text/html": [
       "<div>\n",
       "<style scoped>\n",
       "    .dataframe tbody tr th:only-of-type {\n",
       "        vertical-align: middle;\n",
       "    }\n",
       "\n",
       "    .dataframe tbody tr th {\n",
       "        vertical-align: top;\n",
       "    }\n",
       "\n",
       "    .dataframe thead th {\n",
       "        text-align: right;\n",
       "    }\n",
       "</style>\n",
       "<table border=\"1\" class=\"dataframe\">\n",
       "  <thead>\n",
       "    <tr style=\"text-align: right;\">\n",
       "      <th></th>\n",
       "      <th>DATAFLOW</th>\n",
       "      <th>REF_AREA:Geographic area</th>\n",
       "      <th>INDICATOR:Indicator</th>\n",
       "      <th>SEX:Sex</th>\n",
       "      <th>TIME_PERIOD:Time period</th>\n",
       "      <th>OBS_VALUE:Observation Value</th>\n",
       "      <th>UNIT_MULTIPLIER:Unit multiplier</th>\n",
       "      <th>UNIT_MEASURE:Unit of measure</th>\n",
       "      <th>OBS_STATUS:Observation Status</th>\n",
       "      <th>OBS_CONF:Observation confidentaility</th>\n",
       "      <th>...</th>\n",
       "      <th>WGTD_SAMPL_SIZE:Weighted Sample Size</th>\n",
       "      <th>OBS_FOOTNOTE:Observation footnote</th>\n",
       "      <th>SERIES_FOOTNOTE:Series footnote</th>\n",
       "      <th>DATA_SOURCE:Data Source</th>\n",
       "      <th>SOURCE_LINK:Citation of or link to the data source</th>\n",
       "      <th>CUSTODIAN:Custodian</th>\n",
       "      <th>TIME_PERIOD_METHOD:Time period activity related to when the data are collected</th>\n",
       "      <th>REF_PERIOD:Reference Period</th>\n",
       "      <th>COVERAGE_TIME:The period of time for which data are provided</th>\n",
       "      <th>AGE:Current age</th>\n",
       "    </tr>\n",
       "  </thead>\n",
       "  <tbody>\n",
       "    <tr>\n",
       "      <th>0</th>\n",
       "      <td>UNICEF:GLOBAL_DATAFLOW(1.0): Cross-sector indi...</td>\n",
       "      <td>AFG: Afghanistan</td>\n",
       "      <td>NT_ANT_WHZ_NE3: Weight-for-height &lt;-3 SD (seve...</td>\n",
       "      <td>F: Female</td>\n",
       "      <td>2004</td>\n",
       "      <td>4.3</td>\n",
       "      <td>0: Units</td>\n",
       "      <td>PCNT: %</td>\n",
       "      <td>ER: External Reanalysis</td>\n",
       "      <td>F: Free</td>\n",
       "      <td>...</td>\n",
       "      <td>436.0</td>\n",
       "      <td>Reduced age range Age 0-5 months not covered  ...</td>\n",
       "      <td>UNICEF/WHO/World Bank Joint Malnutrition Estim...</td>\n",
       "      <td>Summary report of the national nutrition surve...</td>\n",
       "      <td>https://data.unicef.org/topic/nutrition/malnut...</td>\n",
       "      <td>UNICEF Division of Data  Analysis  Planning an...</td>\n",
       "      <td>MOF: Middle of fieldwork</td>\n",
       "      <td>NaN</td>\n",
       "      <td>2004-2018</td>\n",
       "      <td>Y0T4: Under 5 years old</td>\n",
       "    </tr>\n",
       "    <tr>\n",
       "      <th>1</th>\n",
       "      <td>UNICEF:GLOBAL_DATAFLOW(1.0): Cross-sector indi...</td>\n",
       "      <td>AFG: Afghanistan</td>\n",
       "      <td>NT_ANT_WHZ_NE3: Weight-for-height &lt;-3 SD (seve...</td>\n",
       "      <td>F: Female</td>\n",
       "      <td>2013</td>\n",
       "      <td>3.5</td>\n",
       "      <td>0: Units</td>\n",
       "      <td>PCNT: %</td>\n",
       "      <td>RA: Reanalysed</td>\n",
       "      <td>F: Free</td>\n",
       "      <td>...</td>\n",
       "      <td>2080089.9</td>\n",
       "      <td>Oedema data was not considered in the analysis...</td>\n",
       "      <td>UNICEF/WHO/World Bank Joint Malnutrition Estim...</td>\n",
       "      <td>Afghanistan National Nutrition Survey 2013</td>\n",
       "      <td>https://data.unicef.org/topic/nutrition/malnut...</td>\n",
       "      <td>UNICEF Division of Data  Analysis  Planning an...</td>\n",
       "      <td>MOF: Middle of fieldwork</td>\n",
       "      <td>NaN</td>\n",
       "      <td>2004-2018</td>\n",
       "      <td>Y0T4: Under 5 years old</td>\n",
       "    </tr>\n",
       "    <tr>\n",
       "      <th>2</th>\n",
       "      <td>UNICEF:GLOBAL_DATAFLOW(1.0): Cross-sector indi...</td>\n",
       "      <td>AFG: Afghanistan</td>\n",
       "      <td>NT_ANT_WHZ_NE3: Weight-for-height &lt;-3 SD (seve...</td>\n",
       "      <td>F: Female</td>\n",
       "      <td>2018</td>\n",
       "      <td>1.4</td>\n",
       "      <td>0: Units</td>\n",
       "      <td>PCNT: %</td>\n",
       "      <td>RA: Reanalysed</td>\n",
       "      <td>F: Free</td>\n",
       "      <td>...</td>\n",
       "      <td>9593.1</td>\n",
       "      <td>Oedema data was not considered in the analysis...</td>\n",
       "      <td>UNICEF/WHO/World Bank Joint Malnutrition Estim...</td>\n",
       "      <td>Afghanistan Health Survey 2018</td>\n",
       "      <td>https://data.unicef.org/topic/nutrition/malnut...</td>\n",
       "      <td>UNICEF Division of Data  Analysis  Planning an...</td>\n",
       "      <td>MOF: Middle of fieldwork</td>\n",
       "      <td>NaN</td>\n",
       "      <td>2004-2018</td>\n",
       "      <td>Y0T4: Under 5 years old</td>\n",
       "    </tr>\n",
       "  </tbody>\n",
       "</table>\n",
       "<p>3 rows × 22 columns</p>\n",
       "</div>"
      ],
      "text/plain": [
       "                                            DATAFLOW REF_AREA:Geographic area  \\\n",
       "0  UNICEF:GLOBAL_DATAFLOW(1.0): Cross-sector indi...         AFG: Afghanistan   \n",
       "1  UNICEF:GLOBAL_DATAFLOW(1.0): Cross-sector indi...         AFG: Afghanistan   \n",
       "2  UNICEF:GLOBAL_DATAFLOW(1.0): Cross-sector indi...         AFG: Afghanistan   \n",
       "\n",
       "                                 INDICATOR:Indicator    SEX:Sex  \\\n",
       "0  NT_ANT_WHZ_NE3: Weight-for-height <-3 SD (seve...  F: Female   \n",
       "1  NT_ANT_WHZ_NE3: Weight-for-height <-3 SD (seve...  F: Female   \n",
       "2  NT_ANT_WHZ_NE3: Weight-for-height <-3 SD (seve...  F: Female   \n",
       "\n",
       "  TIME_PERIOD:Time period  OBS_VALUE:Observation Value  \\\n",
       "0                    2004                          4.3   \n",
       "1                    2013                          3.5   \n",
       "2                    2018                          1.4   \n",
       "\n",
       "  UNIT_MULTIPLIER:Unit multiplier UNIT_MEASURE:Unit of measure  \\\n",
       "0                        0: Units                      PCNT: %   \n",
       "1                        0: Units                      PCNT: %   \n",
       "2                        0: Units                      PCNT: %   \n",
       "\n",
       "  OBS_STATUS:Observation Status OBS_CONF:Observation confidentaility  ...  \\\n",
       "0       ER: External Reanalysis                              F: Free  ...   \n",
       "1                RA: Reanalysed                              F: Free  ...   \n",
       "2                RA: Reanalysed                              F: Free  ...   \n",
       "\n",
       "   WGTD_SAMPL_SIZE:Weighted Sample Size  \\\n",
       "0                                 436.0   \n",
       "1                             2080089.9   \n",
       "2                                9593.1   \n",
       "\n",
       "                   OBS_FOOTNOTE:Observation footnote  \\\n",
       "0  Reduced age range Age 0-5 months not covered  ...   \n",
       "1  Oedema data was not considered in the analysis...   \n",
       "2  Oedema data was not considered in the analysis...   \n",
       "\n",
       "                     SERIES_FOOTNOTE:Series footnote  \\\n",
       "0  UNICEF/WHO/World Bank Joint Malnutrition Estim...   \n",
       "1  UNICEF/WHO/World Bank Joint Malnutrition Estim...   \n",
       "2  UNICEF/WHO/World Bank Joint Malnutrition Estim...   \n",
       "\n",
       "                             DATA_SOURCE:Data Source  \\\n",
       "0  Summary report of the national nutrition surve...   \n",
       "1         Afghanistan National Nutrition Survey 2013   \n",
       "2                     Afghanistan Health Survey 2018   \n",
       "\n",
       "  SOURCE_LINK:Citation of or link to the data source  \\\n",
       "0  https://data.unicef.org/topic/nutrition/malnut...   \n",
       "1  https://data.unicef.org/topic/nutrition/malnut...   \n",
       "2  https://data.unicef.org/topic/nutrition/malnut...   \n",
       "\n",
       "                                 CUSTODIAN:Custodian  \\\n",
       "0  UNICEF Division of Data  Analysis  Planning an...   \n",
       "1  UNICEF Division of Data  Analysis  Planning an...   \n",
       "2  UNICEF Division of Data  Analysis  Planning an...   \n",
       "\n",
       "  TIME_PERIOD_METHOD:Time period activity related to when the data are collected  \\\n",
       "0                           MOF: Middle of fieldwork                               \n",
       "1                           MOF: Middle of fieldwork                               \n",
       "2                           MOF: Middle of fieldwork                               \n",
       "\n",
       "  REF_PERIOD:Reference Period  \\\n",
       "0                         NaN   \n",
       "1                         NaN   \n",
       "2                         NaN   \n",
       "\n",
       "  COVERAGE_TIME:The period of time for which data are provided  \\\n",
       "0                                          2004-2018             \n",
       "1                                          2004-2018             \n",
       "2                                          2004-2018             \n",
       "\n",
       "           AGE:Current age  \n",
       "0  Y0T4: Under 5 years old  \n",
       "1  Y0T4: Under 5 years old  \n",
       "2  Y0T4: Under 5 years old  \n",
       "\n",
       "[3 rows x 22 columns]"
      ]
     },
     "metadata": {},
     "output_type": "display_data"
    }
   ],
   "source": [
    "ser_wasted_data=pd.read_csv(\"Severe_Wasted_Data.csv\")\n",
    "display(ser_wasted_data[:3])"
   ]
  },
  {
   "cell_type": "code",
   "execution_count": 6,
   "id": "d2457361",
   "metadata": {},
   "outputs": [
    {
     "data": {
      "text/plain": [
       "array(['NT_ANT_WHZ_NE3: Weight-for-height <-3 SD (severe wasting)'],\n",
       "      dtype=object)"
      ]
     },
     "execution_count": 6,
     "metadata": {},
     "output_type": "execute_result"
    }
   ],
   "source": [
    "ser_wasted_data['INDICATOR:Indicator'].unique() #for severe wasting only"
   ]
  },
  {
   "cell_type": "code",
   "execution_count": 7,
   "id": "464395f5",
   "metadata": {
    "scrolled": false
   },
   "outputs": [
    {
     "data": {
      "text/html": [
       "<div>\n",
       "<style scoped>\n",
       "    .dataframe tbody tr th:only-of-type {\n",
       "        vertical-align: middle;\n",
       "    }\n",
       "\n",
       "    .dataframe tbody tr th {\n",
       "        vertical-align: top;\n",
       "    }\n",
       "\n",
       "    .dataframe thead th {\n",
       "        text-align: right;\n",
       "    }\n",
       "</style>\n",
       "<table border=\"1\" class=\"dataframe\">\n",
       "  <thead>\n",
       "    <tr style=\"text-align: right;\">\n",
       "      <th></th>\n",
       "      <th>DATAFLOW</th>\n",
       "      <th>REF_AREA:Geographic area</th>\n",
       "      <th>INDICATOR:Indicator</th>\n",
       "      <th>SEX:Sex</th>\n",
       "      <th>TIME_PERIOD:Time period</th>\n",
       "      <th>OBS_VALUE:Observation Value</th>\n",
       "      <th>UNIT_MULTIPLIER:Unit multiplier</th>\n",
       "      <th>UNIT_MEASURE:Unit of measure</th>\n",
       "      <th>OBS_STATUS:Observation Status</th>\n",
       "      <th>OBS_CONF:Observation confidentaility</th>\n",
       "      <th>...</th>\n",
       "      <th>WGTD_SAMPL_SIZE:Weighted Sample Size</th>\n",
       "      <th>OBS_FOOTNOTE:Observation footnote</th>\n",
       "      <th>SERIES_FOOTNOTE:Series footnote</th>\n",
       "      <th>DATA_SOURCE:Data Source</th>\n",
       "      <th>SOURCE_LINK:Citation of or link to the data source</th>\n",
       "      <th>CUSTODIAN:Custodian</th>\n",
       "      <th>TIME_PERIOD_METHOD:Time period activity related to when the data are collected</th>\n",
       "      <th>REF_PERIOD:Reference Period</th>\n",
       "      <th>COVERAGE_TIME:The period of time for which data are provided</th>\n",
       "      <th>AGE:Current age</th>\n",
       "    </tr>\n",
       "  </thead>\n",
       "  <tbody>\n",
       "    <tr>\n",
       "      <th>0</th>\n",
       "      <td>UNICEF:GLOBAL_DATAFLOW(1.0): Cross-sector indi...</td>\n",
       "      <td>AFG: Afghanistan</td>\n",
       "      <td>NT_ANT_HAZ_NE2: Height-for-age &lt;-2 SD (stunting)</td>\n",
       "      <td>F: Female</td>\n",
       "      <td>2004</td>\n",
       "      <td>58.5</td>\n",
       "      <td>0: Units</td>\n",
       "      <td>PCNT: %</td>\n",
       "      <td>ER: External Reanalysis</td>\n",
       "      <td>F: Free</td>\n",
       "      <td>...</td>\n",
       "      <td>436.0</td>\n",
       "      <td>Reduced age range Age 0-5 months not covered  ...</td>\n",
       "      <td>UNICEF/WHO/World Bank Joint Malnutrition Estim...</td>\n",
       "      <td>Summary report of the national nutrition surve...</td>\n",
       "      <td>https://data.unicef.org/topic/nutrition/malnut...</td>\n",
       "      <td>UNICEF Division of Data  Analysis  Planning an...</td>\n",
       "      <td>MOF: Middle of fieldwork</td>\n",
       "      <td>NaN</td>\n",
       "      <td>1997-2018</td>\n",
       "      <td>Y0T4: Under 5 years old</td>\n",
       "    </tr>\n",
       "    <tr>\n",
       "      <th>1</th>\n",
       "      <td>UNICEF:GLOBAL_DATAFLOW(1.0): Cross-sector indi...</td>\n",
       "      <td>AFG: Afghanistan</td>\n",
       "      <td>NT_ANT_HAZ_NE2: Height-for-age &lt;-2 SD (stunting)</td>\n",
       "      <td>F: Female</td>\n",
       "      <td>2013</td>\n",
       "      <td>39.5</td>\n",
       "      <td>0: Units</td>\n",
       "      <td>PCNT: %</td>\n",
       "      <td>RA: Reanalysed</td>\n",
       "      <td>F: Free</td>\n",
       "      <td>...</td>\n",
       "      <td>2077662.4</td>\n",
       "      <td>Height/length modality (standing/lying) was no...</td>\n",
       "      <td>UNICEF/WHO/World Bank Joint Malnutrition Estim...</td>\n",
       "      <td>Afghanistan National Nutrition Survey 2013</td>\n",
       "      <td>https://data.unicef.org/topic/nutrition/malnut...</td>\n",
       "      <td>UNICEF Division of Data  Analysis  Planning an...</td>\n",
       "      <td>MOF: Middle of fieldwork</td>\n",
       "      <td>NaN</td>\n",
       "      <td>1997-2018</td>\n",
       "      <td>Y0T4: Under 5 years old</td>\n",
       "    </tr>\n",
       "    <tr>\n",
       "      <th>2</th>\n",
       "      <td>UNICEF:GLOBAL_DATAFLOW(1.0): Cross-sector indi...</td>\n",
       "      <td>AFG: Afghanistan</td>\n",
       "      <td>NT_ANT_HAZ_NE2: Height-for-age &lt;-2 SD (stunting)</td>\n",
       "      <td>F: Female</td>\n",
       "      <td>2018</td>\n",
       "      <td>38.1</td>\n",
       "      <td>0: Units</td>\n",
       "      <td>PCNT: %</td>\n",
       "      <td>RA: Reanalysed</td>\n",
       "      <td>F: Free</td>\n",
       "      <td>...</td>\n",
       "      <td>9303.1</td>\n",
       "      <td>Height/length modality (standing/lying) was no...</td>\n",
       "      <td>UNICEF/WHO/World Bank Joint Malnutrition Estim...</td>\n",
       "      <td>Afghanistan Health Survey 2018</td>\n",
       "      <td>https://data.unicef.org/topic/nutrition/malnut...</td>\n",
       "      <td>UNICEF Division of Data  Analysis  Planning an...</td>\n",
       "      <td>MOF: Middle of fieldwork</td>\n",
       "      <td>NaN</td>\n",
       "      <td>1997-2018</td>\n",
       "      <td>Y0T4: Under 5 years old</td>\n",
       "    </tr>\n",
       "  </tbody>\n",
       "</table>\n",
       "<p>3 rows × 22 columns</p>\n",
       "</div>"
      ],
      "text/plain": [
       "                                            DATAFLOW REF_AREA:Geographic area  \\\n",
       "0  UNICEF:GLOBAL_DATAFLOW(1.0): Cross-sector indi...         AFG: Afghanistan   \n",
       "1  UNICEF:GLOBAL_DATAFLOW(1.0): Cross-sector indi...         AFG: Afghanistan   \n",
       "2  UNICEF:GLOBAL_DATAFLOW(1.0): Cross-sector indi...         AFG: Afghanistan   \n",
       "\n",
       "                                INDICATOR:Indicator    SEX:Sex  \\\n",
       "0  NT_ANT_HAZ_NE2: Height-for-age <-2 SD (stunting)  F: Female   \n",
       "1  NT_ANT_HAZ_NE2: Height-for-age <-2 SD (stunting)  F: Female   \n",
       "2  NT_ANT_HAZ_NE2: Height-for-age <-2 SD (stunting)  F: Female   \n",
       "\n",
       "  TIME_PERIOD:Time period  OBS_VALUE:Observation Value  \\\n",
       "0                    2004                         58.5   \n",
       "1                    2013                         39.5   \n",
       "2                    2018                         38.1   \n",
       "\n",
       "  UNIT_MULTIPLIER:Unit multiplier UNIT_MEASURE:Unit of measure  \\\n",
       "0                        0: Units                      PCNT: %   \n",
       "1                        0: Units                      PCNT: %   \n",
       "2                        0: Units                      PCNT: %   \n",
       "\n",
       "  OBS_STATUS:Observation Status OBS_CONF:Observation confidentaility  ...  \\\n",
       "0       ER: External Reanalysis                              F: Free  ...   \n",
       "1                RA: Reanalysed                              F: Free  ...   \n",
       "2                RA: Reanalysed                              F: Free  ...   \n",
       "\n",
       "   WGTD_SAMPL_SIZE:Weighted Sample Size  \\\n",
       "0                                 436.0   \n",
       "1                             2077662.4   \n",
       "2                                9303.1   \n",
       "\n",
       "                   OBS_FOOTNOTE:Observation footnote  \\\n",
       "0  Reduced age range Age 0-5 months not covered  ...   \n",
       "1  Height/length modality (standing/lying) was no...   \n",
       "2  Height/length modality (standing/lying) was no...   \n",
       "\n",
       "                     SERIES_FOOTNOTE:Series footnote  \\\n",
       "0  UNICEF/WHO/World Bank Joint Malnutrition Estim...   \n",
       "1  UNICEF/WHO/World Bank Joint Malnutrition Estim...   \n",
       "2  UNICEF/WHO/World Bank Joint Malnutrition Estim...   \n",
       "\n",
       "                             DATA_SOURCE:Data Source  \\\n",
       "0  Summary report of the national nutrition surve...   \n",
       "1         Afghanistan National Nutrition Survey 2013   \n",
       "2                     Afghanistan Health Survey 2018   \n",
       "\n",
       "  SOURCE_LINK:Citation of or link to the data source  \\\n",
       "0  https://data.unicef.org/topic/nutrition/malnut...   \n",
       "1  https://data.unicef.org/topic/nutrition/malnut...   \n",
       "2  https://data.unicef.org/topic/nutrition/malnut...   \n",
       "\n",
       "                                 CUSTODIAN:Custodian  \\\n",
       "0  UNICEF Division of Data  Analysis  Planning an...   \n",
       "1  UNICEF Division of Data  Analysis  Planning an...   \n",
       "2  UNICEF Division of Data  Analysis  Planning an...   \n",
       "\n",
       "  TIME_PERIOD_METHOD:Time period activity related to when the data are collected  \\\n",
       "0                           MOF: Middle of fieldwork                               \n",
       "1                           MOF: Middle of fieldwork                               \n",
       "2                           MOF: Middle of fieldwork                               \n",
       "\n",
       "  REF_PERIOD:Reference Period  \\\n",
       "0                         NaN   \n",
       "1                         NaN   \n",
       "2                         NaN   \n",
       "\n",
       "  COVERAGE_TIME:The period of time for which data are provided  \\\n",
       "0                                          1997-2018             \n",
       "1                                          1997-2018             \n",
       "2                                          1997-2018             \n",
       "\n",
       "           AGE:Current age  \n",
       "0  Y0T4: Under 5 years old  \n",
       "1  Y0T4: Under 5 years old  \n",
       "2  Y0T4: Under 5 years old  \n",
       "\n",
       "[3 rows x 22 columns]"
      ]
     },
     "metadata": {},
     "output_type": "display_data"
    }
   ],
   "source": [
    "stunted_data = pd.read_csv(\"Stunt_Data.csv\")\n",
    "display(stunted_data[:3])"
   ]
  },
  {
   "cell_type": "code",
   "execution_count": 8,
   "id": "51805a4b",
   "metadata": {
    "scrolled": true
   },
   "outputs": [
    {
     "data": {
      "text/plain": [
       "array(['NT_ANT_HAZ_NE2: Height-for-age <-2 SD (stunting)'], dtype=object)"
      ]
     },
     "execution_count": 8,
     "metadata": {},
     "output_type": "execute_result"
    }
   ],
   "source": [
    "stunted_data['INDICATOR:Indicator'].unique() #stunting only"
   ]
  },
  {
   "cell_type": "code",
   "execution_count": 9,
   "id": "07d88a77",
   "metadata": {
    "scrolled": true
   },
   "outputs": [
    {
     "data": {
      "text/html": [
       "<div>\n",
       "<style scoped>\n",
       "    .dataframe tbody tr th:only-of-type {\n",
       "        vertical-align: middle;\n",
       "    }\n",
       "\n",
       "    .dataframe tbody tr th {\n",
       "        vertical-align: top;\n",
       "    }\n",
       "\n",
       "    .dataframe thead th {\n",
       "        text-align: right;\n",
       "    }\n",
       "</style>\n",
       "<table border=\"1\" class=\"dataframe\">\n",
       "  <thead>\n",
       "    <tr style=\"text-align: right;\">\n",
       "      <th></th>\n",
       "      <th>DATAFLOW</th>\n",
       "      <th>REF_AREA:Geographic area</th>\n",
       "      <th>INDICATOR:Indicator</th>\n",
       "      <th>SEX:Sex</th>\n",
       "      <th>TIME_PERIOD:Time period</th>\n",
       "      <th>OBS_VALUE:Observation Value</th>\n",
       "      <th>UNIT_MULTIPLIER:Unit multiplier</th>\n",
       "      <th>UNIT_MEASURE:Unit of measure</th>\n",
       "      <th>OBS_STATUS:Observation Status</th>\n",
       "      <th>OBS_CONF:Observation confidentaility</th>\n",
       "      <th>...</th>\n",
       "      <th>WGTD_SAMPL_SIZE:Weighted Sample Size</th>\n",
       "      <th>OBS_FOOTNOTE:Observation footnote</th>\n",
       "      <th>SERIES_FOOTNOTE:Series footnote</th>\n",
       "      <th>DATA_SOURCE:Data Source</th>\n",
       "      <th>SOURCE_LINK:Citation of or link to the data source</th>\n",
       "      <th>CUSTODIAN:Custodian</th>\n",
       "      <th>TIME_PERIOD_METHOD:Time period activity related to when the data are collected</th>\n",
       "      <th>REF_PERIOD:Reference Period</th>\n",
       "      <th>COVERAGE_TIME:The period of time for which data are provided</th>\n",
       "      <th>AGE:Current age</th>\n",
       "    </tr>\n",
       "  </thead>\n",
       "  <tbody>\n",
       "    <tr>\n",
       "      <th>0</th>\n",
       "      <td>UNICEF:GLOBAL_DATAFLOW(1.0): Cross-sector indi...</td>\n",
       "      <td>AFG: Afghanistan</td>\n",
       "      <td>NT_ANT_HAZ_NE3: Height-for-age &lt;-3 SD (Severe ...</td>\n",
       "      <td>F: Female</td>\n",
       "      <td>2004</td>\n",
       "      <td>30.9</td>\n",
       "      <td>0: Units</td>\n",
       "      <td>PCNT: %</td>\n",
       "      <td>ER: External Reanalysis</td>\n",
       "      <td>F: Free</td>\n",
       "      <td>...</td>\n",
       "      <td>436.0</td>\n",
       "      <td>Reduced age range Age 0-5 months not covered  ...</td>\n",
       "      <td>UNICEF/WHO/World Bank Joint Malnutrition Estim...</td>\n",
       "      <td>Summary report of the national nutrition surve...</td>\n",
       "      <td>https://data.unicef.org/topic/nutrition/malnut...</td>\n",
       "      <td>UNICEF Division of Data  Analysis  Planning an...</td>\n",
       "      <td>MOF: Middle of fieldwork</td>\n",
       "      <td>NaN</td>\n",
       "      <td>2004-2018</td>\n",
       "      <td>Y0T4: Under 5 years old</td>\n",
       "    </tr>\n",
       "    <tr>\n",
       "      <th>1</th>\n",
       "      <td>UNICEF:GLOBAL_DATAFLOW(1.0): Cross-sector indi...</td>\n",
       "      <td>AFG: Afghanistan</td>\n",
       "      <td>NT_ANT_HAZ_NE3: Height-for-age &lt;-3 SD (Severe ...</td>\n",
       "      <td>F: Female</td>\n",
       "      <td>2013</td>\n",
       "      <td>19.9</td>\n",
       "      <td>0: Units</td>\n",
       "      <td>PCNT: %</td>\n",
       "      <td>RA: Reanalysed</td>\n",
       "      <td>F: Free</td>\n",
       "      <td>...</td>\n",
       "      <td>2077662.4</td>\n",
       "      <td>Oedema data was not considered in the analysis...</td>\n",
       "      <td>UNICEF/WHO/World Bank Joint Malnutrition Estim...</td>\n",
       "      <td>Afghanistan National Nutrition Survey 2013</td>\n",
       "      <td>https://data.unicef.org/topic/nutrition/malnut...</td>\n",
       "      <td>UNICEF Division of Data  Analysis  Planning an...</td>\n",
       "      <td>MOF: Middle of fieldwork</td>\n",
       "      <td>NaN</td>\n",
       "      <td>2004-2018</td>\n",
       "      <td>Y0T4: Under 5 years old</td>\n",
       "    </tr>\n",
       "    <tr>\n",
       "      <th>2</th>\n",
       "      <td>UNICEF:GLOBAL_DATAFLOW(1.0): Cross-sector indi...</td>\n",
       "      <td>AFG: Afghanistan</td>\n",
       "      <td>NT_ANT_HAZ_NE3: Height-for-age &lt;-3 SD (Severe ...</td>\n",
       "      <td>F: Female</td>\n",
       "      <td>2018</td>\n",
       "      <td>20.0</td>\n",
       "      <td>0: Units</td>\n",
       "      <td>PCNT: %</td>\n",
       "      <td>RA: Reanalysed</td>\n",
       "      <td>F: Free</td>\n",
       "      <td>...</td>\n",
       "      <td>9303.1</td>\n",
       "      <td>Oedema data was not considered in the analysis...</td>\n",
       "      <td>UNICEF/WHO/World Bank Joint Malnutrition Estim...</td>\n",
       "      <td>Afghanistan Health Survey 2018</td>\n",
       "      <td>https://data.unicef.org/topic/nutrition/malnut...</td>\n",
       "      <td>UNICEF Division of Data  Analysis  Planning an...</td>\n",
       "      <td>MOF: Middle of fieldwork</td>\n",
       "      <td>NaN</td>\n",
       "      <td>2004-2018</td>\n",
       "      <td>Y0T4: Under 5 years old</td>\n",
       "    </tr>\n",
       "  </tbody>\n",
       "</table>\n",
       "<p>3 rows × 22 columns</p>\n",
       "</div>"
      ],
      "text/plain": [
       "                                            DATAFLOW REF_AREA:Geographic area  \\\n",
       "0  UNICEF:GLOBAL_DATAFLOW(1.0): Cross-sector indi...         AFG: Afghanistan   \n",
       "1  UNICEF:GLOBAL_DATAFLOW(1.0): Cross-sector indi...         AFG: Afghanistan   \n",
       "2  UNICEF:GLOBAL_DATAFLOW(1.0): Cross-sector indi...         AFG: Afghanistan   \n",
       "\n",
       "                                 INDICATOR:Indicator    SEX:Sex  \\\n",
       "0  NT_ANT_HAZ_NE3: Height-for-age <-3 SD (Severe ...  F: Female   \n",
       "1  NT_ANT_HAZ_NE3: Height-for-age <-3 SD (Severe ...  F: Female   \n",
       "2  NT_ANT_HAZ_NE3: Height-for-age <-3 SD (Severe ...  F: Female   \n",
       "\n",
       "  TIME_PERIOD:Time period  OBS_VALUE:Observation Value  \\\n",
       "0                    2004                         30.9   \n",
       "1                    2013                         19.9   \n",
       "2                    2018                         20.0   \n",
       "\n",
       "  UNIT_MULTIPLIER:Unit multiplier UNIT_MEASURE:Unit of measure  \\\n",
       "0                        0: Units                      PCNT: %   \n",
       "1                        0: Units                      PCNT: %   \n",
       "2                        0: Units                      PCNT: %   \n",
       "\n",
       "  OBS_STATUS:Observation Status OBS_CONF:Observation confidentaility  ...  \\\n",
       "0       ER: External Reanalysis                              F: Free  ...   \n",
       "1                RA: Reanalysed                              F: Free  ...   \n",
       "2                RA: Reanalysed                              F: Free  ...   \n",
       "\n",
       "   WGTD_SAMPL_SIZE:Weighted Sample Size  \\\n",
       "0                                 436.0   \n",
       "1                             2077662.4   \n",
       "2                                9303.1   \n",
       "\n",
       "                   OBS_FOOTNOTE:Observation footnote  \\\n",
       "0  Reduced age range Age 0-5 months not covered  ...   \n",
       "1  Oedema data was not considered in the analysis...   \n",
       "2  Oedema data was not considered in the analysis...   \n",
       "\n",
       "                     SERIES_FOOTNOTE:Series footnote  \\\n",
       "0  UNICEF/WHO/World Bank Joint Malnutrition Estim...   \n",
       "1  UNICEF/WHO/World Bank Joint Malnutrition Estim...   \n",
       "2  UNICEF/WHO/World Bank Joint Malnutrition Estim...   \n",
       "\n",
       "                             DATA_SOURCE:Data Source  \\\n",
       "0  Summary report of the national nutrition surve...   \n",
       "1         Afghanistan National Nutrition Survey 2013   \n",
       "2                     Afghanistan Health Survey 2018   \n",
       "\n",
       "  SOURCE_LINK:Citation of or link to the data source  \\\n",
       "0  https://data.unicef.org/topic/nutrition/malnut...   \n",
       "1  https://data.unicef.org/topic/nutrition/malnut...   \n",
       "2  https://data.unicef.org/topic/nutrition/malnut...   \n",
       "\n",
       "                                 CUSTODIAN:Custodian  \\\n",
       "0  UNICEF Division of Data  Analysis  Planning an...   \n",
       "1  UNICEF Division of Data  Analysis  Planning an...   \n",
       "2  UNICEF Division of Data  Analysis  Planning an...   \n",
       "\n",
       "  TIME_PERIOD_METHOD:Time period activity related to when the data are collected  \\\n",
       "0                           MOF: Middle of fieldwork                               \n",
       "1                           MOF: Middle of fieldwork                               \n",
       "2                           MOF: Middle of fieldwork                               \n",
       "\n",
       "  REF_PERIOD:Reference Period  \\\n",
       "0                         NaN   \n",
       "1                         NaN   \n",
       "2                         NaN   \n",
       "\n",
       "  COVERAGE_TIME:The period of time for which data are provided  \\\n",
       "0                                          2004-2018             \n",
       "1                                          2004-2018             \n",
       "2                                          2004-2018             \n",
       "\n",
       "           AGE:Current age  \n",
       "0  Y0T4: Under 5 years old  \n",
       "1  Y0T4: Under 5 years old  \n",
       "2  Y0T4: Under 5 years old  \n",
       "\n",
       "[3 rows x 22 columns]"
      ]
     },
     "metadata": {},
     "output_type": "display_data"
    }
   ],
   "source": [
    "ser_stunted_data = pd.read_csv(\"Severe_Stunt_Data.csv\")\n",
    "display(ser_stunted_data[:3])"
   ]
  },
  {
   "cell_type": "code",
   "execution_count": 10,
   "id": "09c5508f",
   "metadata": {},
   "outputs": [
    {
     "data": {
      "text/plain": [
       "array(['NT_ANT_HAZ_NE3: Height-for-age <-3 SD (Severe Stunting)'],\n",
       "      dtype=object)"
      ]
     },
     "execution_count": 10,
     "metadata": {},
     "output_type": "execute_result"
    }
   ],
   "source": [
    "ser_stunted_data['INDICATOR:Indicator'].unique() #severe stunting only"
   ]
  },
  {
   "cell_type": "code",
   "execution_count": 11,
   "id": "e9b3e6da",
   "metadata": {
    "scrolled": false
   },
   "outputs": [
    {
     "data": {
      "text/html": [
       "<div>\n",
       "<style scoped>\n",
       "    .dataframe tbody tr th:only-of-type {\n",
       "        vertical-align: middle;\n",
       "    }\n",
       "\n",
       "    .dataframe tbody tr th {\n",
       "        vertical-align: top;\n",
       "    }\n",
       "\n",
       "    .dataframe thead th {\n",
       "        text-align: right;\n",
       "    }\n",
       "</style>\n",
       "<table border=\"1\" class=\"dataframe\">\n",
       "  <thead>\n",
       "    <tr style=\"text-align: right;\">\n",
       "      <th></th>\n",
       "      <th>DATAFLOW</th>\n",
       "      <th>REF_AREA:Geographic area</th>\n",
       "      <th>INDICATOR:Indicator</th>\n",
       "      <th>SEX:Sex</th>\n",
       "      <th>TIME_PERIOD:Time period</th>\n",
       "      <th>OBS_VALUE:Observation Value</th>\n",
       "      <th>UNIT_MULTIPLIER:Unit multiplier</th>\n",
       "      <th>UNIT_MEASURE:Unit of measure</th>\n",
       "      <th>OBS_STATUS:Observation Status</th>\n",
       "      <th>OBS_CONF:Observation confidentaility</th>\n",
       "      <th>...</th>\n",
       "      <th>WGTD_SAMPL_SIZE:Weighted Sample Size</th>\n",
       "      <th>OBS_FOOTNOTE:Observation footnote</th>\n",
       "      <th>SERIES_FOOTNOTE:Series footnote</th>\n",
       "      <th>DATA_SOURCE:Data Source</th>\n",
       "      <th>SOURCE_LINK:Citation of or link to the data source</th>\n",
       "      <th>CUSTODIAN:Custodian</th>\n",
       "      <th>TIME_PERIOD_METHOD:Time period activity related to when the data are collected</th>\n",
       "      <th>REF_PERIOD:Reference Period</th>\n",
       "      <th>COVERAGE_TIME:The period of time for which data are provided</th>\n",
       "      <th>AGE:Current age</th>\n",
       "    </tr>\n",
       "  </thead>\n",
       "  <tbody>\n",
       "    <tr>\n",
       "      <th>0</th>\n",
       "      <td>UNICEF:GLOBAL_DATAFLOW(1.0): Cross-sector indi...</td>\n",
       "      <td>AFG: Afghanistan</td>\n",
       "      <td>NT_ANT_WHZ_PO2: Weight-for-height &gt;+2 SD (over...</td>\n",
       "      <td>F: Female</td>\n",
       "      <td>2004</td>\n",
       "      <td>2.6</td>\n",
       "      <td>0: Units</td>\n",
       "      <td>PCNT: %</td>\n",
       "      <td>ER: External Reanalysis</td>\n",
       "      <td>F: Free</td>\n",
       "      <td>...</td>\n",
       "      <td>436.0</td>\n",
       "      <td>Reduced age range Age 0-5 months not covered  ...</td>\n",
       "      <td>UNICEF/WHO/World Bank Joint Malnutrition Estim...</td>\n",
       "      <td>Summary report of the national nutrition surve...</td>\n",
       "      <td>https://data.unicef.org/topic/nutrition/malnut...</td>\n",
       "      <td>UNICEF Division of Data  Analysis  Planning an...</td>\n",
       "      <td>MOF: Middle of fieldwork</td>\n",
       "      <td>NaN</td>\n",
       "      <td>1997-2018</td>\n",
       "      <td>Y0T4: Under 5 years old</td>\n",
       "    </tr>\n",
       "    <tr>\n",
       "      <th>1</th>\n",
       "      <td>UNICEF:GLOBAL_DATAFLOW(1.0): Cross-sector indi...</td>\n",
       "      <td>AFG: Afghanistan</td>\n",
       "      <td>NT_ANT_WHZ_PO2: Weight-for-height &gt;+2 SD (over...</td>\n",
       "      <td>F: Female</td>\n",
       "      <td>2013</td>\n",
       "      <td>5.8</td>\n",
       "      <td>0: Units</td>\n",
       "      <td>PCNT: %</td>\n",
       "      <td>RA: Reanalysed</td>\n",
       "      <td>F: Free</td>\n",
       "      <td>...</td>\n",
       "      <td>2080089.9</td>\n",
       "      <td>Oedema data was not considered in the analysis...</td>\n",
       "      <td>UNICEF/WHO/World Bank Joint Malnutrition Estim...</td>\n",
       "      <td>Afghanistan National Nutrition Survey 2013</td>\n",
       "      <td>https://data.unicef.org/topic/nutrition/malnut...</td>\n",
       "      <td>UNICEF Division of Data  Analysis  Planning an...</td>\n",
       "      <td>MOF: Middle of fieldwork</td>\n",
       "      <td>NaN</td>\n",
       "      <td>1997-2018</td>\n",
       "      <td>Y0T4: Under 5 years old</td>\n",
       "    </tr>\n",
       "    <tr>\n",
       "      <th>2</th>\n",
       "      <td>UNICEF:GLOBAL_DATAFLOW(1.0): Cross-sector indi...</td>\n",
       "      <td>AFG: Afghanistan</td>\n",
       "      <td>NT_ANT_WHZ_PO2: Weight-for-height &gt;+2 SD (over...</td>\n",
       "      <td>F: Female</td>\n",
       "      <td>2018</td>\n",
       "      <td>4.2</td>\n",
       "      <td>0: Units</td>\n",
       "      <td>PCNT: %</td>\n",
       "      <td>RA: Reanalysed</td>\n",
       "      <td>F: Free</td>\n",
       "      <td>...</td>\n",
       "      <td>9593.1</td>\n",
       "      <td>Oedema data was not considered in the analysis...</td>\n",
       "      <td>UNICEF/WHO/World Bank Joint Malnutrition Estim...</td>\n",
       "      <td>Afghanistan Health Survey 2018</td>\n",
       "      <td>https://data.unicef.org/topic/nutrition/malnut...</td>\n",
       "      <td>UNICEF Division of Data  Analysis  Planning an...</td>\n",
       "      <td>MOF: Middle of fieldwork</td>\n",
       "      <td>NaN</td>\n",
       "      <td>1997-2018</td>\n",
       "      <td>Y0T4: Under 5 years old</td>\n",
       "    </tr>\n",
       "  </tbody>\n",
       "</table>\n",
       "<p>3 rows × 22 columns</p>\n",
       "</div>"
      ],
      "text/plain": [
       "                                            DATAFLOW REF_AREA:Geographic area  \\\n",
       "0  UNICEF:GLOBAL_DATAFLOW(1.0): Cross-sector indi...         AFG: Afghanistan   \n",
       "1  UNICEF:GLOBAL_DATAFLOW(1.0): Cross-sector indi...         AFG: Afghanistan   \n",
       "2  UNICEF:GLOBAL_DATAFLOW(1.0): Cross-sector indi...         AFG: Afghanistan   \n",
       "\n",
       "                                 INDICATOR:Indicator    SEX:Sex  \\\n",
       "0  NT_ANT_WHZ_PO2: Weight-for-height >+2 SD (over...  F: Female   \n",
       "1  NT_ANT_WHZ_PO2: Weight-for-height >+2 SD (over...  F: Female   \n",
       "2  NT_ANT_WHZ_PO2: Weight-for-height >+2 SD (over...  F: Female   \n",
       "\n",
       "  TIME_PERIOD:Time period  OBS_VALUE:Observation Value  \\\n",
       "0                    2004                          2.6   \n",
       "1                    2013                          5.8   \n",
       "2                    2018                          4.2   \n",
       "\n",
       "  UNIT_MULTIPLIER:Unit multiplier UNIT_MEASURE:Unit of measure  \\\n",
       "0                        0: Units                      PCNT: %   \n",
       "1                        0: Units                      PCNT: %   \n",
       "2                        0: Units                      PCNT: %   \n",
       "\n",
       "  OBS_STATUS:Observation Status OBS_CONF:Observation confidentaility  ...  \\\n",
       "0       ER: External Reanalysis                              F: Free  ...   \n",
       "1                RA: Reanalysed                              F: Free  ...   \n",
       "2                RA: Reanalysed                              F: Free  ...   \n",
       "\n",
       "   WGTD_SAMPL_SIZE:Weighted Sample Size  \\\n",
       "0                                 436.0   \n",
       "1                             2080089.9   \n",
       "2                                9593.1   \n",
       "\n",
       "                   OBS_FOOTNOTE:Observation footnote  \\\n",
       "0  Reduced age range Age 0-5 months not covered  ...   \n",
       "1  Oedema data was not considered in the analysis...   \n",
       "2  Oedema data was not considered in the analysis...   \n",
       "\n",
       "                     SERIES_FOOTNOTE:Series footnote  \\\n",
       "0  UNICEF/WHO/World Bank Joint Malnutrition Estim...   \n",
       "1  UNICEF/WHO/World Bank Joint Malnutrition Estim...   \n",
       "2  UNICEF/WHO/World Bank Joint Malnutrition Estim...   \n",
       "\n",
       "                             DATA_SOURCE:Data Source  \\\n",
       "0  Summary report of the national nutrition surve...   \n",
       "1         Afghanistan National Nutrition Survey 2013   \n",
       "2                     Afghanistan Health Survey 2018   \n",
       "\n",
       "  SOURCE_LINK:Citation of or link to the data source  \\\n",
       "0  https://data.unicef.org/topic/nutrition/malnut...   \n",
       "1  https://data.unicef.org/topic/nutrition/malnut...   \n",
       "2  https://data.unicef.org/topic/nutrition/malnut...   \n",
       "\n",
       "                                 CUSTODIAN:Custodian  \\\n",
       "0  UNICEF Division of Data  Analysis  Planning an...   \n",
       "1  UNICEF Division of Data  Analysis  Planning an...   \n",
       "2  UNICEF Division of Data  Analysis  Planning an...   \n",
       "\n",
       "  TIME_PERIOD_METHOD:Time period activity related to when the data are collected  \\\n",
       "0                           MOF: Middle of fieldwork                               \n",
       "1                           MOF: Middle of fieldwork                               \n",
       "2                           MOF: Middle of fieldwork                               \n",
       "\n",
       "  REF_PERIOD:Reference Period  \\\n",
       "0                         NaN   \n",
       "1                         NaN   \n",
       "2                         NaN   \n",
       "\n",
       "  COVERAGE_TIME:The period of time for which data are provided  \\\n",
       "0                                          1997-2018             \n",
       "1                                          1997-2018             \n",
       "2                                          1997-2018             \n",
       "\n",
       "           AGE:Current age  \n",
       "0  Y0T4: Under 5 years old  \n",
       "1  Y0T4: Under 5 years old  \n",
       "2  Y0T4: Under 5 years old  \n",
       "\n",
       "[3 rows x 22 columns]"
      ]
     },
     "metadata": {},
     "output_type": "display_data"
    }
   ],
   "source": [
    "overweight_data = pd.read_csv(\"Overweight_Data.csv\")\n",
    "display(overweight_data[:3])"
   ]
  },
  {
   "cell_type": "code",
   "execution_count": 12,
   "id": "98ac9e2b",
   "metadata": {},
   "outputs": [
    {
     "data": {
      "text/plain": [
       "array(['NT_ANT_WHZ_PO2: Weight-for-height >+2 SD (overweight)'],\n",
       "      dtype=object)"
      ]
     },
     "execution_count": 12,
     "metadata": {},
     "output_type": "execute_result"
    }
   ],
   "source": [
    "overweight_data['INDICATOR:Indicator'].unique() #overweight only"
   ]
  },
  {
   "cell_type": "markdown",
   "id": "b6bf0420",
   "metadata": {},
   "source": [
    "## 2. Data Cleaning"
   ]
  },
  {
   "cell_type": "code",
   "execution_count": 13,
   "id": "be093224",
   "metadata": {},
   "outputs": [],
   "source": [
    "# data cleaning\n",
    "# rename columns\n",
    "\n",
    "# wasted\n",
    "wasted_data = wasted_data.rename(columns = {\"REF_AREA:Geographic area\" : \"Country\", \"SEX:Sex\" : \"Sex\",\\\n",
    "                                         \"TIME_PERIOD:Time period\" : \"Year\", \"OBS_VALUE:Observation Value\" : \"Waste_percent\",\\\n",
    "                                           'AGE:Current age':'Age'})\n",
    "# severe_wasted\n",
    "ser_wasted_data=ser_wasted_data.rename(columns = {\"REF_AREA:Geographic area\" : \"Country\", \"SEX:Sex\" : \"Sex\",\\\n",
    "                                           \"TIME_PERIOD:Time period\" : \"Year\", \"OBS_VALUE:Observation Value\" : \"Severe_Waste_percent\",\\\n",
    "                                           'AGE:Current age':'Age'})\n",
    "# stunted\n",
    "stunted_data = stunted_data.rename(columns = {\"REF_AREA:Geographic area\" : \"Country\", \"SEX:Sex\" : \"Sex\",\\\n",
    "                                          \"TIME_PERIOD:Time period\" : \"Year\", \"OBS_VALUE:Observation Value\" : \"Stunt_percent\",\\\n",
    "                                            'AGE:Current age':'Age'})\n",
    "# severe stunted\n",
    "ser_stunted_data = ser_stunted_data.rename(columns = {\"REF_AREA:Geographic area\" : \"Country\", \"SEX:Sex\" : \"Sex\",\\\n",
    "                                          \"TIME_PERIOD:Time period\" : \"Year\", \"OBS_VALUE:Observation Value\" : \"Severe_Stunt_percent\",\\\n",
    "                                           'AGE:Current age':'Age'})\n",
    "# overweight\n",
    "overweight_data = overweight_data.rename(columns = {\"REF_AREA:Geographic area\" : \"Country\", \"SEX:Sex\" : \"Sex\",\\\n",
    "                                           \"TIME_PERIOD:Time period\" : \"Year\", \"OBS_VALUE:Observation Value\" : \"Overweight_percent\",\\\n",
    "                                            \"INDICATOR:Indicator\":\"Overweight_Indicator\",'AGE:Current age':'Age'})\n"
   ]
  },
  {
   "cell_type": "code",
   "execution_count": 14,
   "id": "3ae0a8e9",
   "metadata": {
    "scrolled": true
   },
   "outputs": [
    {
     "data": {
      "text/html": [
       "<div>\n",
       "<style scoped>\n",
       "    .dataframe tbody tr th:only-of-type {\n",
       "        vertical-align: middle;\n",
       "    }\n",
       "\n",
       "    .dataframe tbody tr th {\n",
       "        vertical-align: top;\n",
       "    }\n",
       "\n",
       "    .dataframe thead th {\n",
       "        text-align: right;\n",
       "    }\n",
       "</style>\n",
       "<table border=\"1\" class=\"dataframe\">\n",
       "  <thead>\n",
       "    <tr style=\"text-align: right;\">\n",
       "      <th></th>\n",
       "      <th>Country</th>\n",
       "      <th>Sex</th>\n",
       "      <th>Year</th>\n",
       "      <th>Waste_percent</th>\n",
       "      <th>Age</th>\n",
       "    </tr>\n",
       "  </thead>\n",
       "  <tbody>\n",
       "    <tr>\n",
       "      <th>0</th>\n",
       "      <td>AFG: Afghanistan</td>\n",
       "      <td>F: Female</td>\n",
       "      <td>2004</td>\n",
       "      <td>9.3</td>\n",
       "      <td>Y0T4: Under 5 years old</td>\n",
       "    </tr>\n",
       "  </tbody>\n",
       "</table>\n",
       "</div>"
      ],
      "text/plain": [
       "            Country        Sex  Year  Waste_percent                      Age\n",
       "0  AFG: Afghanistan  F: Female  2004            9.3  Y0T4: Under 5 years old"
      ]
     },
     "execution_count": 14,
     "metadata": {},
     "output_type": "execute_result"
    }
   ],
   "source": [
    "# reduce non-relevant data columns\n",
    "# wasted_data.head(3)\n",
    "wasted_df=wasted_data[['Country','Sex','Year','Waste_percent','Age']]\n",
    "wasted_df.head(1)"
   ]
  },
  {
   "cell_type": "code",
   "execution_count": 15,
   "id": "d28caab4",
   "metadata": {},
   "outputs": [
    {
     "data": {
      "text/html": [
       "<div>\n",
       "<style scoped>\n",
       "    .dataframe tbody tr th:only-of-type {\n",
       "        vertical-align: middle;\n",
       "    }\n",
       "\n",
       "    .dataframe tbody tr th {\n",
       "        vertical-align: top;\n",
       "    }\n",
       "\n",
       "    .dataframe thead th {\n",
       "        text-align: right;\n",
       "    }\n",
       "</style>\n",
       "<table border=\"1\" class=\"dataframe\">\n",
       "  <thead>\n",
       "    <tr style=\"text-align: right;\">\n",
       "      <th></th>\n",
       "      <th>Country</th>\n",
       "      <th>Sex</th>\n",
       "      <th>Year</th>\n",
       "      <th>Severe_Waste_percent</th>\n",
       "      <th>Age</th>\n",
       "    </tr>\n",
       "  </thead>\n",
       "  <tbody>\n",
       "    <tr>\n",
       "      <th>0</th>\n",
       "      <td>AFG: Afghanistan</td>\n",
       "      <td>F: Female</td>\n",
       "      <td>2004</td>\n",
       "      <td>4.3</td>\n",
       "      <td>Y0T4: Under 5 years old</td>\n",
       "    </tr>\n",
       "  </tbody>\n",
       "</table>\n",
       "</div>"
      ],
      "text/plain": [
       "            Country        Sex  Year  Severe_Waste_percent  \\\n",
       "0  AFG: Afghanistan  F: Female  2004                   4.3   \n",
       "\n",
       "                       Age  \n",
       "0  Y0T4: Under 5 years old  "
      ]
     },
     "execution_count": 15,
     "metadata": {},
     "output_type": "execute_result"
    }
   ],
   "source": [
    "ser_wasted_df=ser_wasted_data[['Country','Sex','Year','Severe_Waste_percent','Age']]\n",
    "ser_wasted_df.head(1)"
   ]
  },
  {
   "cell_type": "code",
   "execution_count": 16,
   "id": "dd68cd37",
   "metadata": {
    "scrolled": true
   },
   "outputs": [
    {
     "data": {
      "text/html": [
       "<div>\n",
       "<style scoped>\n",
       "    .dataframe tbody tr th:only-of-type {\n",
       "        vertical-align: middle;\n",
       "    }\n",
       "\n",
       "    .dataframe tbody tr th {\n",
       "        vertical-align: top;\n",
       "    }\n",
       "\n",
       "    .dataframe thead th {\n",
       "        text-align: right;\n",
       "    }\n",
       "</style>\n",
       "<table border=\"1\" class=\"dataframe\">\n",
       "  <thead>\n",
       "    <tr style=\"text-align: right;\">\n",
       "      <th></th>\n",
       "      <th>Country</th>\n",
       "      <th>Sex</th>\n",
       "      <th>Year</th>\n",
       "      <th>Stunt_percent</th>\n",
       "      <th>Age</th>\n",
       "    </tr>\n",
       "  </thead>\n",
       "  <tbody>\n",
       "    <tr>\n",
       "      <th>0</th>\n",
       "      <td>AFG: Afghanistan</td>\n",
       "      <td>F: Female</td>\n",
       "      <td>2004</td>\n",
       "      <td>58.5</td>\n",
       "      <td>Y0T4: Under 5 years old</td>\n",
       "    </tr>\n",
       "  </tbody>\n",
       "</table>\n",
       "</div>"
      ],
      "text/plain": [
       "            Country        Sex  Year  Stunt_percent                      Age\n",
       "0  AFG: Afghanistan  F: Female  2004           58.5  Y0T4: Under 5 years old"
      ]
     },
     "execution_count": 16,
     "metadata": {},
     "output_type": "execute_result"
    }
   ],
   "source": [
    "stunted_df=stunted_data[['Country','Sex','Year','Stunt_percent','Age']]\n",
    "stunted_df.head(1)"
   ]
  },
  {
   "cell_type": "code",
   "execution_count": 17,
   "id": "34cf14f7",
   "metadata": {},
   "outputs": [
    {
     "data": {
      "text/html": [
       "<div>\n",
       "<style scoped>\n",
       "    .dataframe tbody tr th:only-of-type {\n",
       "        vertical-align: middle;\n",
       "    }\n",
       "\n",
       "    .dataframe tbody tr th {\n",
       "        vertical-align: top;\n",
       "    }\n",
       "\n",
       "    .dataframe thead th {\n",
       "        text-align: right;\n",
       "    }\n",
       "</style>\n",
       "<table border=\"1\" class=\"dataframe\">\n",
       "  <thead>\n",
       "    <tr style=\"text-align: right;\">\n",
       "      <th></th>\n",
       "      <th>Country</th>\n",
       "      <th>Sex</th>\n",
       "      <th>Year</th>\n",
       "      <th>Severe_Waste_percent</th>\n",
       "      <th>Age</th>\n",
       "    </tr>\n",
       "  </thead>\n",
       "  <tbody>\n",
       "    <tr>\n",
       "      <th>0</th>\n",
       "      <td>AFG: Afghanistan</td>\n",
       "      <td>F: Female</td>\n",
       "      <td>2004</td>\n",
       "      <td>4.3</td>\n",
       "      <td>Y0T4: Under 5 years old</td>\n",
       "    </tr>\n",
       "  </tbody>\n",
       "</table>\n",
       "</div>"
      ],
      "text/plain": [
       "            Country        Sex  Year  Severe_Waste_percent  \\\n",
       "0  AFG: Afghanistan  F: Female  2004                   4.3   \n",
       "\n",
       "                       Age  \n",
       "0  Y0T4: Under 5 years old  "
      ]
     },
     "execution_count": 17,
     "metadata": {},
     "output_type": "execute_result"
    }
   ],
   "source": [
    "ser_stunted_df=ser_stunted_data[['Country','Sex','Year','Severe_Stunt_percent','Age']]\n",
    "ser_wasted_df.head(1)"
   ]
  },
  {
   "cell_type": "code",
   "execution_count": 18,
   "id": "fcc7e2cf",
   "metadata": {},
   "outputs": [
    {
     "data": {
      "text/html": [
       "<div>\n",
       "<style scoped>\n",
       "    .dataframe tbody tr th:only-of-type {\n",
       "        vertical-align: middle;\n",
       "    }\n",
       "\n",
       "    .dataframe tbody tr th {\n",
       "        vertical-align: top;\n",
       "    }\n",
       "\n",
       "    .dataframe thead th {\n",
       "        text-align: right;\n",
       "    }\n",
       "</style>\n",
       "<table border=\"1\" class=\"dataframe\">\n",
       "  <thead>\n",
       "    <tr style=\"text-align: right;\">\n",
       "      <th></th>\n",
       "      <th>Country</th>\n",
       "      <th>Sex</th>\n",
       "      <th>Year</th>\n",
       "      <th>Overweight_percent</th>\n",
       "      <th>Age</th>\n",
       "    </tr>\n",
       "  </thead>\n",
       "  <tbody>\n",
       "    <tr>\n",
       "      <th>0</th>\n",
       "      <td>AFG: Afghanistan</td>\n",
       "      <td>F: Female</td>\n",
       "      <td>2004</td>\n",
       "      <td>2.6</td>\n",
       "      <td>Y0T4: Under 5 years old</td>\n",
       "    </tr>\n",
       "  </tbody>\n",
       "</table>\n",
       "</div>"
      ],
      "text/plain": [
       "            Country        Sex  Year  Overweight_percent  \\\n",
       "0  AFG: Afghanistan  F: Female  2004                 2.6   \n",
       "\n",
       "                       Age  \n",
       "0  Y0T4: Under 5 years old  "
      ]
     },
     "execution_count": 18,
     "metadata": {},
     "output_type": "execute_result"
    }
   ],
   "source": [
    "overweight_df=overweight_data[['Country','Sex','Year','Overweight_percent','Age']]\n",
    "overweight_df.head(1)"
   ]
  },
  {
   "cell_type": "code",
   "execution_count": 19,
   "id": "68c379e6",
   "metadata": {
    "scrolled": true
   },
   "outputs": [
    {
     "data": {
      "text/html": [
       "<div>\n",
       "<style scoped>\n",
       "    .dataframe tbody tr th:only-of-type {\n",
       "        vertical-align: middle;\n",
       "    }\n",
       "\n",
       "    .dataframe tbody tr th {\n",
       "        vertical-align: top;\n",
       "    }\n",
       "\n",
       "    .dataframe thead th {\n",
       "        text-align: right;\n",
       "    }\n",
       "</style>\n",
       "<table border=\"1\" class=\"dataframe\">\n",
       "  <thead>\n",
       "    <tr style=\"text-align: right;\">\n",
       "      <th></th>\n",
       "      <th>Country</th>\n",
       "      <th>Sex</th>\n",
       "      <th>Year</th>\n",
       "      <th>Waste_percent</th>\n",
       "      <th>Age</th>\n",
       "      <th>Severe_Waste_percent</th>\n",
       "      <th>Stunt_percent</th>\n",
       "      <th>Severe_Stunt_percent</th>\n",
       "      <th>Overweight_percent</th>\n",
       "    </tr>\n",
       "  </thead>\n",
       "  <tbody>\n",
       "    <tr>\n",
       "      <th>0</th>\n",
       "      <td>AFG: Afghanistan</td>\n",
       "      <td>F: Female</td>\n",
       "      <td>2004</td>\n",
       "      <td>9.3</td>\n",
       "      <td>Y0T4: Under 5 years old</td>\n",
       "      <td>4.3</td>\n",
       "      <td>58.5</td>\n",
       "      <td>30.9</td>\n",
       "      <td>2.6</td>\n",
       "    </tr>\n",
       "    <tr>\n",
       "      <th>1</th>\n",
       "      <td>AFG: Afghanistan</td>\n",
       "      <td>F: Female</td>\n",
       "      <td>2013</td>\n",
       "      <td>8.7</td>\n",
       "      <td>Y0T4: Under 5 years old</td>\n",
       "      <td>3.5</td>\n",
       "      <td>39.5</td>\n",
       "      <td>19.9</td>\n",
       "      <td>5.8</td>\n",
       "    </tr>\n",
       "    <tr>\n",
       "      <th>2</th>\n",
       "      <td>AFG: Afghanistan</td>\n",
       "      <td>F: Female</td>\n",
       "      <td>2018</td>\n",
       "      <td>4.1</td>\n",
       "      <td>Y0T4: Under 5 years old</td>\n",
       "      <td>1.4</td>\n",
       "      <td>38.1</td>\n",
       "      <td>20.0</td>\n",
       "      <td>4.2</td>\n",
       "    </tr>\n",
       "  </tbody>\n",
       "</table>\n",
       "</div>"
      ],
      "text/plain": [
       "            Country        Sex  Year  Waste_percent                      Age  \\\n",
       "0  AFG: Afghanistan  F: Female  2004            9.3  Y0T4: Under 5 years old   \n",
       "1  AFG: Afghanistan  F: Female  2013            8.7  Y0T4: Under 5 years old   \n",
       "2  AFG: Afghanistan  F: Female  2018            4.1  Y0T4: Under 5 years old   \n",
       "\n",
       "   Severe_Waste_percent  Stunt_percent  Severe_Stunt_percent  \\\n",
       "0                   4.3           58.5                  30.9   \n",
       "1                   3.5           39.5                  19.9   \n",
       "2                   1.4           38.1                  20.0   \n",
       "\n",
       "   Overweight_percent  \n",
       "0                 2.6  \n",
       "1                 5.8  \n",
       "2                 4.2  "
      ]
     },
     "execution_count": 19,
     "metadata": {},
     "output_type": "execute_result"
    }
   ],
   "source": [
    "# combine with outer-join\n",
    "combined_df=wasted_df.merge(ser_wasted_df,how='outer',on=['Country','Sex','Year','Age'])\\\n",
    "            .merge(stunted_df,how='outer',on=['Country','Sex','Year','Age'])\\\n",
    "            .merge(ser_stunted_df,how='outer',on=['Country','Sex','Year','Age'])\\\n",
    "            .merge(overweight_df,how='outer',on=['Country','Sex','Year','Age'])\\\n",
    "# shown sample lines\n",
    "combined_df.head(3)"
   ]
  },
  {
   "cell_type": "code",
   "execution_count": 20,
   "id": "41127d28",
   "metadata": {
    "scrolled": true
   },
   "outputs": [
    {
     "data": {
      "text/html": [
       "<div>\n",
       "<style scoped>\n",
       "    .dataframe tbody tr th:only-of-type {\n",
       "        vertical-align: middle;\n",
       "    }\n",
       "\n",
       "    .dataframe tbody tr th {\n",
       "        vertical-align: top;\n",
       "    }\n",
       "\n",
       "    .dataframe thead th {\n",
       "        text-align: right;\n",
       "    }\n",
       "</style>\n",
       "<table border=\"1\" class=\"dataframe\">\n",
       "  <thead>\n",
       "    <tr style=\"text-align: right;\">\n",
       "      <th></th>\n",
       "      <th>Country</th>\n",
       "      <th>Sex</th>\n",
       "      <th>Year</th>\n",
       "      <th>Waste_percent</th>\n",
       "      <th>Age</th>\n",
       "      <th>Severe_Waste_percent</th>\n",
       "      <th>Stunt_percent</th>\n",
       "      <th>Severe_Stunt_percent</th>\n",
       "      <th>Overweight_percent</th>\n",
       "      <th>Waste_total_percent</th>\n",
       "      <th>Stunt_total_percent</th>\n",
       "    </tr>\n",
       "  </thead>\n",
       "  <tbody>\n",
       "    <tr>\n",
       "      <th>0</th>\n",
       "      <td>AFG: Afghanistan</td>\n",
       "      <td>F: Female</td>\n",
       "      <td>2004</td>\n",
       "      <td>9.3</td>\n",
       "      <td>Y0T4: Under 5 years old</td>\n",
       "      <td>4.3</td>\n",
       "      <td>58.5</td>\n",
       "      <td>30.9</td>\n",
       "      <td>2.6</td>\n",
       "      <td>13.6</td>\n",
       "      <td>89.4</td>\n",
       "    </tr>\n",
       "  </tbody>\n",
       "</table>\n",
       "</div>"
      ],
      "text/plain": [
       "            Country        Sex  Year  Waste_percent                      Age  \\\n",
       "0  AFG: Afghanistan  F: Female  2004            9.3  Y0T4: Under 5 years old   \n",
       "\n",
       "   Severe_Waste_percent  Stunt_percent  Severe_Stunt_percent  \\\n",
       "0                   4.3           58.5                  30.9   \n",
       "\n",
       "   Overweight_percent  Waste_total_percent  Stunt_total_percent  \n",
       "0                 2.6                 13.6                 89.4  "
      ]
     },
     "execution_count": 20,
     "metadata": {},
     "output_type": "execute_result"
    }
   ],
   "source": [
    "# Calculate total waste percent column from adding percentage with normal waste condition and percentage with severe waste condition\n",
    "combined_df['Waste_total_percent']=combined_df['Waste_percent']+combined_df['Severe_Waste_percent']\n",
    "combined_df['Stunt_total_percent']=combined_df['Stunt_percent']+combined_df['Severe_Stunt_percent']\n",
    "combined_df.head(1)"
   ]
  },
  {
   "cell_type": "code",
   "execution_count": 21,
   "id": "f636884e",
   "metadata": {},
   "outputs": [
    {
     "data": {
      "text/html": [
       "<div>\n",
       "<style scoped>\n",
       "    .dataframe tbody tr th:only-of-type {\n",
       "        vertical-align: middle;\n",
       "    }\n",
       "\n",
       "    .dataframe tbody tr th {\n",
       "        vertical-align: top;\n",
       "    }\n",
       "\n",
       "    .dataframe thead th {\n",
       "        text-align: right;\n",
       "    }\n",
       "</style>\n",
       "<table border=\"1\" class=\"dataframe\">\n",
       "  <thead>\n",
       "    <tr style=\"text-align: right;\">\n",
       "      <th></th>\n",
       "      <th>Country</th>\n",
       "      <th>Sex</th>\n",
       "      <th>Year</th>\n",
       "      <th>Age</th>\n",
       "      <th>Overweight_percent</th>\n",
       "      <th>Waste_total_percent</th>\n",
       "      <th>Stunt_total_percent</th>\n",
       "    </tr>\n",
       "  </thead>\n",
       "  <tbody>\n",
       "    <tr>\n",
       "      <th>0</th>\n",
       "      <td>AFG: Afghanistan</td>\n",
       "      <td>F: Female</td>\n",
       "      <td>2004</td>\n",
       "      <td>Y0T4: Under 5 years old</td>\n",
       "      <td>2.6</td>\n",
       "      <td>13.6</td>\n",
       "      <td>89.4</td>\n",
       "    </tr>\n",
       "  </tbody>\n",
       "</table>\n",
       "</div>"
      ],
      "text/plain": [
       "            Country        Sex  Year                      Age  \\\n",
       "0  AFG: Afghanistan  F: Female  2004  Y0T4: Under 5 years old   \n",
       "\n",
       "   Overweight_percent  Waste_total_percent  Stunt_total_percent  \n",
       "0                 2.6                 13.6                 89.4  "
      ]
     },
     "execution_count": 21,
     "metadata": {},
     "output_type": "execute_result"
    }
   ],
   "source": [
    "# pop the previous waste & stunt columns, only keep the sum column\n",
    "cols=['Waste_percent','Severe_Waste_percent','Stunt_percent','Severe_Stunt_percent']\n",
    "for c in cols:\n",
    "    combined_df.pop(c)\n",
    "combined_df.head(1)"
   ]
  },
  {
   "cell_type": "code",
   "execution_count": 22,
   "id": "0f42ab7f",
   "metadata": {},
   "outputs": [
    {
     "name": "stdout",
     "output_type": "stream",
     "text": [
      "All data are for kids under 5 years old.\n"
     ]
    }
   ],
   "source": [
    "# Observe properties of some columns\n",
    "# 1. Is age all under 5?\n",
    "combined_df['Age'].unique()\n",
    "print('All data are for kids under 5 years old.')"
   ]
  },
  {
   "cell_type": "code",
   "execution_count": 23,
   "id": "fecd5b13",
   "metadata": {},
   "outputs": [],
   "source": [
    "del combined_df['Age']  "
   ]
  },
  {
   "cell_type": "code",
   "execution_count": 24,
   "id": "48b8bb98",
   "metadata": {},
   "outputs": [
    {
     "name": "stdout",
     "output_type": "stream",
     "text": [
      "There are a total number of 239 countries/regions in the DataFrame.\n"
     ]
    }
   ],
   "source": [
    "# 2. Number of countries\n",
    "country_count=len(combined_df['Country'].unique())\n",
    "print('There are a total number of '+ str(country_count) + ' countries/regions in the DataFrame.')"
   ]
  },
  {
   "cell_type": "code",
   "execution_count": 25,
   "id": "5b53b8b7",
   "metadata": {},
   "outputs": [
    {
     "data": {
      "text/html": [
       "<div>\n",
       "<style scoped>\n",
       "    .dataframe tbody tr th:only-of-type {\n",
       "        vertical-align: middle;\n",
       "    }\n",
       "\n",
       "    .dataframe tbody tr th {\n",
       "        vertical-align: top;\n",
       "    }\n",
       "\n",
       "    .dataframe thead th {\n",
       "        text-align: right;\n",
       "    }\n",
       "</style>\n",
       "<table border=\"1\" class=\"dataframe\">\n",
       "  <thead>\n",
       "    <tr style=\"text-align: right;\">\n",
       "      <th></th>\n",
       "      <th>ISO Code</th>\n",
       "      <th>Country Name</th>\n",
       "      <th>Sex</th>\n",
       "      <th>Year</th>\n",
       "      <th>Overweight_percent</th>\n",
       "      <th>Waste_total_percent</th>\n",
       "      <th>Stunt_total_percent</th>\n",
       "    </tr>\n",
       "  </thead>\n",
       "  <tbody>\n",
       "    <tr>\n",
       "      <th>0</th>\n",
       "      <td>AFG</td>\n",
       "      <td>Afghanistan</td>\n",
       "      <td>F: Female</td>\n",
       "      <td>2004</td>\n",
       "      <td>2.6</td>\n",
       "      <td>13.6</td>\n",
       "      <td>89.4</td>\n",
       "    </tr>\n",
       "    <tr>\n",
       "      <th>1</th>\n",
       "      <td>AFG</td>\n",
       "      <td>Afghanistan</td>\n",
       "      <td>F: Female</td>\n",
       "      <td>2013</td>\n",
       "      <td>5.8</td>\n",
       "      <td>12.2</td>\n",
       "      <td>59.4</td>\n",
       "    </tr>\n",
       "    <tr>\n",
       "      <th>2</th>\n",
       "      <td>AFG</td>\n",
       "      <td>Afghanistan</td>\n",
       "      <td>F: Female</td>\n",
       "      <td>2018</td>\n",
       "      <td>4.2</td>\n",
       "      <td>5.5</td>\n",
       "      <td>58.1</td>\n",
       "    </tr>\n",
       "  </tbody>\n",
       "</table>\n",
       "</div>"
      ],
      "text/plain": [
       "  ISO Code Country Name        Sex  Year  Overweight_percent  \\\n",
       "0      AFG  Afghanistan  F: Female  2004                 2.6   \n",
       "1      AFG  Afghanistan  F: Female  2013                 5.8   \n",
       "2      AFG  Afghanistan  F: Female  2018                 4.2   \n",
       "\n",
       "   Waste_total_percent  Stunt_total_percent  \n",
       "0                 13.6                 89.4  \n",
       "1                 12.2                 59.4  \n",
       "2                  5.5                 58.1  "
      ]
     },
     "execution_count": 25,
     "metadata": {},
     "output_type": "execute_result"
    }
   ],
   "source": [
    "# Format countries, separate to 3 digit ISO code and name\n",
    "split_countries= combined_df[\"Country\"].str.split(':', expand=True)\n",
    "\n",
    "# join to combine df\n",
    "combined_df = split_countries.join(combined_df)\n",
    "\n",
    "# rename columns\n",
    "combined_df = combined_df.rename(columns = {0 : \"ISO Code\", 1 : \"Country Name\"})\n",
    "\n",
    "# format the region\n",
    "combined_df[\"Country Name\"] = combined_df[\"Country Name\"].str.strip()\n",
    "\n",
    "# filter only the countrys not regions\n",
    "combined_df = combined_df[combined_df[\"ISO Code\"].str.contains(\"_\")==False]\n",
    "\n",
    "# remove previous columns\n",
    "del combined_df['Country']\n",
    "\n",
    "combined_df.head(3)"
   ]
  },
  {
   "cell_type": "code",
   "execution_count": 26,
   "id": "2e8cdd3a",
   "metadata": {},
   "outputs": [
    {
     "data": {
      "text/plain": [
       "array(['2004', '2013', '2018', '1997', '2000', '2005', '2009', '2017',\n",
       "       '1992', '1995', '2002', '2006', '2012', '2019', '1987', '1996',\n",
       "       '2007', '2015', '1994', '1998', '2010', '2016', '2011', '2001',\n",
       "       '1989', '2013-02-16', '2013-06-16', '2014', '1986', '1990', '1991',\n",
       "       '1993', '1999', '2003', '2008', '1985', '2019-03-14', '2019-11-07',\n",
       "       '2019-08-12', '2019-08-27', '1988', '1998-01-01', '1998-12-01',\n",
       "       '2018-03-13', '2018-04-09', '2020', '2012-01-06', '2012-08-06',\n",
       "       '2019-01-15', '2019-09-15', '1994-01-15', '1994-12-17',\n",
       "       '2016-01-15', '2016-05-11', '2016-12-01', '2015-05-22',\n",
       "       '2015-09-05', '2018-07-24', '2018-09-27', '2010-08-22',\n",
       "       '2010-10-24', '2016-05-15', '2016-10-01', '2006-03-28',\n",
       "       '2006-11-01', '2010-06-05', '2010-10-29', '2012-04-11',\n",
       "       '2012-07-16', '2018-04-02', '2018-10-23', '1983', '2015-01-09',\n",
       "       '2015-04-26', '2019-02-09', '2019-08-16', '2017-07-01',\n",
       "       '2017-09-19', '2010-10-04', '2010-12-21'], dtype=object)"
      ]
     },
     "execution_count": 26,
     "metadata": {},
     "output_type": "execute_result"
    }
   ],
   "source": [
    "# 3. Observe the Year range\n",
    "combined_df['Year'].unique()"
   ]
  },
  {
   "cell_type": "code",
   "execution_count": 27,
   "id": "9712ee70",
   "metadata": {},
   "outputs": [
    {
     "name": "stdout",
     "output_type": "stream",
     "text": [
      "[1983, 1985, 1986, 1987, 1988, 1989, 1990, 1991, 1992, 1993, 1994, 1995, 1996, 1997, 1998, 1999, 2000, 2001, 2002, 2003, 2004, 2005, 2006, 2007, 2008, 2009, 2010, 2011, 2012, 2013, 2014, 2015, 2016, 2017, 2018, 2019, 2020]\n"
     ]
    }
   ],
   "source": [
    "# format the year columns\n",
    "# year remove some date, only keep year\n",
    "combined_df[\"Year\"] =  pd.to_datetime(combined_df[\"Year\"]).dt.year\n",
    "# observe new column values\n",
    "years=combined_df['Year'].unique()\n",
    "print(sorted(years))"
   ]
  },
  {
   "cell_type": "code",
   "execution_count": 28,
   "id": "bab1a3be",
   "metadata": {},
   "outputs": [],
   "source": [
    "# 4. format sex, only filter the \"Total in sex column\"\n",
    "combined_df[\"Sex\"] = combined_df[\"Sex\"].str[1]\n",
    "combined_df=combined_df[combined_df[\"Sex\"]=='T']\n"
   ]
  },
  {
   "cell_type": "code",
   "execution_count": 29,
   "id": "c7fe14d9",
   "metadata": {
    "scrolled": true
   },
   "outputs": [
    {
     "name": "stdout",
     "output_type": "stream",
     "text": [
      "There is a total of 709 countries in the dataset.\n"
     ]
    },
    {
     "data": {
      "text/html": [
       "<div>\n",
       "<style scoped>\n",
       "    .dataframe tbody tr th:only-of-type {\n",
       "        vertical-align: middle;\n",
       "    }\n",
       "\n",
       "    .dataframe tbody tr th {\n",
       "        vertical-align: top;\n",
       "    }\n",
       "\n",
       "    .dataframe thead th {\n",
       "        text-align: right;\n",
       "    }\n",
       "</style>\n",
       "<table border=\"1\" class=\"dataframe\">\n",
       "  <thead>\n",
       "    <tr style=\"text-align: right;\">\n",
       "      <th></th>\n",
       "      <th>ISO Code</th>\n",
       "      <th>Country Name</th>\n",
       "      <th>Sex</th>\n",
       "      <th>Year</th>\n",
       "      <th>Overweight_percent</th>\n",
       "      <th>Waste_total_percent</th>\n",
       "      <th>Stunt_total_percent</th>\n",
       "    </tr>\n",
       "  </thead>\n",
       "  <tbody>\n",
       "    <tr>\n",
       "      <th>1623</th>\n",
       "      <td>NGA</td>\n",
       "      <td>Nigeria</td>\n",
       "      <td>T</td>\n",
       "      <td>2020</td>\n",
       "      <td>1.6</td>\n",
       "      <td>7.9</td>\n",
       "      <td>43.5</td>\n",
       "    </tr>\n",
       "    <tr>\n",
       "      <th>732</th>\n",
       "      <td>GMB</td>\n",
       "      <td>Gambia</td>\n",
       "      <td>T</td>\n",
       "      <td>2020</td>\n",
       "      <td>2.1</td>\n",
       "      <td>5.7</td>\n",
       "      <td>21.0</td>\n",
       "    </tr>\n",
       "    <tr>\n",
       "      <th>2027</th>\n",
       "      <td>PSE</td>\n",
       "      <td>State of Palestine</td>\n",
       "      <td>T</td>\n",
       "      <td>2020</td>\n",
       "      <td>8.6</td>\n",
       "      <td>1.9</td>\n",
       "      <td>11.1</td>\n",
       "    </tr>\n",
       "    <tr>\n",
       "      <th>1835</th>\n",
       "      <td>RWA</td>\n",
       "      <td>Rwanda</td>\n",
       "      <td>T</td>\n",
       "      <td>2020</td>\n",
       "      <td>5.6</td>\n",
       "      <td>1.3</td>\n",
       "      <td>42.3</td>\n",
       "    </tr>\n",
       "    <tr>\n",
       "      <th>1937</th>\n",
       "      <td>SLE</td>\n",
       "      <td>Sierra Leone</td>\n",
       "      <td>T</td>\n",
       "      <td>2019</td>\n",
       "      <td>4.5</td>\n",
       "      <td>6.5</td>\n",
       "      <td>40.2</td>\n",
       "    </tr>\n",
       "  </tbody>\n",
       "</table>\n",
       "</div>"
      ],
      "text/plain": [
       "     ISO Code        Country Name Sex  Year  Overweight_percent  \\\n",
       "1623      NGA             Nigeria   T  2020                 1.6   \n",
       "732       GMB              Gambia   T  2020                 2.1   \n",
       "2027      PSE  State of Palestine   T  2020                 8.6   \n",
       "1835      RWA              Rwanda   T  2020                 5.6   \n",
       "1937      SLE        Sierra Leone   T  2019                 4.5   \n",
       "\n",
       "      Waste_total_percent  Stunt_total_percent  \n",
       "1623                  7.9                 43.5  \n",
       "732                   5.7                 21.0  \n",
       "2027                  1.9                 11.1  \n",
       "1835                  1.3                 42.3  \n",
       "1937                  6.5                 40.2  "
      ]
     },
     "metadata": {},
     "output_type": "display_data"
    }
   ],
   "source": [
    "# sort df in year\n",
    "combined_df=combined_df.sort_values(by='Year',ascending=False)\n",
    "combined_df.dropna(inplace=True) #drop NaN\n",
    "\n",
    "print('There is a total of '+ str(len(combined_df)) +' countries in the dataset.')\n",
    "display(combined_df[:5])"
   ]
  },
  {
   "cell_type": "code",
   "execution_count": 30,
   "id": "724992c2",
   "metadata": {
    "scrolled": false
   },
   "outputs": [
    {
     "data": {
      "text/html": [
       "<div>\n",
       "<style scoped>\n",
       "    .dataframe tbody tr th:only-of-type {\n",
       "        vertical-align: middle;\n",
       "    }\n",
       "\n",
       "    .dataframe tbody tr th {\n",
       "        vertical-align: top;\n",
       "    }\n",
       "\n",
       "    .dataframe thead th {\n",
       "        text-align: right;\n",
       "    }\n",
       "</style>\n",
       "<table border=\"1\" class=\"dataframe\">\n",
       "  <thead>\n",
       "    <tr style=\"text-align: right;\">\n",
       "      <th></th>\n",
       "      <th>ISO Code</th>\n",
       "      <th>Country Name</th>\n",
       "      <th>Sex</th>\n",
       "      <th>Year</th>\n",
       "      <th>Overweight_percent</th>\n",
       "      <th>Waste_total_percent</th>\n",
       "      <th>Stunt_total_percent</th>\n",
       "      <th>Mean</th>\n",
       "    </tr>\n",
       "  </thead>\n",
       "  <tbody>\n",
       "    <tr>\n",
       "      <th>1623</th>\n",
       "      <td>NGA</td>\n",
       "      <td>Nigeria</td>\n",
       "      <td>T</td>\n",
       "      <td>2020</td>\n",
       "      <td>1.6</td>\n",
       "      <td>7.9</td>\n",
       "      <td>43.5</td>\n",
       "      <td>17.666667</td>\n",
       "    </tr>\n",
       "    <tr>\n",
       "      <th>732</th>\n",
       "      <td>GMB</td>\n",
       "      <td>Gambia</td>\n",
       "      <td>T</td>\n",
       "      <td>2020</td>\n",
       "      <td>2.1</td>\n",
       "      <td>5.7</td>\n",
       "      <td>21.0</td>\n",
       "      <td>9.600000</td>\n",
       "    </tr>\n",
       "    <tr>\n",
       "      <th>2027</th>\n",
       "      <td>PSE</td>\n",
       "      <td>State of Palestine</td>\n",
       "      <td>T</td>\n",
       "      <td>2020</td>\n",
       "      <td>8.6</td>\n",
       "      <td>1.9</td>\n",
       "      <td>11.1</td>\n",
       "      <td>7.200000</td>\n",
       "    </tr>\n",
       "    <tr>\n",
       "      <th>1835</th>\n",
       "      <td>RWA</td>\n",
       "      <td>Rwanda</td>\n",
       "      <td>T</td>\n",
       "      <td>2020</td>\n",
       "      <td>5.6</td>\n",
       "      <td>1.3</td>\n",
       "      <td>42.3</td>\n",
       "      <td>16.400000</td>\n",
       "    </tr>\n",
       "    <tr>\n",
       "      <th>1937</th>\n",
       "      <td>SLE</td>\n",
       "      <td>Sierra Leone</td>\n",
       "      <td>T</td>\n",
       "      <td>2019</td>\n",
       "      <td>4.5</td>\n",
       "      <td>6.5</td>\n",
       "      <td>40.2</td>\n",
       "      <td>17.066667</td>\n",
       "    </tr>\n",
       "  </tbody>\n",
       "</table>\n",
       "</div>"
      ],
      "text/plain": [
       "     ISO Code        Country Name Sex  Year  Overweight_percent  \\\n",
       "1623      NGA             Nigeria   T  2020                 1.6   \n",
       "732       GMB              Gambia   T  2020                 2.1   \n",
       "2027      PSE  State of Palestine   T  2020                 8.6   \n",
       "1835      RWA              Rwanda   T  2020                 5.6   \n",
       "1937      SLE        Sierra Leone   T  2019                 4.5   \n",
       "\n",
       "      Waste_total_percent  Stunt_total_percent       Mean  \n",
       "1623                  7.9                 43.5  17.666667  \n",
       "732                   5.7                 21.0   9.600000  \n",
       "2027                  1.9                 11.1   7.200000  \n",
       "1835                  1.3                 42.3  16.400000  \n",
       "1937                  6.5                 40.2  17.066667  "
      ]
     },
     "execution_count": 30,
     "metadata": {},
     "output_type": "execute_result"
    }
   ],
   "source": [
    "# create a new column of malnutrition score for mean of the five malnutrition factor\n",
    "combined_df['Mean']=combined_df.iloc[:,4:9].mean(axis=1)\n",
    "combined_df.head(5)"
   ]
  },
  {
   "cell_type": "markdown",
   "id": "86338925",
   "metadata": {},
   "source": [
    "## 3. Creating Visualizations"
   ]
  },
  {
   "cell_type": "code",
   "execution_count": 31,
   "id": "ab17459c",
   "metadata": {
    "scrolled": false
   },
   "outputs": [
    {
     "data": {
      "image/png": "[encoded data removed]",
      "text/plain": [
       "<Figure size 1080x720 with 4 Axes>"
      ]
     },
     "metadata": {
      "needs_background": "light"
     },
     "output_type": "display_data"
    }
   ],
   "source": [
    "# now observe overweight/waste/stunt \n",
    "fig, axis = plt.subplots(2,2) \n",
    "fig.suptitle(\"World's Children Malnutrition Histogram\")\n",
    "\n",
    "# Mean\n",
    "axis[0,0].hist(combined_df['Mean'],bins=30,color='deepskyblue')\n",
    "axis[0,0].set_title(\"Mean\")\n",
    "# Overweight\n",
    "axis[0,1].hist(combined_df['Overweight_percent'],bins=30,color='deepskyblue')\n",
    "axis[0,1].set_title(\"Overweight\")\n",
    "# Waste\n",
    "axis[1,0].hist(combined_df['Waste_total_percent'],bins=30,color='deepskyblue')\n",
    "axis[1,0].set_title(\"Waste\")\n",
    "# Stunt\n",
    "axis[1,1].hist(combined_df['Stunt_total_percent'],bins=30,color='deepskyblue')\n",
    "axis[1,1].set_title(\"Stunt\")\n",
    "\n",
    "fig.set_size_inches(15, 10)\n",
    "plt.show()\n"
   ]
  },
  {
   "cell_type": "code",
   "execution_count": 32,
   "id": "4f7c8eab",
   "metadata": {},
   "outputs": [
    {
     "data": {
      "image/png": "[encoded data removed]",
      "text/plain": [
       "<Figure size 1080x720 with 4 Axes>"
      ]
     },
     "metadata": {
      "needs_background": "light"
     },
     "output_type": "display_data"
    }
   ],
   "source": [
    "# now observe overweight/waste/stunt \n",
    "fig, axis2 = plt.subplots(2,2) \n",
    "fig.suptitle(\"World's Children Malnutrition Boxplot\")\n",
    "\n",
    "# Mean\n",
    "axis2[0,0].boxplot(combined_df['Mean'])\n",
    "axis2[0,0].set_title(\"Mean\")\n",
    "\n",
    "# Overweight\n",
    "axis2[0,1].boxplot(combined_df['Overweight_percent'])\n",
    "axis2[0,1].set_title(\"Overweight\")\n",
    "\n",
    "# Waste\n",
    "axis2[1,0].boxplot(combined_df['Waste_total_percent'])\n",
    "axis2[1,0].set_title(\"Waste\")\n",
    "\n",
    "# Stunt\n",
    "axis2[1,1].boxplot(combined_df['Stunt_total_percent'])\n",
    "axis2[1,1].set_title(\"Stunt\")\n",
    "\n",
    "fig.set_size_inches(15, 10)\n",
    "plt.show()\n"
   ]
  },
  {
   "cell_type": "code",
   "execution_count": 33,
   "id": "fd563411",
   "metadata": {
    "scrolled": true
   },
   "outputs": [
    {
     "data": {
      "image/png": "[encoded data removed]",
      "text/plain": [
       "<Figure size 576x576 with 2 Axes>"
      ]
     },
     "metadata": {
      "needs_background": "light"
     },
     "output_type": "display_data"
    }
   ],
   "source": [
    "# observe correlation map\n",
    "corr = combined_df.corr() # train is a pandas dataframe \n",
    "plt.figure(figsize = (8, 8))\n",
    "heatmap(corr, cmap = 'Blues',annot=True)\n",
    "plt.title('Correlation heatmap for all malnutrition types')\n",
    "plt.show()"
   ]
  },
  {
   "cell_type": "code",
   "execution_count": 34,
   "id": "bd5ba62b",
   "metadata": {
    "scrolled": true
   },
   "outputs": [
    {
     "ename": "NameError",
     "evalue": "name 'cubic_interploation_model' is not defined",
     "output_type": "error",
     "traceback": [
      "\u001b[1;31m---------------------------------------------------------------------------\u001b[0m",
      "\u001b[1;31mNameError\u001b[0m                                 Traceback (most recent call last)",
      "\u001b[1;32m~\\AppData\\Local\\Temp/ipykernel_15748/530653740.py\u001b[0m in \u001b[0;36m<module>\u001b[1;34m\u001b[0m\n\u001b[0;32m     17\u001b[0m \u001b[0mcubic_interploation_model2\u001b[0m \u001b[1;33m=\u001b[0m \u001b[0minterp1d\u001b[0m\u001b[1;33m(\u001b[0m\u001b[0mx\u001b[0m\u001b[1;33m,\u001b[0m \u001b[0my3\u001b[0m\u001b[1;33m,\u001b[0m \u001b[0mkind\u001b[0m \u001b[1;33m=\u001b[0m \u001b[1;34m\"cubic\"\u001b[0m\u001b[1;33m)\u001b[0m\u001b[1;33m\u001b[0m\u001b[1;33m\u001b[0m\u001b[0m\n\u001b[0;32m     18\u001b[0m \u001b[1;33m\u001b[0m\u001b[0m\n\u001b[1;32m---> 19\u001b[1;33m \u001b[0my1_\u001b[0m\u001b[1;33m=\u001b[0m\u001b[0mcubic_interploation_model\u001b[0m\u001b[1;33m(\u001b[0m\u001b[0mX_\u001b[0m\u001b[1;33m)\u001b[0m\u001b[1;33m\u001b[0m\u001b[1;33m\u001b[0m\u001b[0m\n\u001b[0m\u001b[0;32m     20\u001b[0m \u001b[0my2_\u001b[0m\u001b[1;33m=\u001b[0m\u001b[0mcubic_interploation_model\u001b[0m\u001b[1;33m(\u001b[0m\u001b[0mX_\u001b[0m\u001b[1;33m)\u001b[0m\u001b[1;33m\u001b[0m\u001b[1;33m\u001b[0m\u001b[0m\n\u001b[0;32m     21\u001b[0m \u001b[0my3_\u001b[0m\u001b[1;33m=\u001b[0m\u001b[0mcubic_interploation_model\u001b[0m\u001b[1;33m(\u001b[0m\u001b[0mX_\u001b[0m\u001b[1;33m)\u001b[0m\u001b[1;33m\u001b[0m\u001b[1;33m\u001b[0m\u001b[0m\n",
      "\u001b[1;31mNameError\u001b[0m: name 'cubic_interploation_model' is not defined"
     ]
    }
   ],
   "source": [
    "# Now Observe US first\n",
    "country_df=combined_df.copy()\n",
    "country_df.index = country_df[\"ISO Code\"] #make the iso code as index \n",
    "\n",
    "\n",
    "# using interploation model to smooth the graph\n",
    "\n",
    "x=country_df.loc['USA']['Year']\n",
    "y1=country_df.loc['USA']['Overweight_percent']\n",
    "y2=country_df.loc['USA']['Waste_total_percent']\n",
    "y3=country_df.loc['USA']['Stunt_total_percent']\n",
    " \n",
    "# Plotting the Graph\n",
    "X_=np.linspace(x.min(), x.max(),500)\n",
    "cubic_interploation_model1 = interp1d(x, y1, kind = \"cubic\")\n",
    "cubic_interploation_model2 = interp1d(x, y2, kind = \"cubic\")\n",
    "cubic_interploation_model2 = interp1d(x, y3, kind = \"cubic\")\n",
    "\n",
    "y1_=cubic_interploation_model(X_)\n",
    "y2_=cubic_interploation_model(X_)\n",
    "y3_=cubic_interploation_model(X_)\n",
    "\n",
    "plt.plot(X_,y1_)\n",
    "plt.plot(X_,y2_)\n",
    "plt.plot(X_,y3_)\n",
    "\n",
    "plt.show()\n",
    "plt.title('US malnutrition data')\n",
    "#plt.show()\n"
   ]
  },
  {
   "cell_type": "code",
   "execution_count": null,
   "id": "26dff709",
   "metadata": {},
   "outputs": [],
   "source": [
    "country_df.loc['USA'].plot(x='Year', y=['Overweight_percent','Waste_total_percent','Stunt_total_percent'])\n",
    "plt.title('US Children Malnutrition')\n",
    "plt.legend(loc='center left', bbox_to_anchor=(1, 0.5))\n",
    "plt.show()\n"
   ]
  },
  {
   "cell_type": "code",
   "execution_count": null,
   "id": "db5cf88f",
   "metadata": {},
   "outputs": [],
   "source": [
    "# US has lower stunt and waste ratio but higher overweight problem for children under 5"
   ]
  },
  {
   "cell_type": "code",
   "execution_count": null,
   "id": "72a39477",
   "metadata": {},
   "outputs": [],
   "source": [
    "# groupby countries, find the country with highest mean malnutrition value\n",
    "# we want to filter the country with reports from two years or more\n",
    "country_count=combined_df.groupby(by=['ISO Code','Country Name'],as_index=False).count()\n",
    "country_count.rename(columns={'Mean':'Count'},inplace=True)\n",
    "country_count=country_count[country_count['Count']>=2]\n",
    "country_count=country_count[['ISO Code','Count']]\n",
    "display(country_count[:3])\n"
   ]
  },
  {
   "cell_type": "code",
   "execution_count": null,
   "id": "66de99a8",
   "metadata": {},
   "outputs": [],
   "source": [
    "#country_rank.sort_values(by='Mean',ascending=True,inplace=True)\n",
    "country_rank=combined_df.groupby(by=['ISO Code','Country Name'],as_index=False).mean()\n",
    "country_rank=country_rank.merge(country_count,how='inner',on='ISO Code')\n",
    "country_rank=country_rank.sort_values(by='Mean')\n",
    "display(country_rank[:3])"
   ]
  },
  {
   "cell_type": "code",
   "execution_count": null,
   "id": "03f12c97",
   "metadata": {},
   "outputs": [],
   "source": [
    "# keep a record of the top 5 and bot 5 country with S&W mean for observation\n",
    "top5=country_rank[:5]['Country Name'].tolist()\n",
    "display(top5)\n",
    "# the five country with least percentages of Stunt & Waste mean\n"
   ]
  },
  {
   "cell_type": "code",
   "execution_count": null,
   "id": "5125bed3",
   "metadata": {
    "scrolled": true
   },
   "outputs": [],
   "source": [
    "top5ISO=country_rank[:5]['ISO Code'].tolist()\n",
    "display(top5ISO)\n",
    "# 5 countries' corresponding iso code\n"
   ]
  },
  {
   "cell_type": "code",
   "execution_count": null,
   "id": "03c0996a",
   "metadata": {},
   "outputs": [],
   "source": [
    "display(country_df.loc['EST'])\n",
    "display(combined_df[combined_df['ISO Code']=='EST'])\n"
   ]
  },
  {
   "cell_type": "code",
   "execution_count": null,
   "id": "a5e4a57a",
   "metadata": {
    "scrolled": true
   },
   "outputs": [],
   "source": [
    "# Plot graphs to observe the trend for each malnutrition problem at country level for top 5 countries\n",
    "\n",
    "for c in zip(top5,top5ISO):\n",
    "    country_df.loc[c[1]].plot(x='Year', y=['Overweight_percent','Waste_total_percent','Stunt_total_percent'])\n",
    "    plt.legend(loc='center left', bbox_to_anchor=(1, 0.5))\n",
    "    plt.title(c[0])\n",
    "plt.show()\n"
   ]
  },
  {
   "cell_type": "code",
   "execution_count": null,
   "id": "b3c769cb",
   "metadata": {},
   "outputs": [],
   "source": [
    "bot5=country_rank[-5:]['Country Name'].tolist()\n",
    "display(bot5) # the five country with high percentages of Stunt & Waste mean\n"
   ]
  },
  {
   "cell_type": "code",
   "execution_count": null,
   "id": "ba068575",
   "metadata": {},
   "outputs": [],
   "source": [
    "bot5ISO=country_rank[-5:]['ISO Code'].tolist()\n",
    "display(bot5ISO)"
   ]
  },
  {
   "cell_type": "code",
   "execution_count": null,
   "id": "d451db80",
   "metadata": {
    "scrolled": false
   },
   "outputs": [],
   "source": [
    "fig, ax = plt.subplots()\n",
    "for c in zip(bot5,bot5ISO):\n",
    "    #print(c)\n",
    "    country_df.loc[c[1]].plot(x='Year', y=['Overweight_percent','Waste_total_percent','Stunt_total_percent'])\n",
    "    plt.legend(loc='center left', bbox_to_anchor=(1, 0.5))\n",
    "    plt.title(c[0])\n",
    "plt.show()\n"
   ]
  },
  {
   "cell_type": "markdown",
   "id": "206866bf",
   "metadata": {},
   "source": [
    "### Continent Analysis"
   ]
  },
  {
   "cell_type": "code",
   "execution_count": null,
   "id": "541ee06b",
   "metadata": {},
   "outputs": [],
   "source": [
    "continent = pd.read_csv(\"countryContinent.csv\")\n",
    "\n",
    "continent = continent[[\"country\", \"continent\"]]\n",
    "\n",
    "joined = country_rank.merge(continent, left_on = \"Country Name\", right_on = \"country\")\n",
    "\n",
    "joined = joined.drop(columns = \"country\")"
   ]
  },
  {
   "cell_type": "code",
   "execution_count": null,
   "id": "aa39db8b",
   "metadata": {},
   "outputs": [],
   "source": [
    "display(joined[:3])"
   ]
  },
  {
   "cell_type": "code",
   "execution_count": null,
   "id": "9a2e86fc",
   "metadata": {},
   "outputs": [],
   "source": [
    "by_continent = joined.groupby([\"Year\", \"continent\"], as_index = False).mean()\n",
    "\n",
    "display(by_continent[:3])"
   ]
  },
  {
   "cell_type": "code",
   "execution_count": null,
   "id": "941ae548",
   "metadata": {},
   "outputs": [],
   "source": [
    "sns.lineplot(x=\"Year\", y=\"Mean\",\n",
    "             hue=\"continent\",data=by_continent, palette=\"husl\", lw = 3).set(title = \"% of Under 5 Year-Old with Wasting\")\n",
    "\n",
    "sns.set(rc={'figure.figsize':(15,6)})\n",
    "\n",
    "sns.set_style(\"white\")"
   ]
  },
  {
   "cell_type": "markdown",
   "id": "b0e0a3fe",
   "metadata": {},
   "source": [
    "### Covid Analysis"
   ]
  },
  {
   "cell_type": "code",
   "execution_count": null,
   "id": "479162f2",
   "metadata": {},
   "outputs": [],
   "source": [
    "# combine with COVID"
   ]
  },
  {
   "cell_type": "code",
   "execution_count": null,
   "id": "5b5e477a",
   "metadata": {},
   "outputs": [],
   "source": [
    "###### \n",
    "# Download covid vaccine rate data to covid_data from https://ourworldindata.org/covid-vaccinations\n",
    "covid_data=pd.read_csv(\"owid-covid-data.csv\")\n",
    "covid_data.tail(5)"
   ]
  },
  {
   "cell_type": "code",
   "execution_count": null,
   "id": "fb9cc0ba",
   "metadata": {},
   "outputs": [],
   "source": [
    "#before 12/31/2020, the total number of cases for each countries\n",
    "covid_data=covid_data[covid_data['date']<'2021-01-01']\n",
    "covid_2020=covid_data.groupby(by='iso_code').max()\n",
    "display(covid_2020[:5])\n"
   ]
  },
  {
   "cell_type": "code",
   "execution_count": null,
   "id": "34447f8d",
   "metadata": {},
   "outputs": [],
   "source": [
    "norm_covid_2020=covid_2020.copy()\n",
    "# since cases number varies alot, apply z-score standardlization to total_cases column to normalize the case number\n",
    "norm_covid_2020=norm_covid_2020.sort_values(by='total_cases')\n",
    "norm_covid_2020['norm_total_cases'] = (norm_covid_2020['total_cases'] - norm_covid_2020['total_cases'].mean())\\\n",
    "                                    / (norm_covid_2020['total_cases'].std())    \n",
    "\n",
    "display(norm_covid_2020)\n",
    "\n"
   ]
  },
  {
   "cell_type": "code",
   "execution_count": null,
   "id": "361e6ae7",
   "metadata": {},
   "outputs": [],
   "source": [
    "#Observed the world data on last row, remove for outlier data point\n",
    "norm_covid_2020=norm_covid_2020[:-1] \n",
    "display(norm_covid_2020)\n",
    "plt.hist(norm_covid_2020['norm_total_cases'],bins=50)\n",
    "plt.show()\n"
   ]
  },
  {
   "cell_type": "markdown",
   "id": "db43ea24",
   "metadata": {},
   "source": [
    "#### Highest % of COVID deaths in the world"
   ]
  },
  {
   "cell_type": "code",
   "execution_count": null,
   "id": "d423ec78",
   "metadata": {},
   "outputs": [],
   "source": [
    "covid = pd.read_csv(\"owid-covid-data.csv\")[[\"location\", \"date\", \"new_deaths\"]]\n",
    "\n",
    "covid[\"date\"] = pd.to_datetime(covid[\"date\"]).dt.year\n",
    "\n",
    "top_10_covid = covid.groupby([\"location\", \"date\"], as_index = False).sum()\n",
    "\n",
    "display(top_10_covid[:3])"
   ]
  },
  {
   "cell_type": "code",
   "execution_count": null,
   "id": "800ca429",
   "metadata": {},
   "outputs": [],
   "source": [
    "worldpop = pd.read_csv(\"Worldpop.csv\")\n",
    "\n",
    "worldpop[\"PopTotal\"] = worldpop[\"PopTotal\"].astype(int)\n",
    "\n",
    "display(worldpop[:3])"
   ]
  },
  {
   "cell_type": "markdown",
   "id": "30459694",
   "metadata": {},
   "source": [
    "Join total population to covid deaths for comparison"
   ]
  },
  {
   "cell_type": "code",
   "execution_count": null,
   "id": "02d4f329",
   "metadata": {},
   "outputs": [],
   "source": [
    "top_10_covid = worldpop.merge(top_10_covid, left_on = [\"Location\", \"Time\"], right_on = [\"location\", \"date\"])\n",
    "\n",
    "top_10_covid = top_10_covid.drop(columns = [\"date\", \"location\"])"
   ]
  },
  {
   "cell_type": "code",
   "execution_count": null,
   "id": "f6d8c92b",
   "metadata": {},
   "outputs": [],
   "source": [
    "display(top_10_covid[:3])"
   ]
  },
  {
   "cell_type": "code",
   "execution_count": null,
   "id": "77084062",
   "metadata": {},
   "outputs": [],
   "source": [
    "# population total in 1000's \n",
    "\n",
    "top_10_covid[\"deaths percentage\"] = (top_10_covid[\"new_deaths\"]/(top_10_covid[\"PopTotal\"]*1000))\n",
    "\n",
    "top_10_covid = top_10_covid[top_10_covid[\"Location\"] != \"World\"]\n",
    "\n",
    "covid_countries = top_10_covid.sort_values(by = \"deaths percentage\", ascending = False)"
   ]
  },
  {
   "cell_type": "code",
   "execution_count": null,
   "id": "d113a3b1",
   "metadata": {},
   "outputs": [],
   "source": [
    "covid_countries = covid_countries[:10]\n",
    "\n",
    "display(covid_countries[:3])"
   ]
  },
  {
   "cell_type": "code",
   "execution_count": null,
   "id": "e9d14e61",
   "metadata": {},
   "outputs": [],
   "source": [
    "covid_trend = top_10_covid[top_10_covid[\"Location\"].isin(covid_countries[\"Location\"].unique())]\n",
    "\n",
    "display(covid_trend[:3])"
   ]
  },
  {
   "cell_type": "code",
   "execution_count": null,
   "id": "31623ff8",
   "metadata": {},
   "outputs": [],
   "source": [
    "sns.lineplot(x=\"Time\", y=\"deaths percentage\",\n",
    "             hue=\"Location\",data=covid_trend, palette=\"Set2\", lw =3).set(title = \"Countries with highest Covid-19 % of Deaths\")\n",
    "\n",
    "sns.set(rc={'figure.figsize':(15,6)})\n",
    "\n",
    "sns.set_style(\"white\")"
   ]
  },
  {
   "cell_type": "code",
   "execution_count": null,
   "id": "39abc46e",
   "metadata": {},
   "outputs": [],
   "source": [
    "# countries with most covid deaths \n",
    "continent = pd.read_csv(\"countryContinent.csv\")\n",
    "\n",
    "continent = continent[[\"country\", \"continent\"]]\n",
    "\n",
    "covid_deaths = covid_trend.merge(continent, left_on = \"Location\", right_on = \"country\")\n",
    "\n",
    "covid_deaths = covid_deaths.drop(columns = [\"country\"])\n",
    "\n",
    "display(covid_deaths[\"continent\"].unique())"
   ]
  },
  {
   "cell_type": "code",
   "execution_count": null,
   "id": "6685767f",
   "metadata": {},
   "outputs": [],
   "source": []
  }
 ],
 "metadata": {
  "kernelspec": {
   "display_name": "Python 3 (ipykernel)",
   "language": "python",
   "name": "python3"
  },
  "language_info": {
   "codemirror_mode": {
    "name": "ipython",
    "version": 3
   },
   "file_extension": ".py",
   "mimetype": "text/x-python",
   "name": "python",
   "nbconvert_exporter": "python",
   "pygments_lexer": "ipython3",
   "version": "3.10.1"
  }
 },
 "nbformat": 4,
 "nbformat_minor": 5
}
